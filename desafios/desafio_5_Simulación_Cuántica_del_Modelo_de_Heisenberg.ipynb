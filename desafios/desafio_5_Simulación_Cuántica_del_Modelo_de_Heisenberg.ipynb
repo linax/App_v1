{
  "cells": [
    {
      "cell_type": "code",
      "execution_count": 1,
      "metadata": {
        "colab": {
          "base_uri": "https://localhost:8080/"
        },
        "id": "56JEGJ4ckyQu",
        "outputId": "2edd50d4-6644-4742-c4c6-e3220284cf83"
      },
      "outputs": [
        {
          "output_type": "stream",
          "name": "stdout",
          "text": [
            "Collecting git+https://github.com/MIROptics/ECC2025.git\n",
            "  Cloning https://github.com/MIROptics/ECC2025.git to /tmp/pip-req-build-f613vv5s\n",
            "  Running command git clone --filter=blob:none --quiet https://github.com/MIROptics/ECC2025.git /tmp/pip-req-build-f613vv5s\n",
            "  Resolved https://github.com/MIROptics/ECC2025.git to commit fbce3de20ed6db9c0d6863c8bf802c9a4b2eb0a2\n",
            "  Preparing metadata (setup.py) ... \u001b[?25l\u001b[?25hdone\n",
            "Requirement already satisfied: numpy in /usr/local/lib/python3.10/dist-packages (from ECC2025==0.1.8) (1.26.4)\n",
            "Requirement already satisfied: scipy in /usr/local/lib/python3.10/dist-packages (from ECC2025==0.1.8) (1.13.1)\n",
            "Collecting qiskit (from ECC2025==0.1.8)\n",
            "  Downloading qiskit-1.3.1-cp39-abi3-manylinux_2_17_x86_64.manylinux2014_x86_64.whl.metadata (12 kB)\n",
            "Collecting qiskit_ibm_runtime (from ECC2025==0.1.8)\n",
            "  Downloading qiskit_ibm_runtime-0.34.0-py3-none-any.whl.metadata (3.0 kB)\n",
            "Collecting qiskit_aer (from ECC2025==0.1.8)\n",
            "  Downloading qiskit_aer-0.15.1-cp310-cp310-manylinux_2_17_x86_64.manylinux2014_x86_64.whl.metadata (8.0 kB)\n",
            "Collecting pylatexenc (from ECC2025==0.1.8)\n",
            "  Downloading pylatexenc-2.10.tar.gz (162 kB)\n",
            "\u001b[2K     \u001b[90m━━━━━━━━━━━━━━━━━━━━━━━━━━━━━━━━━━━━━━━━\u001b[0m \u001b[32m162.6/162.6 kB\u001b[0m \u001b[31m3.7 MB/s\u001b[0m eta \u001b[36m0:00:00\u001b[0m\n",
            "\u001b[?25h  Preparing metadata (setup.py) ... \u001b[?25l\u001b[?25hdone\n",
            "Requirement already satisfied: matplotlib in /usr/local/lib/python3.10/dist-packages (from ECC2025==0.1.8) (3.10.0)\n",
            "Requirement already satisfied: scikit-learn in /usr/local/lib/python3.10/dist-packages (from ECC2025==0.1.8) (1.6.0)\n",
            "Requirement already satisfied: pandas in /usr/local/lib/python3.10/dist-packages (from ECC2025==0.1.8) (2.2.2)\n",
            "Collecting qiskit_algorithms (from ECC2025==0.1.8)\n",
            "  Downloading qiskit_algorithms-0.3.1-py3-none-any.whl.metadata (4.2 kB)\n",
            "Requirement already satisfied: seaborn in /usr/local/lib/python3.10/dist-packages (from ECC2025==0.1.8) (0.13.2)\n",
            "Requirement already satisfied: tensorflow in /usr/local/lib/python3.10/dist-packages (from ECC2025==0.1.8) (2.17.1)\n",
            "Requirement already satisfied: keras in /usr/local/lib/python3.10/dist-packages (from ECC2025==0.1.8) (3.5.0)\n",
            "Collecting pyscf (from ECC2025==0.1.8)\n",
            "  Downloading pyscf-2.8.0-py3-none-manylinux_2_17_x86_64.manylinux2014_x86_64.whl.metadata (6.4 kB)\n",
            "Collecting qiskit_nature (from ECC2025==0.1.8)\n",
            "  Downloading qiskit_nature-0.7.2-py3-none-any.whl.metadata (8.0 kB)\n",
            "Collecting qiskit_machine_learning (from ECC2025==0.1.8)\n",
            "  Downloading qiskit_machine_learning-0.8.2-py3-none-any.whl.metadata (13 kB)\n",
            "Collecting qiskit_finance (from ECC2025==0.1.8)\n",
            "  Downloading qiskit_finance-0.4.1-py3-none-any.whl.metadata (6.0 kB)\n",
            "Requirement already satisfied: absl-py in /usr/local/lib/python3.10/dist-packages (from keras->ECC2025==0.1.8) (1.4.0)\n",
            "Requirement already satisfied: rich in /usr/local/lib/python3.10/dist-packages (from keras->ECC2025==0.1.8) (13.9.4)\n",
            "Requirement already satisfied: namex in /usr/local/lib/python3.10/dist-packages (from keras->ECC2025==0.1.8) (0.0.8)\n",
            "Requirement already satisfied: h5py in /usr/local/lib/python3.10/dist-packages (from keras->ECC2025==0.1.8) (3.12.1)\n",
            "Requirement already satisfied: optree in /usr/local/lib/python3.10/dist-packages (from keras->ECC2025==0.1.8) (0.13.1)\n",
            "Requirement already satisfied: ml-dtypes in /usr/local/lib/python3.10/dist-packages (from keras->ECC2025==0.1.8) (0.4.1)\n",
            "Requirement already satisfied: packaging in /usr/local/lib/python3.10/dist-packages (from keras->ECC2025==0.1.8) (24.2)\n",
            "Requirement already satisfied: contourpy>=1.0.1 in /usr/local/lib/python3.10/dist-packages (from matplotlib->ECC2025==0.1.8) (1.3.1)\n",
            "Requirement already satisfied: cycler>=0.10 in /usr/local/lib/python3.10/dist-packages (from matplotlib->ECC2025==0.1.8) (0.12.1)\n",
            "Requirement already satisfied: fonttools>=4.22.0 in /usr/local/lib/python3.10/dist-packages (from matplotlib->ECC2025==0.1.8) (4.55.3)\n",
            "Requirement already satisfied: kiwisolver>=1.3.1 in /usr/local/lib/python3.10/dist-packages (from matplotlib->ECC2025==0.1.8) (1.4.8)\n",
            "Requirement already satisfied: pillow>=8 in /usr/local/lib/python3.10/dist-packages (from matplotlib->ECC2025==0.1.8) (11.1.0)\n",
            "Requirement already satisfied: pyparsing>=2.3.1 in /usr/local/lib/python3.10/dist-packages (from matplotlib->ECC2025==0.1.8) (3.2.1)\n",
            "Requirement already satisfied: python-dateutil>=2.7 in /usr/local/lib/python3.10/dist-packages (from matplotlib->ECC2025==0.1.8) (2.8.2)\n",
            "Requirement already satisfied: pytz>=2020.1 in /usr/local/lib/python3.10/dist-packages (from pandas->ECC2025==0.1.8) (2024.2)\n",
            "Requirement already satisfied: tzdata>=2022.7 in /usr/local/lib/python3.10/dist-packages (from pandas->ECC2025==0.1.8) (2024.2)\n",
            "Requirement already satisfied: setuptools in /usr/local/lib/python3.10/dist-packages (from pyscf->ECC2025==0.1.8) (75.1.0)\n",
            "Collecting rustworkx>=0.15.0 (from qiskit->ECC2025==0.1.8)\n",
            "  Downloading rustworkx-0.15.1-cp38-abi3-manylinux_2_17_x86_64.manylinux2014_x86_64.whl.metadata (9.9 kB)\n",
            "Requirement already satisfied: sympy>=1.3 in /usr/local/lib/python3.10/dist-packages (from qiskit->ECC2025==0.1.8) (1.13.1)\n",
            "Collecting dill>=0.3 (from qiskit->ECC2025==0.1.8)\n",
            "  Downloading dill-0.3.9-py3-none-any.whl.metadata (10 kB)\n",
            "Collecting stevedore>=3.0.0 (from qiskit->ECC2025==0.1.8)\n",
            "  Downloading stevedore-5.4.0-py3-none-any.whl.metadata (2.3 kB)\n",
            "Requirement already satisfied: typing-extensions in /usr/local/lib/python3.10/dist-packages (from qiskit->ECC2025==0.1.8) (4.12.2)\n",
            "Collecting symengine<0.14,>=0.11 (from qiskit->ECC2025==0.1.8)\n",
            "  Downloading symengine-0.13.0-cp310-cp310-manylinux_2_17_x86_64.manylinux2014_x86_64.whl.metadata (1.2 kB)\n",
            "Requirement already satisfied: psutil>=5 in /usr/local/lib/python3.10/dist-packages (from qiskit_aer->ECC2025==0.1.8) (5.9.5)\n",
            "Collecting qiskit-optimization>=0.6.0 (from qiskit_finance->ECC2025==0.1.8)\n",
            "  Downloading qiskit_optimization-0.6.1-py3-none-any.whl.metadata (8.6 kB)\n",
            "Collecting fastdtw (from qiskit_finance->ECC2025==0.1.8)\n",
            "  Downloading fastdtw-0.3.4.tar.gz (133 kB)\n",
            "\u001b[2K     \u001b[90m━━━━━━━━━━━━━━━━━━━━━━━━━━━━━━━━━━━━━━━━\u001b[0m \u001b[32m133.4/133.4 kB\u001b[0m \u001b[31m9.1 MB/s\u001b[0m eta \u001b[36m0:00:00\u001b[0m\n",
            "\u001b[?25h  Preparing metadata (setup.py) ... \u001b[?25l\u001b[?25hdone\n",
            "Collecting nasdaq-data-link (from qiskit_finance->ECC2025==0.1.8)\n",
            "  Downloading Nasdaq_Data_Link-1.0.4-py2.py3-none-any.whl.metadata (1.3 kB)\n",
            "Requirement already satisfied: yfinance>=0.1.70 in /usr/local/lib/python3.10/dist-packages (from qiskit_finance->ECC2025==0.1.8) (0.2.51)\n",
            "Requirement already satisfied: certifi in /usr/local/lib/python3.10/dist-packages (from qiskit_finance->ECC2025==0.1.8) (2024.12.14)\n",
            "Requirement already satisfied: urllib3 in /usr/local/lib/python3.10/dist-packages (from qiskit_finance->ECC2025==0.1.8) (2.3.0)\n",
            "Requirement already satisfied: requests>=2.19 in /usr/local/lib/python3.10/dist-packages (from qiskit_ibm_runtime->ECC2025==0.1.8) (2.32.3)\n",
            "Collecting requests-ntlm>=1.1.0 (from qiskit_ibm_runtime->ECC2025==0.1.8)\n",
            "  Downloading requests_ntlm-1.3.0-py3-none-any.whl.metadata (2.4 kB)\n",
            "Requirement already satisfied: websocket-client>=1.5.1 in /usr/local/lib/python3.10/dist-packages (from qiskit_ibm_runtime->ECC2025==0.1.8) (1.8.0)\n",
            "Collecting ibm-platform-services>=0.22.6 (from qiskit_ibm_runtime->ECC2025==0.1.8)\n",
            "  Downloading ibm_platform_services-0.59.1-py3-none-any.whl.metadata (9.0 kB)\n",
            "Collecting pydantic<2.10,>=2.5.0 (from qiskit_ibm_runtime->ECC2025==0.1.8)\n",
            "  Downloading pydantic-2.9.2-py3-none-any.whl.metadata (149 kB)\n",
            "\u001b[2K     \u001b[90m━━━━━━━━━━━━━━━━━━━━━━━━━━━━━━━━━━━━━━━━\u001b[0m \u001b[32m149.4/149.4 kB\u001b[0m \u001b[31m10.1 MB/s\u001b[0m eta \u001b[36m0:00:00\u001b[0m\n",
            "\u001b[?25hRequirement already satisfied: joblib>=1.2.0 in /usr/local/lib/python3.10/dist-packages (from scikit-learn->ECC2025==0.1.8) (1.4.2)\n",
            "Requirement already satisfied: threadpoolctl>=3.1.0 in /usr/local/lib/python3.10/dist-packages (from scikit-learn->ECC2025==0.1.8) (3.5.0)\n",
            "Requirement already satisfied: astunparse>=1.6.0 in /usr/local/lib/python3.10/dist-packages (from tensorflow->ECC2025==0.1.8) (1.6.3)\n",
            "Requirement already satisfied: flatbuffers>=24.3.25 in /usr/local/lib/python3.10/dist-packages (from tensorflow->ECC2025==0.1.8) (24.12.23)\n",
            "Requirement already satisfied: gast!=0.5.0,!=0.5.1,!=0.5.2,>=0.2.1 in /usr/local/lib/python3.10/dist-packages (from tensorflow->ECC2025==0.1.8) (0.6.0)\n",
            "Requirement already satisfied: google-pasta>=0.1.1 in /usr/local/lib/python3.10/dist-packages (from tensorflow->ECC2025==0.1.8) (0.2.0)\n",
            "Requirement already satisfied: libclang>=13.0.0 in /usr/local/lib/python3.10/dist-packages (from tensorflow->ECC2025==0.1.8) (18.1.1)\n",
            "Requirement already satisfied: opt-einsum>=2.3.2 in /usr/local/lib/python3.10/dist-packages (from tensorflow->ECC2025==0.1.8) (3.4.0)\n",
            "Requirement already satisfied: protobuf!=4.21.0,!=4.21.1,!=4.21.2,!=4.21.3,!=4.21.4,!=4.21.5,<5.0.0dev,>=3.20.3 in /usr/local/lib/python3.10/dist-packages (from tensorflow->ECC2025==0.1.8) (4.25.5)\n",
            "Requirement already satisfied: six>=1.12.0 in /usr/local/lib/python3.10/dist-packages (from tensorflow->ECC2025==0.1.8) (1.17.0)\n",
            "Requirement already satisfied: termcolor>=1.1.0 in /usr/local/lib/python3.10/dist-packages (from tensorflow->ECC2025==0.1.8) (2.5.0)\n",
            "Requirement already satisfied: wrapt>=1.11.0 in /usr/local/lib/python3.10/dist-packages (from tensorflow->ECC2025==0.1.8) (1.17.0)\n",
            "Requirement already satisfied: grpcio<2.0,>=1.24.3 in /usr/local/lib/python3.10/dist-packages (from tensorflow->ECC2025==0.1.8) (1.69.0)\n",
            "Requirement already satisfied: tensorboard<2.18,>=2.17 in /usr/local/lib/python3.10/dist-packages (from tensorflow->ECC2025==0.1.8) (2.17.1)\n",
            "Requirement already satisfied: tensorflow-io-gcs-filesystem>=0.23.1 in /usr/local/lib/python3.10/dist-packages (from tensorflow->ECC2025==0.1.8) (0.37.1)\n",
            "Requirement already satisfied: wheel<1.0,>=0.23.0 in /usr/local/lib/python3.10/dist-packages (from astunparse>=1.6.0->tensorflow->ECC2025==0.1.8) (0.45.1)\n",
            "Collecting ibm_cloud_sdk_core<4.0.0,>=3.22.0 (from ibm-platform-services>=0.22.6->qiskit_ibm_runtime->ECC2025==0.1.8)\n",
            "  Downloading ibm_cloud_sdk_core-3.22.1-py3-none-any.whl.metadata (8.6 kB)\n",
            "Requirement already satisfied: annotated-types>=0.6.0 in /usr/local/lib/python3.10/dist-packages (from pydantic<2.10,>=2.5.0->qiskit_ibm_runtime->ECC2025==0.1.8) (0.7.0)\n",
            "Collecting pydantic-core==2.23.4 (from pydantic<2.10,>=2.5.0->qiskit_ibm_runtime->ECC2025==0.1.8)\n",
            "  Downloading pydantic_core-2.23.4-cp310-cp310-manylinux_2_17_x86_64.manylinux2014_x86_64.whl.metadata (6.6 kB)\n",
            "Collecting docplex!=2.24.231,>=2.21.207 (from qiskit-optimization>=0.6.0->qiskit_finance->ECC2025==0.1.8)\n",
            "  Downloading docplex-2.29.241.tar.gz (645 kB)\n",
            "\u001b[2K     \u001b[90m━━━━━━━━━━━━━━━━━━━━━━━━━━━━━━━━━━━━━━━━\u001b[0m \u001b[32m645.5/645.5 kB\u001b[0m \u001b[31m12.3 MB/s\u001b[0m eta \u001b[36m0:00:00\u001b[0m\n",
            "\u001b[?25h  Installing build dependencies ... \u001b[?25l\u001b[?25hdone\n",
            "  Getting requirements to build wheel ... \u001b[?25l\u001b[?25hdone\n",
            "  Installing backend dependencies ... \u001b[?25l\u001b[?25hdone\n",
            "  Preparing metadata (pyproject.toml) ... \u001b[?25l\u001b[?25hdone\n",
            "Requirement already satisfied: networkx>=2.6.3 in /usr/local/lib/python3.10/dist-packages (from qiskit-optimization>=0.6.0->qiskit_finance->ECC2025==0.1.8) (3.4.2)\n",
            "Requirement already satisfied: charset-normalizer<4,>=2 in /usr/local/lib/python3.10/dist-packages (from requests>=2.19->qiskit_ibm_runtime->ECC2025==0.1.8) (3.4.1)\n",
            "Requirement already satisfied: idna<4,>=2.5 in /usr/local/lib/python3.10/dist-packages (from requests>=2.19->qiskit_ibm_runtime->ECC2025==0.1.8) (3.10)\n",
            "Requirement already satisfied: cryptography>=1.3 in /usr/local/lib/python3.10/dist-packages (from requests-ntlm>=1.1.0->qiskit_ibm_runtime->ECC2025==0.1.8) (43.0.3)\n",
            "Collecting pyspnego>=0.4.0 (from requests-ntlm>=1.1.0->qiskit_ibm_runtime->ECC2025==0.1.8)\n",
            "  Downloading pyspnego-0.11.2-py3-none-any.whl.metadata (5.4 kB)\n",
            "Collecting pbr>=2.0.0 (from stevedore>=3.0.0->qiskit->ECC2025==0.1.8)\n",
            "  Downloading pbr-6.1.0-py2.py3-none-any.whl.metadata (3.4 kB)\n",
            "Requirement already satisfied: mpmath<1.4,>=1.1.0 in /usr/local/lib/python3.10/dist-packages (from sympy>=1.3->qiskit->ECC2025==0.1.8) (1.3.0)\n",
            "Requirement already satisfied: markdown>=2.6.8 in /usr/local/lib/python3.10/dist-packages (from tensorboard<2.18,>=2.17->tensorflow->ECC2025==0.1.8) (3.7)\n",
            "Requirement already satisfied: tensorboard-data-server<0.8.0,>=0.7.0 in /usr/local/lib/python3.10/dist-packages (from tensorboard<2.18,>=2.17->tensorflow->ECC2025==0.1.8) (0.7.2)\n",
            "Requirement already satisfied: werkzeug>=1.0.1 in /usr/local/lib/python3.10/dist-packages (from tensorboard<2.18,>=2.17->tensorflow->ECC2025==0.1.8) (3.1.3)\n",
            "Requirement already satisfied: multitasking>=0.0.7 in /usr/local/lib/python3.10/dist-packages (from yfinance>=0.1.70->qiskit_finance->ECC2025==0.1.8) (0.0.11)\n",
            "Requirement already satisfied: lxml>=4.9.1 in /usr/local/lib/python3.10/dist-packages (from yfinance>=0.1.70->qiskit_finance->ECC2025==0.1.8) (5.3.0)\n",
            "Requirement already satisfied: platformdirs>=2.0.0 in /usr/local/lib/python3.10/dist-packages (from yfinance>=0.1.70->qiskit_finance->ECC2025==0.1.8) (4.3.6)\n",
            "Requirement already satisfied: frozendict>=2.3.4 in /usr/local/lib/python3.10/dist-packages (from yfinance>=0.1.70->qiskit_finance->ECC2025==0.1.8) (2.4.6)\n",
            "Requirement already satisfied: peewee>=3.16.2 in /usr/local/lib/python3.10/dist-packages (from yfinance>=0.1.70->qiskit_finance->ECC2025==0.1.8) (3.17.8)\n",
            "Requirement already satisfied: beautifulsoup4>=4.11.1 in /usr/local/lib/python3.10/dist-packages (from yfinance>=0.1.70->qiskit_finance->ECC2025==0.1.8) (4.12.3)\n",
            "Requirement already satisfied: html5lib>=1.1 in /usr/local/lib/python3.10/dist-packages (from yfinance>=0.1.70->qiskit_finance->ECC2025==0.1.8) (1.1)\n",
            "Collecting inflection>=0.3.1 (from nasdaq-data-link->qiskit_finance->ECC2025==0.1.8)\n",
            "  Downloading inflection-0.5.1-py2.py3-none-any.whl.metadata (1.7 kB)\n",
            "Requirement already satisfied: more-itertools in /usr/local/lib/python3.10/dist-packages (from nasdaq-data-link->qiskit_finance->ECC2025==0.1.8) (10.5.0)\n",
            "Requirement already satisfied: markdown-it-py>=2.2.0 in /usr/local/lib/python3.10/dist-packages (from rich->keras->ECC2025==0.1.8) (3.0.0)\n",
            "Requirement already satisfied: pygments<3.0.0,>=2.13.0 in /usr/local/lib/python3.10/dist-packages (from rich->keras->ECC2025==0.1.8) (2.18.0)\n",
            "Requirement already satisfied: soupsieve>1.2 in /usr/local/lib/python3.10/dist-packages (from beautifulsoup4>=4.11.1->yfinance>=0.1.70->qiskit_finance->ECC2025==0.1.8) (2.6)\n",
            "Requirement already satisfied: cffi>=1.12 in /usr/local/lib/python3.10/dist-packages (from cryptography>=1.3->requests-ntlm>=1.1.0->qiskit_ibm_runtime->ECC2025==0.1.8) (1.17.1)\n",
            "Requirement already satisfied: webencodings in /usr/local/lib/python3.10/dist-packages (from html5lib>=1.1->yfinance>=0.1.70->qiskit_finance->ECC2025==0.1.8) (0.5.1)\n",
            "Requirement already satisfied: PyJWT<3.0.0,>=2.8.0 in /usr/local/lib/python3.10/dist-packages (from ibm_cloud_sdk_core<4.0.0,>=3.22.0->ibm-platform-services>=0.22.6->qiskit_ibm_runtime->ECC2025==0.1.8) (2.10.1)\n",
            "Requirement already satisfied: mdurl~=0.1 in /usr/local/lib/python3.10/dist-packages (from markdown-it-py>=2.2.0->rich->keras->ECC2025==0.1.8) (0.1.2)\n",
            "Requirement already satisfied: MarkupSafe>=2.1.1 in /usr/local/lib/python3.10/dist-packages (from werkzeug>=1.0.1->tensorboard<2.18,>=2.17->tensorflow->ECC2025==0.1.8) (3.0.2)\n",
            "Requirement already satisfied: pycparser in /usr/local/lib/python3.10/dist-packages (from cffi>=1.12->cryptography>=1.3->requests-ntlm>=1.1.0->qiskit_ibm_runtime->ECC2025==0.1.8) (2.22)\n",
            "Downloading pyscf-2.8.0-py3-none-manylinux_2_17_x86_64.manylinux2014_x86_64.whl (50.9 MB)\n",
            "\u001b[2K   \u001b[90m━━━━━━━━━━━━━━━━━━━━━━━━━━━━━━━━━━━━━━━━\u001b[0m \u001b[32m50.9/50.9 MB\u001b[0m \u001b[31m10.7 MB/s\u001b[0m eta \u001b[36m0:00:00\u001b[0m\n",
            "\u001b[?25hDownloading qiskit-1.3.1-cp39-abi3-manylinux_2_17_x86_64.manylinux2014_x86_64.whl (6.7 MB)\n",
            "\u001b[2K   \u001b[90m━━━━━━━━━━━━━━━━━━━━━━━━━━━━━━━━━━━━━━━━\u001b[0m \u001b[32m6.7/6.7 MB\u001b[0m \u001b[31m25.4 MB/s\u001b[0m eta \u001b[36m0:00:00\u001b[0m\n",
            "\u001b[?25hDownloading qiskit_aer-0.15.1-cp310-cp310-manylinux_2_17_x86_64.manylinux2014_x86_64.whl (12.3 MB)\n",
            "\u001b[2K   \u001b[90m━━━━━━━━━━━━━━━━━━━━━━━━━━━━━━━━━━━━━━━━\u001b[0m \u001b[32m12.3/12.3 MB\u001b[0m \u001b[31m26.3 MB/s\u001b[0m eta \u001b[36m0:00:00\u001b[0m\n",
            "\u001b[?25hDownloading qiskit_algorithms-0.3.1-py3-none-any.whl (310 kB)\n",
            "\u001b[2K   \u001b[90m━━━━━━━━━━━━━━━━━━━━━━━━━━━━━━━━━━━━━━━━\u001b[0m \u001b[32m310.5/310.5 kB\u001b[0m \u001b[31m13.8 MB/s\u001b[0m eta \u001b[36m0:00:00\u001b[0m\n",
            "\u001b[?25hDownloading qiskit_finance-0.4.1-py3-none-any.whl (51 kB)\n",
            "\u001b[2K   \u001b[90m━━━━━━━━━━━━━━━━━━━━━━━━━━━━━━━━━━━━━━━━\u001b[0m \u001b[32m51.2/51.2 kB\u001b[0m \u001b[31m3.3 MB/s\u001b[0m eta \u001b[36m0:00:00\u001b[0m\n",
            "\u001b[?25hDownloading qiskit_ibm_runtime-0.34.0-py3-none-any.whl (3.0 MB)\n",
            "\u001b[2K   \u001b[90m━━━━━━━━━━━━━━━━━━━━━━━━━━━━━━━━━━━━━━━━\u001b[0m \u001b[32m3.0/3.0 MB\u001b[0m \u001b[31m26.8 MB/s\u001b[0m eta \u001b[36m0:00:00\u001b[0m\n",
            "\u001b[?25hDownloading qiskit_machine_learning-0.8.2-py3-none-any.whl (231 kB)\n",
            "\u001b[2K   \u001b[90m━━━━━━━━━━━━━━━━━━━━━━━━━━━━━━━━━━━━━━━━\u001b[0m \u001b[32m231.6/231.6 kB\u001b[0m \u001b[31m16.9 MB/s\u001b[0m eta \u001b[36m0:00:00\u001b[0m\n",
            "\u001b[?25hDownloading qiskit_nature-0.7.2-py3-none-any.whl (2.2 MB)\n",
            "\u001b[2K   \u001b[90m━━━━━━━━━━━━━━━━━━━━━━━━━━━━━━━━━━━━━━━━\u001b[0m \u001b[32m2.2/2.2 MB\u001b[0m \u001b[31m24.6 MB/s\u001b[0m eta \u001b[36m0:00:00\u001b[0m\n",
            "\u001b[?25hDownloading dill-0.3.9-py3-none-any.whl (119 kB)\n",
            "\u001b[2K   \u001b[90m━━━━━━━━━━━━━━━━━━━━━━━━━━━━━━━━━━━━━━━━\u001b[0m \u001b[32m119.4/119.4 kB\u001b[0m \u001b[31m8.3 MB/s\u001b[0m eta \u001b[36m0:00:00\u001b[0m\n",
            "\u001b[?25hDownloading ibm_platform_services-0.59.1-py3-none-any.whl (340 kB)\n",
            "\u001b[2K   \u001b[90m━━━━━━━━━━━━━━━━━━━━━━━━━━━━━━━━━━━━━━━━\u001b[0m \u001b[32m340.8/340.8 kB\u001b[0m \u001b[31m19.9 MB/s\u001b[0m eta \u001b[36m0:00:00\u001b[0m\n",
            "\u001b[?25hDownloading pydantic-2.9.2-py3-none-any.whl (434 kB)\n",
            "\u001b[2K   \u001b[90m━━━━━━━━━━━━━━━━━━━━━━━━━━━━━━━━━━━━━━━━\u001b[0m \u001b[32m434.9/434.9 kB\u001b[0m \u001b[31m17.2 MB/s\u001b[0m eta \u001b[36m0:00:00\u001b[0m\n",
            "\u001b[?25hDownloading pydantic_core-2.23.4-cp310-cp310-manylinux_2_17_x86_64.manylinux2014_x86_64.whl (2.1 MB)\n",
            "\u001b[2K   \u001b[90m━━━━━━━━━━━━━━━━━━━━━━━━━━━━━━━━━━━━━━━━\u001b[0m \u001b[32m2.1/2.1 MB\u001b[0m \u001b[31m25.1 MB/s\u001b[0m eta \u001b[36m0:00:00\u001b[0m\n",
            "\u001b[?25hDownloading qiskit_optimization-0.6.1-py3-none-any.whl (167 kB)\n",
            "\u001b[2K   \u001b[90m━━━━━━━━━━━━━━━━━━━━━━━━━━━━━━━━━━━━━━━━\u001b[0m \u001b[32m167.6/167.6 kB\u001b[0m \u001b[31m12.5 MB/s\u001b[0m eta \u001b[36m0:00:00\u001b[0m\n",
            "\u001b[?25hDownloading requests_ntlm-1.3.0-py3-none-any.whl (6.6 kB)\n",
            "Downloading rustworkx-0.15.1-cp38-abi3-manylinux_2_17_x86_64.manylinux2014_x86_64.whl (2.0 MB)\n",
            "\u001b[2K   \u001b[90m━━━━━━━━━━━━━━━━━━━━━━━━━━━━━━━━━━━━━━━━\u001b[0m \u001b[32m2.0/2.0 MB\u001b[0m \u001b[31m25.9 MB/s\u001b[0m eta \u001b[36m0:00:00\u001b[0m\n",
            "\u001b[?25hDownloading stevedore-5.4.0-py3-none-any.whl (49 kB)\n",
            "\u001b[2K   \u001b[90m━━━━━━━━━━━━━━━━━━━━━━━━━━━━━━━━━━━━━━━━\u001b[0m \u001b[32m49.5/49.5 kB\u001b[0m \u001b[31m4.0 MB/s\u001b[0m eta \u001b[36m0:00:00\u001b[0m\n",
            "\u001b[?25hDownloading symengine-0.13.0-cp310-cp310-manylinux_2_17_x86_64.manylinux2014_x86_64.whl (49.7 MB)\n",
            "\u001b[2K   \u001b[90m━━━━━━━━━━━━━━━━━━━━━━━━━━━━━━━━━━━━━━━━\u001b[0m \u001b[32m49.7/49.7 MB\u001b[0m \u001b[31m12.0 MB/s\u001b[0m eta \u001b[36m0:00:00\u001b[0m\n",
            "\u001b[?25hDownloading Nasdaq_Data_Link-1.0.4-py2.py3-none-any.whl (28 kB)\n",
            "Downloading ibm_cloud_sdk_core-3.22.1-py3-none-any.whl (69 kB)\n",
            "\u001b[2K   \u001b[90m━━━━━━━━━━━━━━━━━━━━━━━━━━━━━━━━━━━━━━━━\u001b[0m \u001b[32m69.4/69.4 kB\u001b[0m \u001b[31m5.4 MB/s\u001b[0m eta \u001b[36m0:00:00\u001b[0m\n",
            "\u001b[?25hDownloading inflection-0.5.1-py2.py3-none-any.whl (9.5 kB)\n",
            "Downloading pbr-6.1.0-py2.py3-none-any.whl (108 kB)\n",
            "\u001b[2K   \u001b[90m━━━━━━━━━━━━━━━━━━━━━━━━━━━━━━━━━━━━━━━━\u001b[0m \u001b[32m108.5/108.5 kB\u001b[0m \u001b[31m8.0 MB/s\u001b[0m eta \u001b[36m0:00:00\u001b[0m\n",
            "\u001b[?25hDownloading pyspnego-0.11.2-py3-none-any.whl (130 kB)\n",
            "\u001b[2K   \u001b[90m━━━━━━━━━━━━━━━━━━━━━━━━━━━━━━━━━━━━━━━━\u001b[0m \u001b[32m130.5/130.5 kB\u001b[0m \u001b[31m9.9 MB/s\u001b[0m eta \u001b[36m0:00:00\u001b[0m\n",
            "\u001b[?25hBuilding wheels for collected packages: ECC2025, pylatexenc, fastdtw, docplex\n",
            "  Building wheel for ECC2025 (setup.py) ... \u001b[?25l\u001b[?25hdone\n",
            "  Created wheel for ECC2025: filename=ECC2025-0.1.8-py3-none-any.whl size=44709 sha256=bb904820a3fd3a889cf0900a3914d35c193ce633cab084f888081698fdb144d0\n",
            "  Stored in directory: /tmp/pip-ephem-wheel-cache-0003whuk/wheels/1c/8c/8d/d9fedbb1e70ca3e2547c1a8306696c99a9ce5f3f03641515ee\n",
            "  Building wheel for pylatexenc (setup.py) ... \u001b[?25l\u001b[?25hdone\n",
            "  Created wheel for pylatexenc: filename=pylatexenc-2.10-py3-none-any.whl size=136816 sha256=7eb938e7f99eba27299e00530e1a48c3033d20ee9cfbd50e4f0b95f109d77e4b\n",
            "  Stored in directory: /root/.cache/pip/wheels/d3/31/8b/e09b0386afd80cfc556c00408c9aeea5c35c4d484a9c762fd5\n",
            "  Building wheel for fastdtw (setup.py) ... \u001b[?25l\u001b[?25hdone\n",
            "  Created wheel for fastdtw: filename=fastdtw-0.3.4-cp310-cp310-linux_x86_64.whl size=512551 sha256=52ff035e6a1b1452db836389896557602e995417af7835c035dc3eea35ca10c4\n",
            "  Stored in directory: /root/.cache/pip/wheels/73/c8/f7/c25448dab74c3acf4848bc25d513c736bb93910277e1528ef4\n",
            "  Building wheel for docplex (pyproject.toml) ... \u001b[?25l\u001b[?25hdone\n",
            "  Created wheel for docplex: filename=docplex-2.29.241-py3-none-any.whl size=685423 sha256=12ea6b9f5bea5b7623f163a5f497dfe6c6eaf8eec59f22df887f1c0fc27111e1\n",
            "  Stored in directory: /root/.cache/pip/wheels/2b/15/6e/eba2382ab6bc3f35194a62d3b007916ececf6f07139cac6795\n",
            "Successfully built ECC2025 pylatexenc fastdtw docplex\n",
            "Installing collected packages: pylatexenc, symengine, rustworkx, pydantic-core, pbr, inflection, fastdtw, docplex, dill, stevedore, pyscf, pydantic, ibm_cloud_sdk_core, qiskit, pyspnego, nasdaq-data-link, ibm-platform-services, requests-ntlm, qiskit_machine_learning, qiskit_algorithms, qiskit_aer, qiskit-optimization, qiskit_nature, qiskit_ibm_runtime, qiskit_finance, ECC2025\n",
            "  Attempting uninstall: pydantic-core\n",
            "    Found existing installation: pydantic_core 2.27.2\n",
            "    Uninstalling pydantic_core-2.27.2:\n",
            "      Successfully uninstalled pydantic_core-2.27.2\n",
            "  Attempting uninstall: pydantic\n",
            "    Found existing installation: pydantic 2.10.4\n",
            "    Uninstalling pydantic-2.10.4:\n",
            "      Successfully uninstalled pydantic-2.10.4\n",
            "Successfully installed ECC2025-0.1.8 dill-0.3.9 docplex-2.29.241 fastdtw-0.3.4 ibm-platform-services-0.59.1 ibm_cloud_sdk_core-3.22.1 inflection-0.5.1 nasdaq-data-link-1.0.4 pbr-6.1.0 pydantic-2.9.2 pydantic-core-2.23.4 pylatexenc-2.10 pyscf-2.8.0 pyspnego-0.11.2 qiskit-1.3.1 qiskit-optimization-0.6.1 qiskit_aer-0.15.1 qiskit_algorithms-0.3.1 qiskit_finance-0.4.1 qiskit_ibm_runtime-0.34.0 qiskit_machine_learning-0.8.2 qiskit_nature-0.7.2 requests-ntlm-1.3.0 rustworkx-0.15.1 stevedore-5.4.0 symengine-0.13.0\n"
          ]
        }
      ],
      "source": [
        "pip install git+https://github.com/MIROptics/ECC2025.git"
      ]
    },
    {
      "cell_type": "code",
      "execution_count": 2,
      "metadata": {
        "colab": {
          "base_uri": "https://localhost:8080/"
        },
        "id": "JHBGUlcwkyQv",
        "outputId": "4c7b65a1-9958-4d7e-f1ce-96fb1e6dd9f2"
      },
      "outputs": [
        {
          "output_type": "stream",
          "name": "stderr",
          "text": [
            "<ipython-input-2-9a1212c609dd>:6: DeprecationWarning: Sampler has been deprecated as of Aer 0.15, please use SamplerV2 instead.\n",
            "  from ECC2025.testing import test_5\n"
          ]
        }
      ],
      "source": [
        "import numpy as np\n",
        "from qiskit import QuantumCircuit, QuantumRegister\n",
        "from scipy.linalg import expm\n",
        "from qiskit.circuit import Parameter\n",
        "from qiskit.quantum_info import SparsePauliOp, Operator, process_fidelity\n",
        "from ECC2025.testing import test_5"
      ]
    },
    {
      "cell_type": "markdown",
      "metadata": {
        "id": "N9cO7ljqkyQv"
      },
      "source": [
        "La formula de Trotter permite aproximar la evolución de un Hamiltoniano,\n",
        "$$H = \\sum_j H_j $$\n",
        "mediante un producto de evoluciones rápidas,\n",
        "$$ U(t) \\approx \\left(  \\prod_j e^{-it H_j/m} \\right)^m.$$\n",
        "La calidad de esta aproximación depende del número de pasos $m$. La formula de Trotter tiene aplicaciones en simulación de materiales, hasta resolución de ecuaciones diferenciales. Para estas aplicaciones es fundamental tener una solución de buena calidad, lo cual puede lograrse aumentando el valor de $m$. Sin embargo, existen otras estrategías que pueden mejorar la calidad sin aumentar los pasos de Trotter. La clave es darse cuenta distintas permutaciones de los operadores $H_j$ dan distintas aproximaciones. Consideremos el siguiente ejemplo\n",
        "$$ H = X + Y + Z ,$$\n",
        "donde $\\{X,Y,Z\\}$ son matrices de Pauli. Las dos siguientes transformaciones son approximaciones válidad de $U=e^{-itH}$ (con $m=1$),\n",
        "$$ U_1 = e^{-itX}e^{-itY}e^{-itZ},\\qquad U_2 = e^{-itZ}e^{-itY}e^{-itX}. $$\n",
        "Sin embargo, estas aproximaciones no tienen la misma calidad."
      ]
    },
    {
      "cell_type": "code",
      "execution_count": 3,
      "metadata": {
        "id": "fVYuSJibkyQw"
      },
      "outputs": [],
      "source": [
        "H = SparsePauliOp.from_list( [('X',1),('Y',1),('Z',1)] )\n",
        "def U(t):\n",
        "    return expm( -1j*H.to_matrix()*t )\n",
        "\n",
        "t = Parameter('t')\n",
        "m = 1"
      ]
    },
    {
      "cell_type": "code",
      "execution_count": 4,
      "metadata": {
        "colab": {
          "base_uri": "https://localhost:8080/"
        },
        "id": "ZT_5gG_BkyQw",
        "outputId": "0b545c3f-1a42-4208-c78a-52a947f059a9"
      },
      "outputs": [
        {
          "output_type": "execute_result",
          "data": {
            "text/plain": [
              "0.9949598835996103"
            ]
          },
          "metadata": {},
          "execution_count": 4
        }
      ],
      "source": [
        "qc = QuantumCircuit(1)\n",
        "for _ in range(m):\n",
        "    qc.rx( 2*t/m, 0 )\n",
        "    qc.ry( 2*t/m, 0 )\n",
        "    qc.rz( 2*t/m, 0 )\n",
        "\n",
        "U_1 = Operator( qc.assign_parameters([0.2]) )\n",
        "process_fidelity( U_1, target=Operator(U(0.2)) )"
      ]
    },
    {
      "cell_type": "code",
      "execution_count": 5,
      "metadata": {
        "colab": {
          "base_uri": "https://localhost:8080/"
        },
        "id": "z39_3YTFkyQx",
        "outputId": "bb76436c-7ed6-48bb-fe6e-c8150ce0a952"
      },
      "outputs": [
        {
          "output_type": "execute_result",
          "data": {
            "text/plain": [
              "0.9957866040417919"
            ]
          },
          "metadata": {},
          "execution_count": 5
        }
      ],
      "source": [
        "qc = QuantumCircuit(1)\n",
        "for _ in range(m):\n",
        "    qc.rz( 2*t/m, 0 )\n",
        "    qc.ry( 2*t/m, 0 )\n",
        "    qc.rx( 2*t/m, 0 )\n",
        "\n",
        "U_2 = Operator( qc.assign_parameters([0.2]) )\n",
        "process_fidelity( U_2, target=Operator(U(0.2)) )"
      ]
    },
    {
      "cell_type": "markdown",
      "metadata": {
        "id": "R28LIE-0kyQx"
      },
      "source": [
        "Podemos ver que $U_1$ tiene una fidelidad del $99.49\\%$ y $U_2$ del $99.57\\%$, es decir $U_2$ es mejor! Hacer una buena elección en el orden del producto es crucial para alcanzar una buena aproximación en un número alto de qubits."
      ]
    },
    {
      "cell_type": "markdown",
      "metadata": {
        "id": "vVVnavzhkyQx"
      },
      "source": [
        "Consideremos ahora el modelo de Heisenberg, descrito por el siguiente Hamiltoniano\n",
        "$$H = \\sum_{j=0}^{N-2} \\left( X_jX_{j+1} + Y_{j}Y_{j+1} + Z_jZ_{j+1} \\right) + h\\sum_{j=0}^{N-1}Z_j. $$\n",
        "Este describe la interacción magnética de una cadena de $N$ spíns en presencia de un campo magnético externo $h$. Cada spín es representado por un qubit, siendo $|0\\rangle$ el spín arriba y $|1\\rangle$ el spín abajo. Cuando todos los spín están alienados decimos que el sistema exhibe magnetización.\n",
        "\n",
        "![](https://raw.githubusercontent.com/MIROptics/ECC2025/refs/heads/master/desafios/img/ECC_heisenberg.png?raw=true)\n",
        "\n",
        "__Desafío:__ Aproxime mediante la formula de Trotter la evolución del modelo de Heisenberg para $N=5$ qubits. Para esto complete el circuito ```Trot_tb_qc``` para que implemente __un paso__ de approximación de Trotter. Su solución debe tener una fidelidad superior al $90\\%$ con $m=5$ pasos de Trotter. Por simplicidad considere $h=0$."
      ]
    },
    {
      "cell_type": "code",
      "execution_count": 28,
      "metadata": {
        "colab": {
          "base_uri": "https://localhost:8080/",
          "height": 384
        },
        "id": "_lwFrbJTkyQx",
        "outputId": "70f705be-6c6f-4f5d-9943-897e6e86ddcc"
      },
      "outputs": [
        {
          "output_type": "execute_result",
          "data": {
            "text/plain": [
              "<Figure size 621.941x451.5 with 1 Axes>"
            ],
            "image/png": "[encoded data removed]"
          },
          "metadata": {},
          "execution_count": 28
        }
      ],
      "source": [
        "num_qubits = 5\n",
        "\n",
        "# Definimos el parámetro t\n",
        "t = Parameter('t')\n",
        "Trot_tb_qr = QuantumRegister(num_qubits, 'q')\n",
        "Trot_tb_qc = QuantumCircuit(Trot_tb_qr, name='Trot')\n",
        "\n",
        "### Escriba su solución acá ###\n",
        "# Construimos el circuito ZZ(t)\n",
        "\n",
        "ZZ_qr = QuantumRegister(2)\n",
        "ZZ_qc = QuantumCircuit(ZZ_qr, name='ZZ')\n",
        "\n",
        "ZZ_qc.cx(0,1)\n",
        "ZZ_qc.rz(2 * t, 1)\n",
        "ZZ_qc.cx(0,1)\n",
        "\n",
        "# Convertimos nuestro circuito en una puerta\n",
        "ZZ = ZZ_qc.to_instruction()\n",
        "\n",
        "###### XX\n",
        "\n",
        "# Construimos la puerta XX(t) a partir de ZZ(t)\n",
        "XX_qr = QuantumRegister(2)\n",
        "XX_qc = QuantumCircuit(XX_qr, name='XX')\n",
        "\n",
        "XX_qc.h([0,1])\n",
        "\n",
        "XX_qc.append(ZZ, [0,1])\n",
        "\n",
        "XX_qc.h([0,1])\n",
        "\n",
        "# Convertimos nuestro circuito en una puerta\n",
        "XX = XX_qc.to_instruction()\n",
        "\n",
        "###### YY\n",
        "\n",
        "# Construimos la puerta YY(t) a partir de ZZ(t)\n",
        "YY_qr = QuantumRegister(2)\n",
        "YY_qc = QuantumCircuit(YY_qr, name='YY')\n",
        "\n",
        "YY_qc.sdg([0,1])\n",
        "YY_qc.h([0,1])\n",
        "\n",
        "YY_qc.append(ZZ, [0,1])\n",
        "\n",
        "YY_qc.h([0,1])\n",
        "YY_qc.s([0,1])\n",
        "\n",
        "# Convertir el circuito cuantico en una puerta\n",
        "YY = YY_qc.to_instruction()\n",
        "\n",
        "\n",
        "\n",
        "Trot_tb_qc.append(XX, [0,1])\n",
        "Trot_tb_qc.append(YY, [0,1])\n",
        "Trot_tb_qc.append(ZZ, [0,1])\n",
        "\n",
        "Trot_tb_qc.append(XX, [2,3])\n",
        "Trot_tb_qc.append(YY, [2,3])\n",
        "Trot_tb_qc.append(ZZ, [2,3])\n",
        "\n",
        "\n",
        "\n",
        "Trot_tb_qc.append(XX, [1,2])\n",
        "Trot_tb_qc.append(YY, [1,2])\n",
        "Trot_tb_qc.append(ZZ, [1,2])\n",
        "\n",
        "\n",
        "Trot_tb_qc.append(XX, [3,4])\n",
        "Trot_tb_qc.append(YY, [3,4])\n",
        "Trot_tb_qc.append(ZZ, [3,4])\n",
        "\n",
        "################################\n",
        "\n",
        "Trot_tb_gate = Trot_tb_qc.to_instruction()\n",
        "\n",
        "Trot_tb_qc.draw('mpl')"
      ]
    },
    {
      "cell_type": "code",
      "execution_count": 29,
      "metadata": {
        "id": "Cxb6DMvVkyQx"
      },
      "outputs": [],
      "source": [
        "def U_trotterize(delta_t, trotter_steps):\n",
        "    qr = QuantumRegister(num_qubits)\n",
        "    qc = QuantumCircuit(qr)\n",
        "\n",
        "    for step in range(trotter_steps):\n",
        "        qc.append( Trot_tb_gate, list(range(num_qubits)) )\n",
        "\n",
        "    if qc.num_parameters > 0 :\n",
        "        qc = qc.assign_parameters({t: delta_t })\n",
        "\n",
        "    return qc"
      ]
    },
    {
      "cell_type": "code",
      "execution_count": 30,
      "metadata": {
        "colab": {
          "base_uri": "https://localhost:8080/"
        },
        "id": "WcDEa872kyQy",
        "outputId": "816c167f-690f-4918-d6c6-0a85c790ddf8"
      },
      "outputs": [
        {
          "output_type": "stream",
          "name": "stdout",
          "text": [
            "Fidelidad= 0.91398581316353\n",
            "Felicidades, su solución tiene una fidelidad superior al 90%\n"
          ]
        }
      ],
      "source": [
        "test_5( U_trotterize )"
      ]
    },
    {
      "cell_type": "code",
      "execution_count": null,
      "metadata": {
        "id": "JViCpTrRkyQy"
      },
      "outputs": [],
      "source": []
    }
  ],
  "metadata": {
    "kernelspec": {
      "display_name": "ECC2025",
      "language": "python",
      "name": "python3"
    },
    "language_info": {
      "codemirror_mode": {
        "name": "ipython",
        "version": 3
      },
      "file_extension": ".py",
      "mimetype": "text/x-python",
      "name": "python",
      "nbconvert_exporter": "python",
      "pygments_lexer": "ipython3",
      "version": "3.12.6"
    },
    "colab": {
      "provenance": []
    }
  },
  "nbformat": 4,
  "nbformat_minor": 0
}