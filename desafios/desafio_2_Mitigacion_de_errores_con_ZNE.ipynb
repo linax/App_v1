{
  "cells": [
    {
      "cell_type": "code",
      "execution_count": 1,
      "metadata": {
        "id": "dH6JWcXinOGk",
        "outputId": "41751741-55b1-4391-e4bc-8e9938fca7f1",
        "colab": {
          "base_uri": "https://localhost:8080/"
        }
      },
      "outputs": [
        {
          "output_type": "stream",
          "name": "stdout",
          "text": [
            "Collecting git+https://github.com/MIROptics/ECC2025.git\n",
            "  Cloning https://github.com/MIROptics/ECC2025.git to /tmp/pip-req-build-3kjc22cs\n",
            "  Running command git clone --filter=blob:none --quiet https://github.com/MIROptics/ECC2025.git /tmp/pip-req-build-3kjc22cs\n",
            "  Resolved https://github.com/MIROptics/ECC2025.git to commit a57a82c469e5ba08bf08b6e60b93fcca3d2fbf07\n",
            "  Preparing metadata (setup.py) ... \u001b[?25l\u001b[?25hdone\n",
            "Requirement already satisfied: numpy in /usr/local/lib/python3.10/dist-packages (from ECC2025==0.1.5) (1.26.4)\n",
            "Requirement already satisfied: scipy in /usr/local/lib/python3.10/dist-packages (from ECC2025==0.1.5) (1.13.1)\n",
            "Collecting qiskit (from ECC2025==0.1.5)\n",
            "  Downloading qiskit-1.3.1-cp39-abi3-manylinux_2_17_x86_64.manylinux2014_x86_64.whl.metadata (12 kB)\n",
            "Collecting qiskit_ibm_runtime (from ECC2025==0.1.5)\n",
            "  Downloading qiskit_ibm_runtime-0.34.0-py3-none-any.whl.metadata (3.0 kB)\n",
            "Collecting qiskit_aer (from ECC2025==0.1.5)\n",
            "  Downloading qiskit_aer-0.15.1-cp310-cp310-manylinux_2_17_x86_64.manylinux2014_x86_64.whl.metadata (8.0 kB)\n",
            "Collecting pylatexenc (from ECC2025==0.1.5)\n",
            "  Downloading pylatexenc-2.10.tar.gz (162 kB)\n",
            "\u001b[2K     \u001b[90m━━━━━━━━━━━━━━━━━━━━━━━━━━━━━━━━━━━━━━━━\u001b[0m \u001b[32m162.6/162.6 kB\u001b[0m \u001b[31m5.0 MB/s\u001b[0m eta \u001b[36m0:00:00\u001b[0m\n",
            "\u001b[?25h  Preparing metadata (setup.py) ... \u001b[?25l\u001b[?25hdone\n",
            "Requirement already satisfied: matplotlib in /usr/local/lib/python3.10/dist-packages (from ECC2025==0.1.5) (3.10.0)\n",
            "Requirement already satisfied: scikit-learn in /usr/local/lib/python3.10/dist-packages (from ECC2025==0.1.5) (1.6.0)\n",
            "Requirement already satisfied: pandas in /usr/local/lib/python3.10/dist-packages (from ECC2025==0.1.5) (2.2.2)\n",
            "Collecting qiskit_algorithms (from ECC2025==0.1.5)\n",
            "  Downloading qiskit_algorithms-0.3.1-py3-none-any.whl.metadata (4.2 kB)\n",
            "Requirement already satisfied: seaborn in /usr/local/lib/python3.10/dist-packages (from ECC2025==0.1.5) (0.13.2)\n",
            "Requirement already satisfied: tensorflow in /usr/local/lib/python3.10/dist-packages (from ECC2025==0.1.5) (2.17.1)\n",
            "Requirement already satisfied: keras in /usr/local/lib/python3.10/dist-packages (from ECC2025==0.1.5) (3.5.0)\n",
            "Collecting pyscf (from ECC2025==0.1.5)\n",
            "  Downloading pyscf-2.8.0-py3-none-manylinux_2_17_x86_64.manylinux2014_x86_64.whl.metadata (6.4 kB)\n",
            "Collecting qiskit_nature (from ECC2025==0.1.5)\n",
            "  Downloading qiskit_nature-0.7.2-py3-none-any.whl.metadata (8.0 kB)\n",
            "Collecting qiskit_machine_learning (from ECC2025==0.1.5)\n",
            "  Downloading qiskit_machine_learning-0.8.2-py3-none-any.whl.metadata (13 kB)\n",
            "Collecting qiskit_finance (from ECC2025==0.1.5)\n",
            "  Downloading qiskit_finance-0.4.1-py3-none-any.whl.metadata (6.0 kB)\n",
            "Requirement already satisfied: absl-py in /usr/local/lib/python3.10/dist-packages (from keras->ECC2025==0.1.5) (1.4.0)\n",
            "Requirement already satisfied: rich in /usr/local/lib/python3.10/dist-packages (from keras->ECC2025==0.1.5) (13.9.4)\n",
            "Requirement already satisfied: namex in /usr/local/lib/python3.10/dist-packages (from keras->ECC2025==0.1.5) (0.0.8)\n",
            "Requirement already satisfied: h5py in /usr/local/lib/python3.10/dist-packages (from keras->ECC2025==0.1.5) (3.12.1)\n",
            "Requirement already satisfied: optree in /usr/local/lib/python3.10/dist-packages (from keras->ECC2025==0.1.5) (0.13.1)\n",
            "Requirement already satisfied: ml-dtypes in /usr/local/lib/python3.10/dist-packages (from keras->ECC2025==0.1.5) (0.4.1)\n",
            "Requirement already satisfied: packaging in /usr/local/lib/python3.10/dist-packages (from keras->ECC2025==0.1.5) (24.2)\n",
            "Requirement already satisfied: contourpy>=1.0.1 in /usr/local/lib/python3.10/dist-packages (from matplotlib->ECC2025==0.1.5) (1.3.1)\n",
            "Requirement already satisfied: cycler>=0.10 in /usr/local/lib/python3.10/dist-packages (from matplotlib->ECC2025==0.1.5) (0.12.1)\n",
            "Requirement already satisfied: fonttools>=4.22.0 in /usr/local/lib/python3.10/dist-packages (from matplotlib->ECC2025==0.1.5) (4.55.3)\n",
            "Requirement already satisfied: kiwisolver>=1.3.1 in /usr/local/lib/python3.10/dist-packages (from matplotlib->ECC2025==0.1.5) (1.4.8)\n",
            "Requirement already satisfied: pillow>=8 in /usr/local/lib/python3.10/dist-packages (from matplotlib->ECC2025==0.1.5) (11.1.0)\n",
            "Requirement already satisfied: pyparsing>=2.3.1 in /usr/local/lib/python3.10/dist-packages (from matplotlib->ECC2025==0.1.5) (3.2.1)\n",
            "Requirement already satisfied: python-dateutil>=2.7 in /usr/local/lib/python3.10/dist-packages (from matplotlib->ECC2025==0.1.5) (2.8.2)\n",
            "Requirement already satisfied: pytz>=2020.1 in /usr/local/lib/python3.10/dist-packages (from pandas->ECC2025==0.1.5) (2024.2)\n",
            "Requirement already satisfied: tzdata>=2022.7 in /usr/local/lib/python3.10/dist-packages (from pandas->ECC2025==0.1.5) (2024.2)\n",
            "Requirement already satisfied: setuptools in /usr/local/lib/python3.10/dist-packages (from pyscf->ECC2025==0.1.5) (75.1.0)\n",
            "Collecting rustworkx>=0.15.0 (from qiskit->ECC2025==0.1.5)\n",
            "  Downloading rustworkx-0.15.1-cp38-abi3-manylinux_2_17_x86_64.manylinux2014_x86_64.whl.metadata (9.9 kB)\n",
            "Requirement already satisfied: sympy>=1.3 in /usr/local/lib/python3.10/dist-packages (from qiskit->ECC2025==0.1.5) (1.13.1)\n",
            "Collecting dill>=0.3 (from qiskit->ECC2025==0.1.5)\n",
            "  Downloading dill-0.3.9-py3-none-any.whl.metadata (10 kB)\n",
            "Collecting stevedore>=3.0.0 (from qiskit->ECC2025==0.1.5)\n",
            "  Downloading stevedore-5.4.0-py3-none-any.whl.metadata (2.3 kB)\n",
            "Requirement already satisfied: typing-extensions in /usr/local/lib/python3.10/dist-packages (from qiskit->ECC2025==0.1.5) (4.12.2)\n",
            "Collecting symengine<0.14,>=0.11 (from qiskit->ECC2025==0.1.5)\n",
            "  Downloading symengine-0.13.0-cp310-cp310-manylinux_2_17_x86_64.manylinux2014_x86_64.whl.metadata (1.2 kB)\n",
            "Requirement already satisfied: psutil>=5 in /usr/local/lib/python3.10/dist-packages (from qiskit_aer->ECC2025==0.1.5) (5.9.5)\n",
            "Collecting qiskit-optimization>=0.6.0 (from qiskit_finance->ECC2025==0.1.5)\n",
            "  Downloading qiskit_optimization-0.6.1-py3-none-any.whl.metadata (8.6 kB)\n",
            "Collecting fastdtw (from qiskit_finance->ECC2025==0.1.5)\n",
            "  Downloading fastdtw-0.3.4.tar.gz (133 kB)\n",
            "\u001b[2K     \u001b[90m━━━━━━━━━━━━━━━━━━━━━━━━━━━━━━━━━━━━━━━━\u001b[0m \u001b[32m133.4/133.4 kB\u001b[0m \u001b[31m10.3 MB/s\u001b[0m eta \u001b[36m0:00:00\u001b[0m\n",
            "\u001b[?25h  Preparing metadata (setup.py) ... \u001b[?25l\u001b[?25hdone\n",
            "Collecting nasdaq-data-link (from qiskit_finance->ECC2025==0.1.5)\n",
            "  Downloading Nasdaq_Data_Link-1.0.4-py2.py3-none-any.whl.metadata (1.3 kB)\n",
            "Requirement already satisfied: yfinance>=0.1.70 in /usr/local/lib/python3.10/dist-packages (from qiskit_finance->ECC2025==0.1.5) (0.2.51)\n",
            "Requirement already satisfied: certifi in /usr/local/lib/python3.10/dist-packages (from qiskit_finance->ECC2025==0.1.5) (2024.12.14)\n",
            "Requirement already satisfied: urllib3 in /usr/local/lib/python3.10/dist-packages (from qiskit_finance->ECC2025==0.1.5) (2.3.0)\n",
            "Requirement already satisfied: requests>=2.19 in /usr/local/lib/python3.10/dist-packages (from qiskit_ibm_runtime->ECC2025==0.1.5) (2.32.3)\n",
            "Collecting requests-ntlm>=1.1.0 (from qiskit_ibm_runtime->ECC2025==0.1.5)\n",
            "  Downloading requests_ntlm-1.3.0-py3-none-any.whl.metadata (2.4 kB)\n",
            "Requirement already satisfied: websocket-client>=1.5.1 in /usr/local/lib/python3.10/dist-packages (from qiskit_ibm_runtime->ECC2025==0.1.5) (1.8.0)\n",
            "Collecting ibm-platform-services>=0.22.6 (from qiskit_ibm_runtime->ECC2025==0.1.5)\n",
            "  Downloading ibm_platform_services-0.59.1-py3-none-any.whl.metadata (9.0 kB)\n",
            "Collecting pydantic<2.10,>=2.5.0 (from qiskit_ibm_runtime->ECC2025==0.1.5)\n",
            "  Downloading pydantic-2.9.2-py3-none-any.whl.metadata (149 kB)\n",
            "\u001b[2K     \u001b[90m━━━━━━━━━━━━━━━━━━━━━━━━━━━━━━━━━━━━━━━━\u001b[0m \u001b[32m149.4/149.4 kB\u001b[0m \u001b[31m11.9 MB/s\u001b[0m eta \u001b[36m0:00:00\u001b[0m\n",
            "\u001b[?25hRequirement already satisfied: joblib>=1.2.0 in /usr/local/lib/python3.10/dist-packages (from scikit-learn->ECC2025==0.1.5) (1.4.2)\n",
            "Requirement already satisfied: threadpoolctl>=3.1.0 in /usr/local/lib/python3.10/dist-packages (from scikit-learn->ECC2025==0.1.5) (3.5.0)\n",
            "Requirement already satisfied: astunparse>=1.6.0 in /usr/local/lib/python3.10/dist-packages (from tensorflow->ECC2025==0.1.5) (1.6.3)\n",
            "Requirement already satisfied: flatbuffers>=24.3.25 in /usr/local/lib/python3.10/dist-packages (from tensorflow->ECC2025==0.1.5) (24.12.23)\n",
            "Requirement already satisfied: gast!=0.5.0,!=0.5.1,!=0.5.2,>=0.2.1 in /usr/local/lib/python3.10/dist-packages (from tensorflow->ECC2025==0.1.5) (0.6.0)\n",
            "Requirement already satisfied: google-pasta>=0.1.1 in /usr/local/lib/python3.10/dist-packages (from tensorflow->ECC2025==0.1.5) (0.2.0)\n",
            "Requirement already satisfied: libclang>=13.0.0 in /usr/local/lib/python3.10/dist-packages (from tensorflow->ECC2025==0.1.5) (18.1.1)\n",
            "Requirement already satisfied: opt-einsum>=2.3.2 in /usr/local/lib/python3.10/dist-packages (from tensorflow->ECC2025==0.1.5) (3.4.0)\n",
            "Requirement already satisfied: protobuf!=4.21.0,!=4.21.1,!=4.21.2,!=4.21.3,!=4.21.4,!=4.21.5,<5.0.0dev,>=3.20.3 in /usr/local/lib/python3.10/dist-packages (from tensorflow->ECC2025==0.1.5) (4.25.5)\n",
            "Requirement already satisfied: six>=1.12.0 in /usr/local/lib/python3.10/dist-packages (from tensorflow->ECC2025==0.1.5) (1.17.0)\n",
            "Requirement already satisfied: termcolor>=1.1.0 in /usr/local/lib/python3.10/dist-packages (from tensorflow->ECC2025==0.1.5) (2.5.0)\n",
            "Requirement already satisfied: wrapt>=1.11.0 in /usr/local/lib/python3.10/dist-packages (from tensorflow->ECC2025==0.1.5) (1.17.0)\n",
            "Requirement already satisfied: grpcio<2.0,>=1.24.3 in /usr/local/lib/python3.10/dist-packages (from tensorflow->ECC2025==0.1.5) (1.69.0)\n",
            "Requirement already satisfied: tensorboard<2.18,>=2.17 in /usr/local/lib/python3.10/dist-packages (from tensorflow->ECC2025==0.1.5) (2.17.1)\n",
            "Requirement already satisfied: tensorflow-io-gcs-filesystem>=0.23.1 in /usr/local/lib/python3.10/dist-packages (from tensorflow->ECC2025==0.1.5) (0.37.1)\n",
            "Requirement already satisfied: wheel<1.0,>=0.23.0 in /usr/local/lib/python3.10/dist-packages (from astunparse>=1.6.0->tensorflow->ECC2025==0.1.5) (0.45.1)\n",
            "Collecting ibm_cloud_sdk_core<4.0.0,>=3.22.0 (from ibm-platform-services>=0.22.6->qiskit_ibm_runtime->ECC2025==0.1.5)\n",
            "  Downloading ibm_cloud_sdk_core-3.22.1-py3-none-any.whl.metadata (8.6 kB)\n",
            "Requirement already satisfied: annotated-types>=0.6.0 in /usr/local/lib/python3.10/dist-packages (from pydantic<2.10,>=2.5.0->qiskit_ibm_runtime->ECC2025==0.1.5) (0.7.0)\n",
            "Collecting pydantic-core==2.23.4 (from pydantic<2.10,>=2.5.0->qiskit_ibm_runtime->ECC2025==0.1.5)\n",
            "  Downloading pydantic_core-2.23.4-cp310-cp310-manylinux_2_17_x86_64.manylinux2014_x86_64.whl.metadata (6.6 kB)\n",
            "Collecting docplex!=2.24.231,>=2.21.207 (from qiskit-optimization>=0.6.0->qiskit_finance->ECC2025==0.1.5)\n",
            "  Downloading docplex-2.29.241.tar.gz (645 kB)\n",
            "\u001b[2K     \u001b[90m━━━━━━━━━━━━━━━━━━━━━━━━━━━━━━━━━━━━━━━━\u001b[0m \u001b[32m645.5/645.5 kB\u001b[0m \u001b[31m22.6 MB/s\u001b[0m eta \u001b[36m0:00:00\u001b[0m\n",
            "\u001b[?25h  Installing build dependencies ... \u001b[?25l\u001b[?25hdone\n",
            "  Getting requirements to build wheel ... \u001b[?25l\u001b[?25hdone\n",
            "  Installing backend dependencies ... \u001b[?25l\u001b[?25hdone\n",
            "  Preparing metadata (pyproject.toml) ... \u001b[?25l\u001b[?25hdone\n",
            "Requirement already satisfied: networkx>=2.6.3 in /usr/local/lib/python3.10/dist-packages (from qiskit-optimization>=0.6.0->qiskit_finance->ECC2025==0.1.5) (3.4.2)\n",
            "Requirement already satisfied: charset-normalizer<4,>=2 in /usr/local/lib/python3.10/dist-packages (from requests>=2.19->qiskit_ibm_runtime->ECC2025==0.1.5) (3.4.1)\n",
            "Requirement already satisfied: idna<4,>=2.5 in /usr/local/lib/python3.10/dist-packages (from requests>=2.19->qiskit_ibm_runtime->ECC2025==0.1.5) (3.10)\n",
            "Requirement already satisfied: cryptography>=1.3 in /usr/local/lib/python3.10/dist-packages (from requests-ntlm>=1.1.0->qiskit_ibm_runtime->ECC2025==0.1.5) (43.0.3)\n",
            "Collecting pyspnego>=0.4.0 (from requests-ntlm>=1.1.0->qiskit_ibm_runtime->ECC2025==0.1.5)\n",
            "  Downloading pyspnego-0.11.2-py3-none-any.whl.metadata (5.4 kB)\n",
            "Collecting pbr>=2.0.0 (from stevedore>=3.0.0->qiskit->ECC2025==0.1.5)\n",
            "  Downloading pbr-6.1.0-py2.py3-none-any.whl.metadata (3.4 kB)\n",
            "Requirement already satisfied: mpmath<1.4,>=1.1.0 in /usr/local/lib/python3.10/dist-packages (from sympy>=1.3->qiskit->ECC2025==0.1.5) (1.3.0)\n",
            "Requirement already satisfied: markdown>=2.6.8 in /usr/local/lib/python3.10/dist-packages (from tensorboard<2.18,>=2.17->tensorflow->ECC2025==0.1.5) (3.7)\n",
            "Requirement already satisfied: tensorboard-data-server<0.8.0,>=0.7.0 in /usr/local/lib/python3.10/dist-packages (from tensorboard<2.18,>=2.17->tensorflow->ECC2025==0.1.5) (0.7.2)\n",
            "Requirement already satisfied: werkzeug>=1.0.1 in /usr/local/lib/python3.10/dist-packages (from tensorboard<2.18,>=2.17->tensorflow->ECC2025==0.1.5) (3.1.3)\n",
            "Requirement already satisfied: multitasking>=0.0.7 in /usr/local/lib/python3.10/dist-packages (from yfinance>=0.1.70->qiskit_finance->ECC2025==0.1.5) (0.0.11)\n",
            "Requirement already satisfied: lxml>=4.9.1 in /usr/local/lib/python3.10/dist-packages (from yfinance>=0.1.70->qiskit_finance->ECC2025==0.1.5) (5.3.0)\n",
            "Requirement already satisfied: platformdirs>=2.0.0 in /usr/local/lib/python3.10/dist-packages (from yfinance>=0.1.70->qiskit_finance->ECC2025==0.1.5) (4.3.6)\n",
            "Requirement already satisfied: frozendict>=2.3.4 in /usr/local/lib/python3.10/dist-packages (from yfinance>=0.1.70->qiskit_finance->ECC2025==0.1.5) (2.4.6)\n",
            "Requirement already satisfied: peewee>=3.16.2 in /usr/local/lib/python3.10/dist-packages (from yfinance>=0.1.70->qiskit_finance->ECC2025==0.1.5) (3.17.8)\n",
            "Requirement already satisfied: beautifulsoup4>=4.11.1 in /usr/local/lib/python3.10/dist-packages (from yfinance>=0.1.70->qiskit_finance->ECC2025==0.1.5) (4.12.3)\n",
            "Requirement already satisfied: html5lib>=1.1 in /usr/local/lib/python3.10/dist-packages (from yfinance>=0.1.70->qiskit_finance->ECC2025==0.1.5) (1.1)\n",
            "Collecting inflection>=0.3.1 (from nasdaq-data-link->qiskit_finance->ECC2025==0.1.5)\n",
            "  Downloading inflection-0.5.1-py2.py3-none-any.whl.metadata (1.7 kB)\n",
            "Requirement already satisfied: more-itertools in /usr/local/lib/python3.10/dist-packages (from nasdaq-data-link->qiskit_finance->ECC2025==0.1.5) (10.5.0)\n",
            "Requirement already satisfied: markdown-it-py>=2.2.0 in /usr/local/lib/python3.10/dist-packages (from rich->keras->ECC2025==0.1.5) (3.0.0)\n",
            "Requirement already satisfied: pygments<3.0.0,>=2.13.0 in /usr/local/lib/python3.10/dist-packages (from rich->keras->ECC2025==0.1.5) (2.18.0)\n",
            "Requirement already satisfied: soupsieve>1.2 in /usr/local/lib/python3.10/dist-packages (from beautifulsoup4>=4.11.1->yfinance>=0.1.70->qiskit_finance->ECC2025==0.1.5) (2.6)\n",
            "Requirement already satisfied: cffi>=1.12 in /usr/local/lib/python3.10/dist-packages (from cryptography>=1.3->requests-ntlm>=1.1.0->qiskit_ibm_runtime->ECC2025==0.1.5) (1.17.1)\n",
            "Requirement already satisfied: webencodings in /usr/local/lib/python3.10/dist-packages (from html5lib>=1.1->yfinance>=0.1.70->qiskit_finance->ECC2025==0.1.5) (0.5.1)\n",
            "Requirement already satisfied: PyJWT<3.0.0,>=2.8.0 in /usr/local/lib/python3.10/dist-packages (from ibm_cloud_sdk_core<4.0.0,>=3.22.0->ibm-platform-services>=0.22.6->qiskit_ibm_runtime->ECC2025==0.1.5) (2.10.1)\n",
            "Requirement already satisfied: mdurl~=0.1 in /usr/local/lib/python3.10/dist-packages (from markdown-it-py>=2.2.0->rich->keras->ECC2025==0.1.5) (0.1.2)\n",
            "Requirement already satisfied: MarkupSafe>=2.1.1 in /usr/local/lib/python3.10/dist-packages (from werkzeug>=1.0.1->tensorboard<2.18,>=2.17->tensorflow->ECC2025==0.1.5) (3.0.2)\n",
            "Requirement already satisfied: pycparser in /usr/local/lib/python3.10/dist-packages (from cffi>=1.12->cryptography>=1.3->requests-ntlm>=1.1.0->qiskit_ibm_runtime->ECC2025==0.1.5) (2.22)\n",
            "Downloading pyscf-2.8.0-py3-none-manylinux_2_17_x86_64.manylinux2014_x86_64.whl (50.9 MB)\n",
            "\u001b[2K   \u001b[90m━━━━━━━━━━━━━━━━━━━━━━━━━━━━━━━━━━━━━━━━\u001b[0m \u001b[32m50.9/50.9 MB\u001b[0m \u001b[31m16.5 MB/s\u001b[0m eta \u001b[36m0:00:00\u001b[0m\n",
            "\u001b[?25hDownloading qiskit-1.3.1-cp39-abi3-manylinux_2_17_x86_64.manylinux2014_x86_64.whl (6.7 MB)\n",
            "\u001b[2K   \u001b[90m━━━━━━━━━━━━━━━━━━━━━━━━━━━━━━━━━━━━━━━━\u001b[0m \u001b[32m6.7/6.7 MB\u001b[0m \u001b[31m89.6 MB/s\u001b[0m eta \u001b[36m0:00:00\u001b[0m\n",
            "\u001b[?25hDownloading qiskit_aer-0.15.1-cp310-cp310-manylinux_2_17_x86_64.manylinux2014_x86_64.whl (12.3 MB)\n",
            "\u001b[2K   \u001b[90m━━━━━━━━━━━━━━━━━━━━━━━━━━━━━━━━━━━━━━━━\u001b[0m \u001b[32m12.3/12.3 MB\u001b[0m \u001b[31m89.9 MB/s\u001b[0m eta \u001b[36m0:00:00\u001b[0m\n",
            "\u001b[?25hDownloading qiskit_algorithms-0.3.1-py3-none-any.whl (310 kB)\n",
            "\u001b[2K   \u001b[90m━━━━━━━━━━━━━━━━━━━━━━━━━━━━━━━━━━━━━━━━\u001b[0m \u001b[32m310.5/310.5 kB\u001b[0m \u001b[31m22.2 MB/s\u001b[0m eta \u001b[36m0:00:00\u001b[0m\n",
            "\u001b[?25hDownloading qiskit_finance-0.4.1-py3-none-any.whl (51 kB)\n",
            "\u001b[2K   \u001b[90m━━━━━━━━━━━━━━━━━━━━━━━━━━━━━━━━━━━━━━━━\u001b[0m \u001b[32m51.2/51.2 kB\u001b[0m \u001b[31m4.1 MB/s\u001b[0m eta \u001b[36m0:00:00\u001b[0m\n",
            "\u001b[?25hDownloading qiskit_ibm_runtime-0.34.0-py3-none-any.whl (3.0 MB)\n",
            "\u001b[2K   \u001b[90m━━━━━━━━━━━━━━━━━━━━━━━━━━━━━━━━━━━━━━━━\u001b[0m \u001b[32m3.0/3.0 MB\u001b[0m \u001b[31m78.3 MB/s\u001b[0m eta \u001b[36m0:00:00\u001b[0m\n",
            "\u001b[?25hDownloading qiskit_machine_learning-0.8.2-py3-none-any.whl (231 kB)\n",
            "\u001b[2K   \u001b[90m━━━━━━━━━━━━━━━━━━━━━━━━━━━━━━━━━━━━━━━━\u001b[0m \u001b[32m231.6/231.6 kB\u001b[0m \u001b[31m18.6 MB/s\u001b[0m eta \u001b[36m0:00:00\u001b[0m\n",
            "\u001b[?25hDownloading qiskit_nature-0.7.2-py3-none-any.whl (2.2 MB)\n",
            "\u001b[2K   \u001b[90m━━━━━━━━━━━━━━━━━━━━━━━━━━━━━━━━━━━━━━━━\u001b[0m \u001b[32m2.2/2.2 MB\u001b[0m \u001b[31m72.7 MB/s\u001b[0m eta \u001b[36m0:00:00\u001b[0m\n",
            "\u001b[?25hDownloading dill-0.3.9-py3-none-any.whl (119 kB)\n",
            "\u001b[2K   \u001b[90m━━━━━━━━━━━━━━━━━━━━━━━━━━━━━━━━━━━━━━━━\u001b[0m \u001b[32m119.4/119.4 kB\u001b[0m \u001b[31m10.6 MB/s\u001b[0m eta \u001b[36m0:00:00\u001b[0m\n",
            "\u001b[?25hDownloading ibm_platform_services-0.59.1-py3-none-any.whl (340 kB)\n",
            "\u001b[2K   \u001b[90m━━━━━━━━━━━━━━━━━━━━━━━━━━━━━━━━━━━━━━━━\u001b[0m \u001b[32m340.8/340.8 kB\u001b[0m \u001b[31m24.1 MB/s\u001b[0m eta \u001b[36m0:00:00\u001b[0m\n",
            "\u001b[?25hDownloading pydantic-2.9.2-py3-none-any.whl (434 kB)\n",
            "\u001b[2K   \u001b[90m━━━━━━━━━━━━━━━━━━━━━━━━━━━━━━━━━━━━━━━━\u001b[0m \u001b[32m434.9/434.9 kB\u001b[0m \u001b[31m30.2 MB/s\u001b[0m eta \u001b[36m0:00:00\u001b[0m\n",
            "\u001b[?25hDownloading pydantic_core-2.23.4-cp310-cp310-manylinux_2_17_x86_64.manylinux2014_x86_64.whl (2.1 MB)\n",
            "\u001b[2K   \u001b[90m━━━━━━━━━━━━━━━━━━━━━━━━━━━━━━━━━━━━━━━━\u001b[0m \u001b[32m2.1/2.1 MB\u001b[0m \u001b[31m69.3 MB/s\u001b[0m eta \u001b[36m0:00:00\u001b[0m\n",
            "\u001b[?25hDownloading qiskit_optimization-0.6.1-py3-none-any.whl (167 kB)\n",
            "\u001b[2K   \u001b[90m━━━━━━━━━━━━━━━━━━━━━━━━━━━━━━━━━━━━━━━━\u001b[0m \u001b[32m167.6/167.6 kB\u001b[0m \u001b[31m14.5 MB/s\u001b[0m eta \u001b[36m0:00:00\u001b[0m\n",
            "\u001b[?25hDownloading requests_ntlm-1.3.0-py3-none-any.whl (6.6 kB)\n",
            "Downloading rustworkx-0.15.1-cp38-abi3-manylinux_2_17_x86_64.manylinux2014_x86_64.whl (2.0 MB)\n",
            "\u001b[2K   \u001b[90m━━━━━━━━━━━━━━━━━━━━━━━━━━━━━━━━━━━━━━━━\u001b[0m \u001b[32m2.0/2.0 MB\u001b[0m \u001b[31m70.3 MB/s\u001b[0m eta \u001b[36m0:00:00\u001b[0m\n",
            "\u001b[?25hDownloading stevedore-5.4.0-py3-none-any.whl (49 kB)\n",
            "\u001b[2K   \u001b[90m━━━━━━━━━━━━━━━━━━━━━━━━━━━━━━━━━━━━━━━━\u001b[0m \u001b[32m49.5/49.5 kB\u001b[0m \u001b[31m4.1 MB/s\u001b[0m eta \u001b[36m0:00:00\u001b[0m\n",
            "\u001b[?25hDownloading symengine-0.13.0-cp310-cp310-manylinux_2_17_x86_64.manylinux2014_x86_64.whl (49.7 MB)\n",
            "\u001b[2K   \u001b[90m━━━━━━━━━━━━━━━━━━━━━━━━━━━━━━━━━━━━━━━━\u001b[0m \u001b[32m49.7/49.7 MB\u001b[0m \u001b[31m12.7 MB/s\u001b[0m eta \u001b[36m0:00:00\u001b[0m\n",
            "\u001b[?25hDownloading Nasdaq_Data_Link-1.0.4-py2.py3-none-any.whl (28 kB)\n",
            "Downloading ibm_cloud_sdk_core-3.22.1-py3-none-any.whl (69 kB)\n",
            "\u001b[2K   \u001b[90m━━━━━━━━━━━━━━━━━━━━━━━━━━━━━━━━━━━━━━━━\u001b[0m \u001b[32m69.4/69.4 kB\u001b[0m \u001b[31m5.5 MB/s\u001b[0m eta \u001b[36m0:00:00\u001b[0m\n",
            "\u001b[?25hDownloading inflection-0.5.1-py2.py3-none-any.whl (9.5 kB)\n",
            "Downloading pbr-6.1.0-py2.py3-none-any.whl (108 kB)\n",
            "\u001b[2K   \u001b[90m━━━━━━━━━━━━━━━━━━━━━━━━━━━━━━━━━━━━━━━━\u001b[0m \u001b[32m108.5/108.5 kB\u001b[0m \u001b[31m9.2 MB/s\u001b[0m eta \u001b[36m0:00:00\u001b[0m\n",
            "\u001b[?25hDownloading pyspnego-0.11.2-py3-none-any.whl (130 kB)\n",
            "\u001b[2K   \u001b[90m━━━━━━━━━━━━━━━━━━━━━━━━━━━━━━━━━━━━━━━━\u001b[0m \u001b[32m130.5/130.5 kB\u001b[0m \u001b[31m11.2 MB/s\u001b[0m eta \u001b[36m0:00:00\u001b[0m\n",
            "\u001b[?25hBuilding wheels for collected packages: ECC2025, pylatexenc, fastdtw, docplex\n",
            "  Building wheel for ECC2025 (setup.py) ... \u001b[?25l\u001b[?25hdone\n",
            "  Created wheel for ECC2025: filename=ECC2025-0.1.5-py3-none-any.whl size=7379 sha256=9fee029f968d693f3b5a5166ecfc92430f90cbfe36cffefa610346efedceca98\n",
            "  Stored in directory: /tmp/pip-ephem-wheel-cache-bpjwi1gb/wheels/1c/8c/8d/d9fedbb1e70ca3e2547c1a8306696c99a9ce5f3f03641515ee\n",
            "  Building wheel for pylatexenc (setup.py) ... \u001b[?25l\u001b[?25hdone\n",
            "  Created wheel for pylatexenc: filename=pylatexenc-2.10-py3-none-any.whl size=136816 sha256=8b55efc278253dcac4fda57c68f7b7edbaa662d3dfc1d8fd6e587834cfb552ff\n",
            "  Stored in directory: /root/.cache/pip/wheels/d3/31/8b/e09b0386afd80cfc556c00408c9aeea5c35c4d484a9c762fd5\n",
            "  Building wheel for fastdtw (setup.py) ... \u001b[?25l\u001b[?25hdone\n",
            "  Created wheel for fastdtw: filename=fastdtw-0.3.4-cp310-cp310-linux_x86_64.whl size=512554 sha256=9052432c8ca621879a89682805aad9eabb640bb088a281271a6b9d17665f7081\n",
            "  Stored in directory: /root/.cache/pip/wheels/73/c8/f7/c25448dab74c3acf4848bc25d513c736bb93910277e1528ef4\n",
            "  Building wheel for docplex (pyproject.toml) ... \u001b[?25l\u001b[?25hdone\n",
            "  Created wheel for docplex: filename=docplex-2.29.241-py3-none-any.whl size=685423 sha256=661bd14fb39a8564f6d1d6dd7adb75d32c014d032140fb26e3e89513e4d25283\n",
            "  Stored in directory: /root/.cache/pip/wheels/2b/15/6e/eba2382ab6bc3f35194a62d3b007916ececf6f07139cac6795\n",
            "Successfully built ECC2025 pylatexenc fastdtw docplex\n",
            "Installing collected packages: pylatexenc, symengine, rustworkx, pydantic-core, pbr, inflection, fastdtw, docplex, dill, stevedore, pyscf, pydantic, ibm_cloud_sdk_core, qiskit, pyspnego, nasdaq-data-link, ibm-platform-services, requests-ntlm, qiskit_machine_learning, qiskit_algorithms, qiskit_aer, qiskit-optimization, qiskit_nature, qiskit_ibm_runtime, qiskit_finance, ECC2025\n",
            "  Attempting uninstall: pydantic-core\n",
            "    Found existing installation: pydantic_core 2.27.2\n",
            "    Uninstalling pydantic_core-2.27.2:\n",
            "      Successfully uninstalled pydantic_core-2.27.2\n",
            "  Attempting uninstall: pydantic\n",
            "    Found existing installation: pydantic 2.10.4\n",
            "    Uninstalling pydantic-2.10.4:\n",
            "      Successfully uninstalled pydantic-2.10.4\n",
            "Successfully installed ECC2025-0.1.5 dill-0.3.9 docplex-2.29.241 fastdtw-0.3.4 ibm-platform-services-0.59.1 ibm_cloud_sdk_core-3.22.1 inflection-0.5.1 nasdaq-data-link-1.0.4 pbr-6.1.0 pydantic-2.9.2 pydantic-core-2.23.4 pylatexenc-2.10 pyscf-2.8.0 pyspnego-0.11.2 qiskit-1.3.1 qiskit-optimization-0.6.1 qiskit_aer-0.15.1 qiskit_algorithms-0.3.1 qiskit_finance-0.4.1 qiskit_ibm_runtime-0.34.0 qiskit_machine_learning-0.8.2 qiskit_nature-0.7.2 requests-ntlm-1.3.0 rustworkx-0.15.1 stevedore-5.4.0 symengine-0.13.0\n"
          ]
        }
      ],
      "source": [
        "pip install -U git+https://github.com/MIROptics/ECC2025.git"
      ]
    },
    {
      "cell_type": "code",
      "execution_count": 3,
      "metadata": {
        "id": "oK_pPyARnOGl"
      },
      "outputs": [],
      "source": [
        "import numpy as np\n",
        "import matplotlib.pyplot as plt\n",
        "from qiskit import QuantumCircuit\n",
        "from qiskit.circuit.random import random_circuit\n",
        "from qiskit.quantum_info import SparsePauliOp\n",
        "from qiskit_aer.noise import NoiseModel, depolarizing_error\n",
        "from qiskit_aer.primitives import Estimator\n",
        "from ECC2025.testing import test_2a, test_2b, test_2c"
      ]
    },
    {
      "cell_type": "markdown",
      "metadata": {
        "id": "-Ly6WoC_nOGl"
      },
      "source": [
        "Los computadores cuánticos han mejorado mucho los últimos años, siendo capaces de ejecutar algoritmos cuánticos en número de qubits moderados. Sin embargo, no es posible resolver problemas practicos con ellos debido a que son ruidosos.\n",
        "\n",
        "Para reducir el impacto de estos errores se han propuestos varios metodos de mitigación de errores, siendo el más conocido [__Zero-Noise Extrapolation (ZNE)__](https://arxiv.org/abs/1612.02058). Este método se basa en aumentar intensionalmente el ruido en el circuito aumentando su profundidad, para posteriormente extrapolar el limite sin ruido.\n",
        "\n",
        "Consideremos que queremos evaluar un observable $A$ sobre un estado $|\\psi\\rangle=U_mU_{m-1}\\cdots U_1|0\\rangle$, donde $\\{U_j\\}$ es una secuencia de puertas cuánticas ruidosas. Llamaremos $U=U_mU_{m-1}\\cdots U_1$ a la operación del circuito completo. ZNE se basa en obtener varias estimaciones de $\\langle A \\rangle$ con distintos ruidos realizando [__pliegues__](https://arxiv.org/abs/2005.10921) de la unitaria $U$. Un pliege corresponde a la transformación $U\\rightarrow UU^\\dagger U$.\n",
        "\n",
        "![](https://raw.githubusercontent.com/MIROptics/ECC2025/refs/heads/master/desafios/img/ECC25_ZNE.png)\n",
        "\n",
        "Estos circuitos son equivalentes para estimar el valor esperado de $A$ gracias a que las puerta cuántica $U$ satisfacen $U^\\dagger U=I$. Sin embargo, debido a que al plegar un circuito su profundidad aumenta, la cantidad de error también aumenta.\n",
        "\n",
        "__Desafio:__ Escriba una función que tenga por argumento un circuito cuántico ```qc_U``` con la operación $U$ de un número arbitario de qubits, y que construya el circuito equivalente ```qc_U_N``` con $N$ pliegues."
      ]
    },
    {
      "cell_type": "code",
      "execution_count": 6,
      "metadata": {
        "id": "3EJJL9UJnOGm"
      },
      "outputs": [],
      "source": [
        "def folding( qc_U, N ):\n",
        "\n",
        "    qc_U_N = qc_U.copy()\n",
        "\n",
        "    ##### Escriba su solución acá #####\n",
        "    for i in range(N):\n",
        "      qc_U_N.compose(qc_U, inplace = True)\n",
        "      qc_U_N.compose(qc_U.inverse(), inplace= True)\n",
        "    ########################\n",
        "\n",
        "    return qc_U_N"
      ]
    },
    {
      "cell_type": "code",
      "execution_count": 7,
      "metadata": {
        "id": "OA4EMSSOnOGm",
        "outputId": "5e689d5e-8366-4ea9-e424-28c203f44ab8",
        "colab": {
          "base_uri": "https://localhost:8080/",
          "height": 127
        }
      },
      "outputs": [
        {
          "output_type": "execute_result",
          "data": {
            "text/plain": [
              "<Figure size 185.453x117.056 with 1 Axes>"
            ],
            "image/png": "[encoded data removed]"
          },
          "metadata": {},
          "execution_count": 7
        }
      ],
      "source": [
        "qc_U = random_circuit(1,1)\n",
        "qc_U.draw('mpl')"
      ]
    },
    {
      "cell_type": "code",
      "execution_count": 8,
      "metadata": {
        "id": "yTPg5TypnOGn",
        "outputId": "1a4459de-5372-4d30-a2fe-6101f88efe21",
        "colab": {
          "base_uri": "https://localhost:8080/",
          "height": 127
        }
      },
      "outputs": [
        {
          "output_type": "execute_result",
          "data": {
            "text/plain": [
              "<Figure size 519.897x117.056 with 1 Axes>"
            ],
            "image/png": "[encoded data removed]"
          },
          "metadata": {},
          "execution_count": 8
        }
      ],
      "source": [
        "N = 2\n",
        "qc_U_N = folding( qc_U, N )\n",
        "qc_U_N.draw('mpl')"
      ]
    },
    {
      "cell_type": "code",
      "execution_count": 9,
      "metadata": {
        "id": "75z7swsonOGn",
        "outputId": "580745dd-092d-49b0-bea7-f367a3672c5a",
        "colab": {
          "base_uri": "https://localhost:8080/"
        }
      },
      "outputs": [
        {
          "output_type": "stream",
          "name": "stdout",
          "text": [
            "Felicitaciones, tu solución es correcta!\n"
          ]
        }
      ],
      "source": [
        "test_2a( folding )"
      ]
    },
    {
      "cell_type": "markdown",
      "metadata": {
        "id": "c0SHRAGZnOGo"
      },
      "source": [
        "__Desafio:__ Consideremos el siguiente observable de 2 qubits,\n",
        "$$ A = \\sigma_x\\otimes \\sigma_y + 2\\sigma_y\\otimes\\sigma_x + 3\\sigma_z\\otimes\\sigma_x. $$\n",
        "Construya este observable utlizando la función ``SparsePauliOp``."
      ]
    },
    {
      "cell_type": "markdown",
      "source": [],
      "metadata": {
        "id": "Cv8yeODmsqKt"
      }
    },
    {
      "cell_type": "code",
      "execution_count": 10,
      "metadata": {
        "id": "xgofJlUgnOGo",
        "outputId": "f748aa62-f55f-4d0c-abab-f1b0bee47ba2",
        "colab": {
          "base_uri": "https://localhost:8080/"
        }
      },
      "outputs": [
        {
          "output_type": "execute_result",
          "data": {
            "text/plain": [
              "SparsePauliOp(['XY', 'YX', 'ZX'],\n",
              "              coeffs=[1.+0.j, 2.+0.j, 3.+0.j])"
            ]
          },
          "metadata": {},
          "execution_count": 10
        }
      ],
      "source": [
        "A = SparsePauliOp(['XY', 'YX', 'ZX'], [1, 2,3])   # Esto es solo una opción por defecto\n",
        "\n",
        "\n",
        "### Escriba su respuesta aca\n",
        "\n",
        "####\n",
        "\n",
        "A"
      ]
    },
    {
      "cell_type": "code",
      "execution_count": 11,
      "metadata": {
        "id": "jDqC5NSznOGo",
        "outputId": "7a56f0d9-f34c-471b-83fd-65c93890c78f",
        "colab": {
          "base_uri": "https://localhost:8080/"
        }
      },
      "outputs": [
        {
          "output_type": "stream",
          "name": "stdout",
          "text": [
            "Felicitaciones, tu solución es correcta!\n"
          ]
        }
      ],
      "source": [
        "test_2b( A )"
      ]
    },
    {
      "cell_type": "markdown",
      "metadata": {
        "id": "WFip-yVZnOGo"
      },
      "source": [
        "Las siguientes celdas realizan  una simulación con ruido de la evaluación de $A$. El gráfico muestra el resultado para un caso donde $\\langle A \\rangle = -3$. Podemos como el valor esperado de la simulación ruidosa se va alejando del valor ideal a medida que aumentan los pliegues."
      ]
    },
    {
      "cell_type": "code",
      "execution_count": 12,
      "metadata": {
        "id": "PKhmT6y_nOGo"
      },
      "outputs": [],
      "source": [
        "noise_model = NoiseModel()\n",
        "error = depolarizing_error( 0.01, 1 )\n",
        "noise_model.add_quantum_error( error, ['x', 'h', 'u', 'y', 'z'], [0] )\n",
        "noise_model.add_quantum_error( error, ['x', 'h', 'u', 'y', 'z'], [1] )\n",
        "\n",
        "backend = Estimator( backend_options={'noise_model':noise_model},\n",
        "                    run_options={'shots':1000, 'seed':0 },\n",
        "                    skip_transpilation = True )"
      ]
    },
    {
      "cell_type": "code",
      "execution_count": 13,
      "metadata": {
        "id": "QizI_fK0nOGp"
      },
      "outputs": [],
      "source": [
        "def simulacion( qc_U, Ns ):\n",
        "    obs = []\n",
        "    for n in Ns:\n",
        "        qc_U_N = folding( qc_U, n )\n",
        "        job = backend.run( qc_U_N.decompose(reps=3), A )\n",
        "        obs.append( job.result().values[0] )\n",
        "    return obs"
      ]
    },
    {
      "cell_type": "code",
      "execution_count": 14,
      "metadata": {
        "id": "1yLAiChrnOGp",
        "outputId": "03dd6105-c8af-4ea8-ebf6-fd208bd1a832",
        "colab": {
          "base_uri": "https://localhost:8080/",
          "height": 467
        }
      },
      "outputs": [
        {
          "output_type": "execute_result",
          "data": {
            "text/plain": [
              "<matplotlib.legend.Legend at 0x793c9a62f2b0>"
            ]
          },
          "metadata": {},
          "execution_count": 14
        },
        {
          "output_type": "display_data",
          "data": {
            "text/plain": [
              "<Figure size 640x480 with 1 Axes>"
            ],
            "image/png": "[encoded data removed]"
          },
          "metadata": {}
        }
      ],
      "source": [
        "qc_U = QuantumCircuit(2)\n",
        "qc_U.h(0)\n",
        "qc_U.cx(0,1)\n",
        "qc_U.sdg(1)\n",
        "Ns = [ 0, 1, 2, 3, 4 ]\n",
        "obs = np.mean([ simulacion( qc_U, Ns ) for _ in range(10) ], axis=0)\n",
        "plt.plot( Ns, obs, '-o' )\n",
        "plt.hlines( -3, 0, 4, linestyles='--', color='tab:orange' )\n",
        "plt.xlabel('Pliegues')\n",
        "plt.ylabel(r'$\\langle A \\rangle$')\n",
        "plt.legend(['Datos ruidosos', 'Dato sin ruido'])"
      ]
    },
    {
      "cell_type": "markdown",
      "metadata": {
        "id": "P-BDgkIznOGp"
      },
      "source": [
        "Gracias a esto se puede realizar un extrapolación y obtener un estimador de $\\langle A\\rangle$ \"sin ruido\". La extrapolación más simple es la lineal, la cual toma estimadores ruidosos $\\{ \\langle A_N\\rangle \\}$ de circuitos con $N$ pliegues y supone que\n",
        "$$ \\langle A_N\\rangle \\approx a ( 2N+1) + b .$$\n",
        "Luego, mediente interpolación por minimos cuadrados se encuentran los parametros $a$ y $b$. El estimador sin ruido es dado por\n",
        "$$ \\langle A\\rangle \\approx b .$$\n",
        "\n",
        "![fit](https://raw.githubusercontent.com/MIROptics/ECC2025/refs/heads/master/desafios/img/fig_ZNE_fit.png?raw=true)\n",
        "\n",
        "__Desafio:__ Complete la siguiente función que realiza el ajuste de los parametros $a$ y $b$. Puede ayudarse de funciones de otras librerias como ``numpy`` o ``scipy``.  "
      ]
    },
    {
      "cell_type": "code",
      "execution_count": 19,
      "metadata": {
        "id": "kDnnW3lOnOGp"
      },
      "outputs": [],
      "source": [
        "from scipy.optimize import curve_fit\n",
        "def extrapolation( Ns, obs ):\n",
        "\n",
        "    a = 0\n",
        "    b = 0\n",
        "\n",
        "    #### Escriba su solución aca ######\n",
        "    def linear_model(N, a, b):\n",
        "        return a * (2 * N + 1) + b\n",
        "\n",
        "    # Ajustar los parámetros a y b utilizando mínimos cuadrados\n",
        "    params, _ = curve_fit(linear_model, Ns, obs)\n",
        "    a, b = params\n",
        "    ###################################\n",
        "\n",
        "    return a, b"
      ]
    },
    {
      "cell_type": "markdown",
      "metadata": {
        "id": "s5LFPx1WnOGp"
      },
      "source": [
        "Con la siguiente celda podemos ver como funciona nuestra extrapolación."
      ]
    },
    {
      "cell_type": "code",
      "execution_count": 20,
      "metadata": {
        "id": "9xfTDhDonOGp",
        "outputId": "a6d8aaf8-9fb5-460d-c5cf-8be743604709",
        "colab": {
          "base_uri": "https://localhost:8080/",
          "height": 467
        }
      },
      "outputs": [
        {
          "output_type": "execute_result",
          "data": {
            "text/plain": [
              "<matplotlib.legend.Legend at 0x793c982839d0>"
            ]
          },
          "metadata": {},
          "execution_count": 20
        },
        {
          "output_type": "display_data",
          "data": {
            "text/plain": [
              "<Figure size 640x480 with 1 Axes>"
            ],
            "image/png": "[encoded data removed]"
          },
          "metadata": {}
        }
      ],
      "source": [
        "a, b = extrapolation( Ns, obs )\n",
        "x = np.arange(0,np.max(2*np.array(Ns)+1)+1)\n",
        "y = a * x + b\n",
        "plt.plot( 2*np.array(Ns)+1, obs, 'o' )\n",
        "plt.plot( x, y )\n",
        "plt.plot( [0], [b], 'o' )\n",
        "plt.hlines( -3, 0, 9, linestyles='--', color='tab:red' )\n",
        "plt.xlabel('Ruido')\n",
        "plt.ylabel(r'$\\langle A\\rangle$')\n",
        "plt.legend(['Datos ruidosos', 'Ajuste', 'ZNE','Dato sin ruido' ] )\n",
        "# plt.savefig('fig_ZNE_fit.png')"
      ]
    },
    {
      "cell_type": "code",
      "execution_count": 21,
      "metadata": {
        "id": "qdh3Ieb-nOGp",
        "outputId": "beb0dd4d-b9e6-49c5-808a-46c202785e28",
        "colab": {
          "base_uri": "https://localhost:8080/"
        }
      },
      "outputs": [
        {
          "output_type": "stream",
          "name": "stderr",
          "text": [
            "<ipython-input-21-a6d6318bab31>:1: DeprecationWarning: Estimator has been deprecated as of Aer 0.15, please use EstimatorV2 instead.\n",
            "  test_2c( extrapolation, A, Ns, folding )\n",
            "<ipython-input-21-a6d6318bab31>:1: DeprecationWarning: Option approximation=False is deprecated as of qiskit-aer 0.13. It will be removed no earlier than 3 months after the release date. Instead, use BackendEstimator from qiskit.primitives.\n",
            "  test_2c( extrapolation, A, Ns, folding )\n",
            "<ipython-input-21-a6d6318bab31>:1: DeprecationWarning: Estimator has been deprecated as of Aer 0.15, please use EstimatorV2 instead.\n",
            "  test_2c( extrapolation, A, Ns, folding )\n",
            "<ipython-input-21-a6d6318bab31>:1: DeprecationWarning: Option approximation=False is deprecated as of qiskit-aer 0.13. It will be removed no earlier than 3 months after the release date. Instead, use BackendEstimator from qiskit.primitives.\n",
            "  test_2c( extrapolation, A, Ns, folding )\n",
            "<ipython-input-21-a6d6318bab31>:1: DeprecationWarning: Estimator has been deprecated as of Aer 0.15, please use EstimatorV2 instead.\n",
            "  test_2c( extrapolation, A, Ns, folding )\n",
            "<ipython-input-21-a6d6318bab31>:1: DeprecationWarning: Option approximation=False is deprecated as of qiskit-aer 0.13. It will be removed no earlier than 3 months after the release date. Instead, use BackendEstimator from qiskit.primitives.\n",
            "  test_2c( extrapolation, A, Ns, folding )\n"
          ]
        },
        {
          "output_type": "stream",
          "name": "stdout",
          "text": [
            "Tu solución esta correcta!\n"
          ]
        }
      ],
      "source": [
        "test_2c( extrapolation, A, Ns, folding )"
      ]
    },
    {
      "cell_type": "markdown",
      "metadata": {
        "id": "Rfde5eYFnOGq"
      },
      "source": [
        "El estudio e implementación de métodos de mitigación de errores es un campo activo de investigación. En particular, Qiskit ya tiene integradas varias técnicas de <a href='https://docs.quantum.ibm.com/guides/error-mitigation-and-suppression-techniques'>mitigación y supresión de errores</a>. Más aún, existe una libreria exclusivamente dedicada a la mitigación de errores llamada <a href='https://mitiq.readthedocs.io/en/stable/index.html'>mitiq</a>. Esta libreria es no solo compatible con Qiskit, si no que también con otros lenguajes para controlar computadores cuánticos como Pennylane o Cirq."
      ]
    },
    {
      "cell_type": "code",
      "execution_count": null,
      "metadata": {
        "id": "LuihElsvnOGq"
      },
      "outputs": [],
      "source": []
    }
  ],
  "metadata": {
    "kernelspec": {
      "display_name": "ecc2025",
      "language": "python",
      "name": "python3"
    },
    "language_info": {
      "codemirror_mode": {
        "name": "ipython",
        "version": 3
      },
      "file_extension": ".py",
      "mimetype": "text/x-python",
      "name": "python",
      "nbconvert_exporter": "python",
      "pygments_lexer": "ipython3",
      "version": "3.12.8"
    },
    "colab": {
      "provenance": []
    }
  },
  "nbformat": 4,
  "nbformat_minor": 0
}