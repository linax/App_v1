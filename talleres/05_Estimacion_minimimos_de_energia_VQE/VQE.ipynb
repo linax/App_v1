{
  "cells": [
    {
      "cell_type": "markdown",
      "id": "y75VleIlB1Ye",
      "metadata": {
        "id": "y75VleIlB1Ye"
      },
      "source": []
    },
    {
      "cell_type": "markdown",
      "id": "sD2bmwKbbpcD",
      "metadata": {
        "id": "sD2bmwKbbpcD"
      },
      "source": [
        "# **Estimación de mínimos de energía en moléculas con VQE**"
      ]
    },
    {
      "cell_type": "code",
      "execution_count": 1,
      "id": "GD_3BAh5Vu0B",
      "metadata": {
        "colab": {
          "base_uri": "https://localhost:8080/"
        },
        "id": "GD_3BAh5Vu0B",
        "outputId": "b0b865c1-218f-4cfb-9cbb-b8c2cf620d97"
      },
      "outputs": [
        {
          "output_type": "stream",
          "name": "stdout",
          "text": [
            "Collecting git+https://github.com/MIROptics/ECC2025.git\n",
            "  Cloning https://github.com/MIROptics/ECC2025.git to /tmp/pip-req-build-24fcueli\n",
            "  Running command git clone --filter=blob:none --quiet https://github.com/MIROptics/ECC2025.git /tmp/pip-req-build-24fcueli\n",
            "  Resolved https://github.com/MIROptics/ECC2025.git to commit e44b6a0a0a88c82b64d62e155cd70a5295c5b59b\n",
            "  Preparing metadata (setup.py) ... \u001b[?25l\u001b[?25hdone\n",
            "Requirement already satisfied: numpy in /usr/local/lib/python3.10/dist-packages (from ECC2025==0.1.2) (1.26.4)\n",
            "Requirement already satisfied: scipy in /usr/local/lib/python3.10/dist-packages (from ECC2025==0.1.2) (1.13.1)\n",
            "Collecting qiskit (from ECC2025==0.1.2)\n",
            "  Downloading qiskit-1.3.1-cp39-abi3-manylinux_2_17_x86_64.manylinux2014_x86_64.whl.metadata (12 kB)\n",
            "Collecting qiskit_ibm_runtime (from ECC2025==0.1.2)\n",
            "  Downloading qiskit_ibm_runtime-0.34.0-py3-none-any.whl.metadata (3.0 kB)\n",
            "Collecting qiskit_aer (from ECC2025==0.1.2)\n",
            "  Downloading qiskit_aer-0.15.1-cp310-cp310-manylinux_2_17_x86_64.manylinux2014_x86_64.whl.metadata (8.0 kB)\n",
            "Collecting pylatexenc (from ECC2025==0.1.2)\n",
            "  Downloading pylatexenc-2.10.tar.gz (162 kB)\n",
            "\u001b[2K     \u001b[90m━━━━━━━━━━━━━━━━━━━━━━━━━━━━━━━━━━━━━━━━\u001b[0m \u001b[32m162.6/162.6 kB\u001b[0m \u001b[31m12.2 MB/s\u001b[0m eta \u001b[36m0:00:00\u001b[0m\n",
            "\u001b[?25h  Preparing metadata (setup.py) ... \u001b[?25l\u001b[?25hdone\n",
            "Requirement already satisfied: matplotlib in /usr/local/lib/python3.10/dist-packages (from ECC2025==0.1.2) (3.10.0)\n",
            "Requirement already satisfied: scikit-learn in /usr/local/lib/python3.10/dist-packages (from ECC2025==0.1.2) (1.6.0)\n",
            "Requirement already satisfied: pandas in /usr/local/lib/python3.10/dist-packages (from ECC2025==0.1.2) (2.2.2)\n",
            "Collecting qiskit_algorithms (from ECC2025==0.1.2)\n",
            "  Downloading qiskit_algorithms-0.3.1-py3-none-any.whl.metadata (4.2 kB)\n",
            "Requirement already satisfied: seaborn in /usr/local/lib/python3.10/dist-packages (from ECC2025==0.1.2) (0.13.2)\n",
            "Requirement already satisfied: tensorflow in /usr/local/lib/python3.10/dist-packages (from ECC2025==0.1.2) (2.17.1)\n",
            "Requirement already satisfied: keras in /usr/local/lib/python3.10/dist-packages (from ECC2025==0.1.2) (3.5.0)\n",
            "Collecting pyscf (from ECC2025==0.1.2)\n",
            "  Downloading pyscf-2.7.0-py3-none-manylinux_2_17_x86_64.manylinux2014_x86_64.whl.metadata (6.2 kB)\n",
            "Collecting qiskit_nature (from ECC2025==0.1.2)\n",
            "  Downloading qiskit_nature-0.7.2-py3-none-any.whl.metadata (8.0 kB)\n",
            "Requirement already satisfied: absl-py in /usr/local/lib/python3.10/dist-packages (from keras->ECC2025==0.1.2) (1.4.0)\n",
            "Requirement already satisfied: rich in /usr/local/lib/python3.10/dist-packages (from keras->ECC2025==0.1.2) (13.9.4)\n",
            "Requirement already satisfied: namex in /usr/local/lib/python3.10/dist-packages (from keras->ECC2025==0.1.2) (0.0.8)\n",
            "Requirement already satisfied: h5py in /usr/local/lib/python3.10/dist-packages (from keras->ECC2025==0.1.2) (3.12.1)\n",
            "Requirement already satisfied: optree in /usr/local/lib/python3.10/dist-packages (from keras->ECC2025==0.1.2) (0.13.1)\n",
            "Requirement already satisfied: ml-dtypes in /usr/local/lib/python3.10/dist-packages (from keras->ECC2025==0.1.2) (0.4.1)\n",
            "Requirement already satisfied: packaging in /usr/local/lib/python3.10/dist-packages (from keras->ECC2025==0.1.2) (24.2)\n",
            "Requirement already satisfied: contourpy>=1.0.1 in /usr/local/lib/python3.10/dist-packages (from matplotlib->ECC2025==0.1.2) (1.3.1)\n",
            "Requirement already satisfied: cycler>=0.10 in /usr/local/lib/python3.10/dist-packages (from matplotlib->ECC2025==0.1.2) (0.12.1)\n",
            "Requirement already satisfied: fonttools>=4.22.0 in /usr/local/lib/python3.10/dist-packages (from matplotlib->ECC2025==0.1.2) (4.55.3)\n",
            "Requirement already satisfied: kiwisolver>=1.3.1 in /usr/local/lib/python3.10/dist-packages (from matplotlib->ECC2025==0.1.2) (1.4.8)\n",
            "Requirement already satisfied: pillow>=8 in /usr/local/lib/python3.10/dist-packages (from matplotlib->ECC2025==0.1.2) (11.1.0)\n",
            "Requirement already satisfied: pyparsing>=2.3.1 in /usr/local/lib/python3.10/dist-packages (from matplotlib->ECC2025==0.1.2) (3.2.1)\n",
            "Requirement already satisfied: python-dateutil>=2.7 in /usr/local/lib/python3.10/dist-packages (from matplotlib->ECC2025==0.1.2) (2.8.2)\n",
            "Requirement already satisfied: pytz>=2020.1 in /usr/local/lib/python3.10/dist-packages (from pandas->ECC2025==0.1.2) (2024.2)\n",
            "Requirement already satisfied: tzdata>=2022.7 in /usr/local/lib/python3.10/dist-packages (from pandas->ECC2025==0.1.2) (2024.2)\n",
            "Requirement already satisfied: setuptools in /usr/local/lib/python3.10/dist-packages (from pyscf->ECC2025==0.1.2) (75.1.0)\n",
            "Collecting rustworkx>=0.15.0 (from qiskit->ECC2025==0.1.2)\n",
            "  Downloading rustworkx-0.15.1-cp38-abi3-manylinux_2_17_x86_64.manylinux2014_x86_64.whl.metadata (9.9 kB)\n",
            "Requirement already satisfied: sympy>=1.3 in /usr/local/lib/python3.10/dist-packages (from qiskit->ECC2025==0.1.2) (1.13.1)\n",
            "Collecting dill>=0.3 (from qiskit->ECC2025==0.1.2)\n",
            "  Downloading dill-0.3.9-py3-none-any.whl.metadata (10 kB)\n",
            "Collecting stevedore>=3.0.0 (from qiskit->ECC2025==0.1.2)\n",
            "  Downloading stevedore-5.4.0-py3-none-any.whl.metadata (2.3 kB)\n",
            "Requirement already satisfied: typing-extensions in /usr/local/lib/python3.10/dist-packages (from qiskit->ECC2025==0.1.2) (4.12.2)\n",
            "Collecting symengine<0.14,>=0.11 (from qiskit->ECC2025==0.1.2)\n",
            "  Downloading symengine-0.13.0-cp310-cp310-manylinux_2_17_x86_64.manylinux2014_x86_64.whl.metadata (1.2 kB)\n",
            "Requirement already satisfied: psutil>=5 in /usr/local/lib/python3.10/dist-packages (from qiskit_aer->ECC2025==0.1.2) (5.9.5)\n",
            "Requirement already satisfied: requests>=2.19 in /usr/local/lib/python3.10/dist-packages (from qiskit_ibm_runtime->ECC2025==0.1.2) (2.32.3)\n",
            "Collecting requests-ntlm>=1.1.0 (from qiskit_ibm_runtime->ECC2025==0.1.2)\n",
            "  Downloading requests_ntlm-1.3.0-py3-none-any.whl.metadata (2.4 kB)\n",
            "Requirement already satisfied: urllib3>=1.21.1 in /usr/local/lib/python3.10/dist-packages (from qiskit_ibm_runtime->ECC2025==0.1.2) (2.3.0)\n",
            "Requirement already satisfied: websocket-client>=1.5.1 in /usr/local/lib/python3.10/dist-packages (from qiskit_ibm_runtime->ECC2025==0.1.2) (1.8.0)\n",
            "Collecting ibm-platform-services>=0.22.6 (from qiskit_ibm_runtime->ECC2025==0.1.2)\n",
            "  Downloading ibm_platform_services-0.59.0-py3-none-any.whl.metadata (9.0 kB)\n",
            "Collecting pydantic<2.10,>=2.5.0 (from qiskit_ibm_runtime->ECC2025==0.1.2)\n",
            "  Downloading pydantic-2.9.2-py3-none-any.whl.metadata (149 kB)\n",
            "\u001b[2K     \u001b[90m━━━━━━━━━━━━━━━━━━━━━━━━━━━━━━━━━━━━━━━━\u001b[0m \u001b[32m149.4/149.4 kB\u001b[0m \u001b[31m11.9 MB/s\u001b[0m eta \u001b[36m0:00:00\u001b[0m\n",
            "\u001b[?25hRequirement already satisfied: joblib>=1.2.0 in /usr/local/lib/python3.10/dist-packages (from scikit-learn->ECC2025==0.1.2) (1.4.2)\n",
            "Requirement already satisfied: threadpoolctl>=3.1.0 in /usr/local/lib/python3.10/dist-packages (from scikit-learn->ECC2025==0.1.2) (3.5.0)\n",
            "Requirement already satisfied: astunparse>=1.6.0 in /usr/local/lib/python3.10/dist-packages (from tensorflow->ECC2025==0.1.2) (1.6.3)\n",
            "Requirement already satisfied: flatbuffers>=24.3.25 in /usr/local/lib/python3.10/dist-packages (from tensorflow->ECC2025==0.1.2) (24.12.23)\n",
            "Requirement already satisfied: gast!=0.5.0,!=0.5.1,!=0.5.2,>=0.2.1 in /usr/local/lib/python3.10/dist-packages (from tensorflow->ECC2025==0.1.2) (0.6.0)\n",
            "Requirement already satisfied: google-pasta>=0.1.1 in /usr/local/lib/python3.10/dist-packages (from tensorflow->ECC2025==0.1.2) (0.2.0)\n",
            "Requirement already satisfied: libclang>=13.0.0 in /usr/local/lib/python3.10/dist-packages (from tensorflow->ECC2025==0.1.2) (18.1.1)\n",
            "Requirement already satisfied: opt-einsum>=2.3.2 in /usr/local/lib/python3.10/dist-packages (from tensorflow->ECC2025==0.1.2) (3.4.0)\n",
            "Requirement already satisfied: protobuf!=4.21.0,!=4.21.1,!=4.21.2,!=4.21.3,!=4.21.4,!=4.21.5,<5.0.0dev,>=3.20.3 in /usr/local/lib/python3.10/dist-packages (from tensorflow->ECC2025==0.1.2) (4.25.5)\n",
            "Requirement already satisfied: six>=1.12.0 in /usr/local/lib/python3.10/dist-packages (from tensorflow->ECC2025==0.1.2) (1.17.0)\n",
            "Requirement already satisfied: termcolor>=1.1.0 in /usr/local/lib/python3.10/dist-packages (from tensorflow->ECC2025==0.1.2) (2.5.0)\n",
            "Requirement already satisfied: wrapt>=1.11.0 in /usr/local/lib/python3.10/dist-packages (from tensorflow->ECC2025==0.1.2) (1.17.0)\n",
            "Requirement already satisfied: grpcio<2.0,>=1.24.3 in /usr/local/lib/python3.10/dist-packages (from tensorflow->ECC2025==0.1.2) (1.69.0)\n",
            "Requirement already satisfied: tensorboard<2.18,>=2.17 in /usr/local/lib/python3.10/dist-packages (from tensorflow->ECC2025==0.1.2) (2.17.1)\n",
            "Requirement already satisfied: tensorflow-io-gcs-filesystem>=0.23.1 in /usr/local/lib/python3.10/dist-packages (from tensorflow->ECC2025==0.1.2) (0.37.1)\n",
            "Requirement already satisfied: wheel<1.0,>=0.23.0 in /usr/local/lib/python3.10/dist-packages (from astunparse>=1.6.0->tensorflow->ECC2025==0.1.2) (0.45.1)\n",
            "Collecting ibm-cloud-sdk-core<4.0.0,>=3.22.0 (from ibm-platform-services>=0.22.6->qiskit_ibm_runtime->ECC2025==0.1.2)\n",
            "  Downloading ibm_cloud_sdk_core-3.22.0-py3-none-any.whl.metadata (8.6 kB)\n",
            "Requirement already satisfied: annotated-types>=0.6.0 in /usr/local/lib/python3.10/dist-packages (from pydantic<2.10,>=2.5.0->qiskit_ibm_runtime->ECC2025==0.1.2) (0.7.0)\n",
            "Collecting pydantic-core==2.23.4 (from pydantic<2.10,>=2.5.0->qiskit_ibm_runtime->ECC2025==0.1.2)\n",
            "  Downloading pydantic_core-2.23.4-cp310-cp310-manylinux_2_17_x86_64.manylinux2014_x86_64.whl.metadata (6.6 kB)\n",
            "Requirement already satisfied: charset-normalizer<4,>=2 in /usr/local/lib/python3.10/dist-packages (from requests>=2.19->qiskit_ibm_runtime->ECC2025==0.1.2) (3.4.1)\n",
            "Requirement already satisfied: idna<4,>=2.5 in /usr/local/lib/python3.10/dist-packages (from requests>=2.19->qiskit_ibm_runtime->ECC2025==0.1.2) (3.10)\n",
            "Requirement already satisfied: certifi>=2017.4.17 in /usr/local/lib/python3.10/dist-packages (from requests>=2.19->qiskit_ibm_runtime->ECC2025==0.1.2) (2024.12.14)\n",
            "Requirement already satisfied: cryptography>=1.3 in /usr/local/lib/python3.10/dist-packages (from requests-ntlm>=1.1.0->qiskit_ibm_runtime->ECC2025==0.1.2) (43.0.3)\n",
            "Collecting pyspnego>=0.4.0 (from requests-ntlm>=1.1.0->qiskit_ibm_runtime->ECC2025==0.1.2)\n",
            "  Downloading pyspnego-0.11.2-py3-none-any.whl.metadata (5.4 kB)\n",
            "Collecting pbr>=2.0.0 (from stevedore>=3.0.0->qiskit->ECC2025==0.1.2)\n",
            "  Downloading pbr-6.1.0-py2.py3-none-any.whl.metadata (3.4 kB)\n",
            "Requirement already satisfied: mpmath<1.4,>=1.1.0 in /usr/local/lib/python3.10/dist-packages (from sympy>=1.3->qiskit->ECC2025==0.1.2) (1.3.0)\n",
            "Requirement already satisfied: markdown>=2.6.8 in /usr/local/lib/python3.10/dist-packages (from tensorboard<2.18,>=2.17->tensorflow->ECC2025==0.1.2) (3.7)\n",
            "Requirement already satisfied: tensorboard-data-server<0.8.0,>=0.7.0 in /usr/local/lib/python3.10/dist-packages (from tensorboard<2.18,>=2.17->tensorflow->ECC2025==0.1.2) (0.7.2)\n",
            "Requirement already satisfied: werkzeug>=1.0.1 in /usr/local/lib/python3.10/dist-packages (from tensorboard<2.18,>=2.17->tensorflow->ECC2025==0.1.2) (3.1.3)\n",
            "Requirement already satisfied: markdown-it-py>=2.2.0 in /usr/local/lib/python3.10/dist-packages (from rich->keras->ECC2025==0.1.2) (3.0.0)\n",
            "Requirement already satisfied: pygments<3.0.0,>=2.13.0 in /usr/local/lib/python3.10/dist-packages (from rich->keras->ECC2025==0.1.2) (2.18.0)\n",
            "Requirement already satisfied: cffi>=1.12 in /usr/local/lib/python3.10/dist-packages (from cryptography>=1.3->requests-ntlm>=1.1.0->qiskit_ibm_runtime->ECC2025==0.1.2) (1.17.1)\n",
            "Requirement already satisfied: PyJWT<3.0.0,>=2.8.0 in /usr/local/lib/python3.10/dist-packages (from ibm-cloud-sdk-core<4.0.0,>=3.22.0->ibm-platform-services>=0.22.6->qiskit_ibm_runtime->ECC2025==0.1.2) (2.10.1)\n",
            "Requirement already satisfied: mdurl~=0.1 in /usr/local/lib/python3.10/dist-packages (from markdown-it-py>=2.2.0->rich->keras->ECC2025==0.1.2) (0.1.2)\n",
            "Requirement already satisfied: MarkupSafe>=2.1.1 in /usr/local/lib/python3.10/dist-packages (from werkzeug>=1.0.1->tensorboard<2.18,>=2.17->tensorflow->ECC2025==0.1.2) (3.0.2)\n",
            "Requirement already satisfied: pycparser in /usr/local/lib/python3.10/dist-packages (from cffi>=1.12->cryptography>=1.3->requests-ntlm>=1.1.0->qiskit_ibm_runtime->ECC2025==0.1.2) (2.22)\n",
            "Downloading pyscf-2.7.0-py3-none-manylinux_2_17_x86_64.manylinux2014_x86_64.whl (48.7 MB)\n",
            "\u001b[2K   \u001b[90m━━━━━━━━━━━━━━━━━━━━━━━━━━━━━━━━━━━━━━━━\u001b[0m \u001b[32m48.7/48.7 MB\u001b[0m \u001b[31m15.2 MB/s\u001b[0m eta \u001b[36m0:00:00\u001b[0m\n",
            "\u001b[?25hDownloading qiskit-1.3.1-cp39-abi3-manylinux_2_17_x86_64.manylinux2014_x86_64.whl (6.7 MB)\n",
            "\u001b[2K   \u001b[90m━━━━━━━━━━━━━━━━━━━━━━━━━━━━━━━━━━━━━━━━\u001b[0m \u001b[32m6.7/6.7 MB\u001b[0m \u001b[31m57.9 MB/s\u001b[0m eta \u001b[36m0:00:00\u001b[0m\n",
            "\u001b[?25hDownloading qiskit_aer-0.15.1-cp310-cp310-manylinux_2_17_x86_64.manylinux2014_x86_64.whl (12.3 MB)\n",
            "\u001b[2K   \u001b[90m━━━━━━━━━━━━━━━━━━━━━━━━━━━━━━━━━━━━━━━━\u001b[0m \u001b[32m12.3/12.3 MB\u001b[0m \u001b[31m79.3 MB/s\u001b[0m eta \u001b[36m0:00:00\u001b[0m\n",
            "\u001b[?25hDownloading qiskit_algorithms-0.3.1-py3-none-any.whl (310 kB)\n",
            "\u001b[2K   \u001b[90m━━━━━━━━━━━━━━━━━━━━━━━━━━━━━━━━━━━━━━━━\u001b[0m \u001b[32m310.5/310.5 kB\u001b[0m \u001b[31m24.9 MB/s\u001b[0m eta \u001b[36m0:00:00\u001b[0m\n",
            "\u001b[?25hDownloading qiskit_ibm_runtime-0.34.0-py3-none-any.whl (3.0 MB)\n",
            "\u001b[2K   \u001b[90m━━━━━━━━━━━━━━━━━━━━━━━━━━━━━━━━━━━━━━━━\u001b[0m \u001b[32m3.0/3.0 MB\u001b[0m \u001b[31m83.1 MB/s\u001b[0m eta \u001b[36m0:00:00\u001b[0m\n",
            "\u001b[?25hDownloading qiskit_nature-0.7.2-py3-none-any.whl (2.2 MB)\n",
            "\u001b[2K   \u001b[90m━━━━━━━━━━━━━━━━━━━━━━━━━━━━━━━━━━━━━━━━\u001b[0m \u001b[32m2.2/2.2 MB\u001b[0m \u001b[31m65.8 MB/s\u001b[0m eta \u001b[36m0:00:00\u001b[0m\n",
            "\u001b[?25hDownloading dill-0.3.9-py3-none-any.whl (119 kB)\n",
            "\u001b[2K   \u001b[90m━━━━━━━━━━━━━━━━━━━━━━━━━━━━━━━━━━━━━━━━\u001b[0m \u001b[32m119.4/119.4 kB\u001b[0m \u001b[31m10.4 MB/s\u001b[0m eta \u001b[36m0:00:00\u001b[0m\n",
            "\u001b[?25hDownloading ibm_platform_services-0.59.0-py3-none-any.whl (340 kB)\n",
            "\u001b[2K   \u001b[90m━━━━━━━━━━━━━━━━━━━━━━━━━━━━━━━━━━━━━━━━\u001b[0m \u001b[32m340.8/340.8 kB\u001b[0m \u001b[31m26.4 MB/s\u001b[0m eta \u001b[36m0:00:00\u001b[0m\n",
            "\u001b[?25hDownloading pydantic-2.9.2-py3-none-any.whl (434 kB)\n",
            "\u001b[2K   \u001b[90m━━━━━━━━━━━━━━━━━━━━━━━━━━━━━━━━━━━━━━━━\u001b[0m \u001b[32m434.9/434.9 kB\u001b[0m \u001b[31m25.2 MB/s\u001b[0m eta \u001b[36m0:00:00\u001b[0m\n",
            "\u001b[?25hDownloading pydantic_core-2.23.4-cp310-cp310-manylinux_2_17_x86_64.manylinux2014_x86_64.whl (2.1 MB)\n",
            "\u001b[2K   \u001b[90m━━━━━━━━━━━━━━━━━━━━━━━━━━━━━━━━━━━━━━━━\u001b[0m \u001b[32m2.1/2.1 MB\u001b[0m \u001b[31m75.7 MB/s\u001b[0m eta \u001b[36m0:00:00\u001b[0m\n",
            "\u001b[?25hDownloading requests_ntlm-1.3.0-py3-none-any.whl (6.6 kB)\n",
            "Downloading rustworkx-0.15.1-cp38-abi3-manylinux_2_17_x86_64.manylinux2014_x86_64.whl (2.0 MB)\n",
            "\u001b[2K   \u001b[90m━━━━━━━━━━━━━━━━━━━━━━━━━━━━━━━━━━━━━━━━\u001b[0m \u001b[32m2.0/2.0 MB\u001b[0m \u001b[31m66.5 MB/s\u001b[0m eta \u001b[36m0:00:00\u001b[0m\n",
            "\u001b[?25hDownloading stevedore-5.4.0-py3-none-any.whl (49 kB)\n",
            "\u001b[2K   \u001b[90m━━━━━━━━━━━━━━━━━━━━━━━━━━━━━━━━━━━━━━━━\u001b[0m \u001b[32m49.5/49.5 kB\u001b[0m \u001b[31m4.3 MB/s\u001b[0m eta \u001b[36m0:00:00\u001b[0m\n",
            "\u001b[?25hDownloading symengine-0.13.0-cp310-cp310-manylinux_2_17_x86_64.manylinux2014_x86_64.whl (49.7 MB)\n",
            "\u001b[2K   \u001b[90m━━━━━━━━━━━━━━━━━━━━━━━━━━━━━━━━━━━━━━━━\u001b[0m \u001b[32m49.7/49.7 MB\u001b[0m \u001b[31m10.6 MB/s\u001b[0m eta \u001b[36m0:00:00\u001b[0m\n",
            "\u001b[?25hDownloading ibm_cloud_sdk_core-3.22.0-py3-none-any.whl (69 kB)\n",
            "\u001b[2K   \u001b[90m━━━━━━━━━━━━━━━━━━━━━━━━━━━━━━━━━━━━━━━━\u001b[0m \u001b[32m69.4/69.4 kB\u001b[0m \u001b[31m4.8 MB/s\u001b[0m eta \u001b[36m0:00:00\u001b[0m\n",
            "\u001b[?25hDownloading pbr-6.1.0-py2.py3-none-any.whl (108 kB)\n",
            "\u001b[2K   \u001b[90m━━━━━━━━━━━━━━━━━━━━━━━━━━━━━━━━━━━━━━━━\u001b[0m \u001b[32m108.5/108.5 kB\u001b[0m \u001b[31m4.4 MB/s\u001b[0m eta \u001b[36m0:00:00\u001b[0m\n",
            "\u001b[?25hDownloading pyspnego-0.11.2-py3-none-any.whl (130 kB)\n",
            "\u001b[2K   \u001b[90m━━━━━━━━━━━━━━━━━━━━━━━━━━━━━━━━━━━━━━━━\u001b[0m \u001b[32m130.5/130.5 kB\u001b[0m \u001b[31m8.2 MB/s\u001b[0m eta \u001b[36m0:00:00\u001b[0m\n",
            "\u001b[?25hBuilding wheels for collected packages: ECC2025, pylatexenc\n",
            "  Building wheel for ECC2025 (setup.py) ... \u001b[?25l\u001b[?25hdone\n",
            "  Created wheel for ECC2025: filename=ECC2025-0.1.2-py3-none-any.whl size=6094 sha256=a733e6cdd1598347aaf3dfd4eecf391b0b416961bf36f8fe95504969dc28fd96\n",
            "  Stored in directory: /tmp/pip-ephem-wheel-cache-ydvvhi47/wheels/1c/8c/8d/d9fedbb1e70ca3e2547c1a8306696c99a9ce5f3f03641515ee\n",
            "  Building wheel for pylatexenc (setup.py) ... \u001b[?25l\u001b[?25hdone\n",
            "  Created wheel for pylatexenc: filename=pylatexenc-2.10-py3-none-any.whl size=136816 sha256=c209457bdcd5aa15ab35753447570f79c343ea191bdedf33148d5d09372dd20e\n",
            "  Stored in directory: /root/.cache/pip/wheels/d3/31/8b/e09b0386afd80cfc556c00408c9aeea5c35c4d484a9c762fd5\n",
            "Successfully built ECC2025 pylatexenc\n",
            "Installing collected packages: pylatexenc, symengine, rustworkx, pydantic-core, pbr, dill, stevedore, pyscf, pydantic, ibm-cloud-sdk-core, qiskit, pyspnego, ibm-platform-services, requests-ntlm, qiskit_algorithms, qiskit_aer, qiskit_nature, qiskit_ibm_runtime, ECC2025\n",
            "  Attempting uninstall: pydantic-core\n",
            "    Found existing installation: pydantic_core 2.27.2\n",
            "    Uninstalling pydantic_core-2.27.2:\n",
            "      Successfully uninstalled pydantic_core-2.27.2\n",
            "  Attempting uninstall: pydantic\n",
            "    Found existing installation: pydantic 2.10.4\n",
            "    Uninstalling pydantic-2.10.4:\n",
            "      Successfully uninstalled pydantic-2.10.4\n",
            "Successfully installed ECC2025-0.1.2 dill-0.3.9 ibm-cloud-sdk-core-3.22.0 ibm-platform-services-0.59.0 pbr-6.1.0 pydantic-2.9.2 pydantic-core-2.23.4 pylatexenc-2.10 pyscf-2.7.0 pyspnego-0.11.2 qiskit-1.3.1 qiskit_aer-0.15.1 qiskit_algorithms-0.3.1 qiskit_ibm_runtime-0.34.0 qiskit_nature-0.7.2 requests-ntlm-1.3.0 rustworkx-0.15.1 stevedore-5.4.0 symengine-0.13.0\n"
          ]
        }
      ],
      "source": [
        "pip install git+https://github.com/MIROptics/ECC2025.git"
      ]
    },
    {
      "cell_type": "markdown",
      "id": "vv8_bKMfmFfQ",
      "metadata": {
        "id": "vv8_bKMfmFfQ"
      },
      "source": [
        "## Variational quantum eigensolver\n",
        "\n",
        "Variational quantum eigensolver (VQE) [[1]](#Peruzzo2016) es un algoritmo que sirve para encontrar una cota superior para la mínima energía de un Hamiltoniano $\\hat{H}$ (operador autoadjunto), es decir, el menor autovalor de $\\hat{H}$. VQE es una herramienta útil en la búsqueda de una aproximación al estado basal, esto es, el autoestado asociado a la mínima energía. Para ello, VQE resuelve el problema\n",
        "\n",
        "\\begin{equation}\n",
        " \\min_{|\\psi\\rangle}\\frac{\n",
        " \\langle\\psi|\\hat{H}|\\psi\\rangle}{\\langle\\psi|\\psi\\rangle}\n",
        "\\end{equation}\n",
        "\n",
        "lo que significa que se busca un estado $|\\psi\\rangle$ que minimice el coeficiente de Rayleigh. Magnitud que puede ser eficientemente evaluada mediante un computador cuántico, y minimizada en un computador clásico. Para llevar a cabo esta tarea, se necesita aprender tres cosas:\n",
        "\n",
        "1) Mapear el Hamiltoniano $\\hat{H}$ a un computador cuántico.\n",
        "\n",
        "2) Generar el estado $|\\psi\\rangle$ en un circuito cuántico paramétrico.\n",
        "\n",
        "3) Evaluar el valor esperado del hamiltoniano $\\hat{H}$."
      ]
    },
    {
      "cell_type": "markdown",
      "id": "292656bc-2d0b-4db8-94e4-f3e864e1b387",
      "metadata": {
        "id": "292656bc-2d0b-4db8-94e4-f3e864e1b387"
      },
      "source": [
        "## Primer Paso: Mapeo del Hamiltoneano\n",
        "\n",
        "Hamiltonianos moleculares en segunda cuantización [[2]](#Tilly2022) pueden ser definidos como operadores fermiónicos mediante la función PySCFDriver() de la librería qiskit_nature.second_q.drivers."
      ]
    },
    {
      "cell_type": "code",
      "execution_count": 2,
      "id": "zRci31_8dOQq",
      "metadata": {
        "id": "zRci31_8dOQq",
        "outputId": "8914fc09-217a-4122-d0a4-1bc0825645b3",
        "colab": {
          "base_uri": "https://localhost:8080/"
        }
      },
      "outputs": [
        {
          "output_type": "stream",
          "name": "stdout",
          "text": [
            "Fermionic Operator\n",
            "number spin orbitals=4, number terms=36\n",
            "  -1.25633907300325 * ( +_0 -_0 )\n",
            "+ -0.47189600728114184 * ( +_1 -_1 )\n",
            "+ -1.25633907300325 * ( +_2 -_2 )\n",
            "+ -0.47189600728114184 * ( +_3 -_3 )\n",
            "+ 0.33785507740175813 * ( +_0 +_0 -_0 -_0 )\n",
            "+ 0.33229086512764816 * ( +_0 +_1 -_1 -_0 )\n",
            "+ 0.33785507740175813 * ( +_0 +_2 -_2 -_0 )\n",
            "+ 0.33229086512764816 * ( +_0 +_3 -_3 -_0 )\n",
            "+ 0.0904655998921157 * ( +_0 +_0 -_1 -_1 )\n",
            "+ 0.0904655998921157 * ( +_0 +_1 -_0 -_1 )\n",
            "+ 0.0904655998921157 * ( +_0 +_2 -_3 -_1 )\n",
            "+ 0.0904655998921157 * ( +_0 +_3 -_2 -_1 )\n",
            "+ 0.0904655998921157 * ( +_1 +_0 -_1 -_0 )\n",
            "+ 0.0904655998921157 * ( +_1 +_1 -_0 -_0 )\n",
            "+ 0.0904655998921157 * ( +_1 +_2 -_3 -_0 )\n",
            "+ 0.0904655998921157 * ( +_1 +_3 -_2 -_0 )\n",
            "+ 0.33229086512764816 * ( +_1 +_0 -_0 -_1 )\n",
            "+ 0.34928686136600906 * ( +_1 +_1 -_1 -_1 )\n",
            "+ 0.33229086512764816 * ( +_1 +_2 -_2 -_1 )\n",
            "+ 0.34928686136600906 * ( +_1 +_3 -_3 -_1 )\n",
            "+ 0.33785507740175813 * ( +_2 +_0 -_0 -_2 )\n",
            "+ 0.33229086512764816 * ( +_2 +_1 -_1 -_2 )\n",
            "+ 0.33785507740175813 * ( +_2 +_2 -_2 -_2 )\n",
            "+ 0.33229086512764816 * ( +_2 +_3 -_3 -_2 )\n",
            "+ 0.0904655998921157 * ( +_2 +_0 -_1 -_3 )\n",
            "+ 0.0904655998921157 * ( +_2 +_1 -_0 -_3 )\n",
            "+ 0.0904655998921157 * ( +_2 +_2 -_3 -_3 )\n",
            "+ 0.0904655998921157 * ( +_2 +_3 -_2 -_3 )\n",
            "+ 0.0904655998921157 * ( +_3 +_0 -_1 -_2 )\n",
            "+ 0.0904655998921157 * ( +_3 +_1 -_0 -_2 )\n",
            "+ 0.0904655998921157 * ( +_3 +_2 -_3 -_2 )\n",
            "+ 0.0904655998921157 * ( +_3 +_3 -_2 -_2 )\n",
            "+ 0.33229086512764816 * ( +_3 +_0 -_0 -_3 )\n",
            "+ 0.34928686136600906 * ( +_3 +_1 -_1 -_3 )\n",
            "+ 0.33229086512764816 * ( +_3 +_2 -_2 -_3 )\n",
            "+ 0.34928686136600906 * ( +_3 +_3 -_3 -_3 )\n"
          ]
        }
      ],
      "source": [
        "from qiskit_nature.units import DistanceUnit\n",
        "from qiskit_nature.second_q.drivers import PySCFDriver\n",
        "\n",
        "driver = PySCFDriver(\n",
        "            atom = \"H 0 0 0; H 0 0 0.735\",\n",
        "            basis=\"sto3g\",\n",
        "            charge=0,\n",
        "            spin=0,\n",
        "            unit=DistanceUnit.ANGSTROM,\n",
        "            )\n",
        "\n",
        "\n",
        "problem = driver.run()\n",
        "hamiltonian  = problem.hamiltonian\n",
        "fermionic_op = hamiltonian.second_q_op()\n",
        "print(fermionic_op)"
      ]
    },
    {
      "cell_type": "markdown",
      "id": "RF8MJfL6BssY",
      "metadata": {
        "id": "RF8MJfL6BssY"
      },
      "source": [
        "Para guardar dicho Hamiltoniano se hace uso de la función json.dump() de la librería json."
      ]
    },
    {
      "cell_type": "code",
      "execution_count": 3,
      "id": "596855de-348c-4330-b638-bc97634bdfe4",
      "metadata": {
        "id": "596855de-348c-4330-b638-bc97634bdfe4"
      },
      "outputs": [],
      "source": [
        "# Guardar operador fermiónico\n",
        "import json\n",
        "\n",
        "fermionic_op_dict = fermionic_op.__dict__\n",
        "\n",
        "with open(\"fermionic_op1.json\", \"w\") as outfile:\n",
        "    json.dump(fermionic_op_dict, outfile)"
      ]
    },
    {
      "cell_type": "markdown",
      "id": "3yySUOnkBohI",
      "metadata": {
        "id": "3yySUOnkBohI"
      },
      "source": [
        "Adicionalmente, mediante la función json.load() se puede cargar un Hamiltoniano previamente guardado."
      ]
    },
    {
      "cell_type": "code",
      "execution_count": 4,
      "id": "PSTQSHpwdWp_",
      "metadata": {
        "id": "PSTQSHpwdWp_",
        "outputId": "9a87da10-11bc-4a8e-9cd3-dae069b232ac",
        "colab": {
          "base_uri": "https://localhost:8080/"
        }
      },
      "outputs": [
        {
          "output_type": "stream",
          "name": "stdout",
          "text": [
            "Fermionic Operator\n",
            "number spin orbitals=4, number terms=36\n",
            "  -1.25633907300325 * ( +_0 -_0 )\n",
            "+ -0.47189600728114184 * ( +_1 -_1 )\n",
            "+ -1.25633907300325 * ( +_2 -_2 )\n",
            "+ -0.47189600728114184 * ( +_3 -_3 )\n",
            "+ 0.33785507740175813 * ( +_0 +_0 -_0 -_0 )\n",
            "+ 0.33229086512764816 * ( +_0 +_1 -_1 -_0 )\n",
            "+ 0.33785507740175813 * ( +_0 +_2 -_2 -_0 )\n",
            "+ 0.33229086512764816 * ( +_0 +_3 -_3 -_0 )\n",
            "+ 0.0904655998921157 * ( +_0 +_0 -_1 -_1 )\n",
            "+ 0.0904655998921157 * ( +_0 +_1 -_0 -_1 )\n",
            "+ 0.0904655998921157 * ( +_0 +_2 -_3 -_1 )\n",
            "+ 0.0904655998921157 * ( +_0 +_3 -_2 -_1 )\n",
            "+ 0.0904655998921157 * ( +_1 +_0 -_1 -_0 )\n",
            "+ 0.0904655998921157 * ( +_1 +_1 -_0 -_0 )\n",
            "+ 0.0904655998921157 * ( +_1 +_2 -_3 -_0 )\n",
            "+ 0.0904655998921157 * ( +_1 +_3 -_2 -_0 )\n",
            "+ 0.33229086512764816 * ( +_1 +_0 -_0 -_1 )\n",
            "+ 0.34928686136600906 * ( +_1 +_1 -_1 -_1 )\n",
            "+ 0.33229086512764816 * ( +_1 +_2 -_2 -_1 )\n",
            "+ 0.34928686136600906 * ( +_1 +_3 -_3 -_1 )\n",
            "+ 0.33785507740175813 * ( +_2 +_0 -_0 -_2 )\n",
            "+ 0.33229086512764816 * ( +_2 +_1 -_1 -_2 )\n",
            "+ 0.33785507740175813 * ( +_2 +_2 -_2 -_2 )\n",
            "+ 0.33229086512764816 * ( +_2 +_3 -_3 -_2 )\n",
            "+ 0.0904655998921157 * ( +_2 +_0 -_1 -_3 )\n",
            "+ 0.0904655998921157 * ( +_2 +_1 -_0 -_3 )\n",
            "+ 0.0904655998921157 * ( +_2 +_2 -_3 -_3 )\n",
            "+ 0.0904655998921157 * ( +_2 +_3 -_2 -_3 )\n",
            "+ 0.0904655998921157 * ( +_3 +_0 -_1 -_2 )\n",
            "+ 0.0904655998921157 * ( +_3 +_1 -_0 -_2 )\n",
            "+ 0.0904655998921157 * ( +_3 +_2 -_3 -_2 )\n",
            "+ 0.0904655998921157 * ( +_3 +_3 -_2 -_2 )\n",
            "+ 0.33229086512764816 * ( +_3 +_0 -_0 -_3 )\n",
            "+ 0.34928686136600906 * ( +_3 +_1 -_1 -_3 )\n",
            "+ 0.33229086512764816 * ( +_3 +_2 -_2 -_3 )\n",
            "+ 0.34928686136600906 * ( +_3 +_3 -_3 -_3 )\n"
          ]
        }
      ],
      "source": [
        "# Cargar operador Fermiónico\n",
        "from qiskit_nature.second_q.operators.fermionic_op import FermionicOp\n",
        "import json\n",
        "\n",
        "infile = open('fermionic_op1.json')\n",
        "fermionic_op_dict = json.load(infile)\n",
        "fermionic_op = FermionicOp( fermionic_op_dict['_data'] )\n",
        "print( fermionic_op )"
      ]
    },
    {
      "cell_type": "markdown",
      "id": "873e73d7-9bc5-4641-855b-04294a93c104",
      "metadata": {
        "id": "873e73d7-9bc5-4641-855b-04294a93c104"
      },
      "source": [
        "Para simular sistemas fermiónicos en computadores cuánticos, los operadores fermiónicos deben ser codificados en redes de qubits. Para ello, comúnmente se utiliza la\n",
        "transformación de Jordan-Wigner [[3]](#JW1928) (concretamente su transformación inversa) para convertir un Hamiltoniano fermiónico en un Hamiltoniano de spín. Esto se ejecuta en Qiskit mediante la función JordanWignerMapper() de la libreria qiskit_nature.second_q.mappers."
      ]
    },
    {
      "cell_type": "code",
      "execution_count": 5,
      "id": "c1rBKJVGdbGv",
      "metadata": {
        "id": "c1rBKJVGdbGv",
        "outputId": "e557e477-0052-478b-acf4-4e4e44ed7abb",
        "colab": {
          "base_uri": "https://localhost:8080/"
        }
      },
      "outputs": [
        {
          "output_type": "stream",
          "name": "stdout",
          "text": [
            "SparsePauliOp(['IIII', 'IIIZ', 'IIZI', 'IZII', 'ZIII', 'IIZZ', 'IZIZ', 'ZIIZ', 'YYYY', 'XXYY', 'YYXX', 'XXXX', 'IZZI', 'ZIZI', 'ZZII'],\n",
            "              coeffs=[-0.81054798+0.j,  0.17218393+0.j, -0.22575349+0.j,  0.17218393+0.j,\n",
            " -0.22575349+0.j,  0.12091263+0.j,  0.16892754+0.j,  0.16614543+0.j,\n",
            "  0.0452328 +0.j,  0.0452328 +0.j,  0.0452328 +0.j,  0.0452328 +0.j,\n",
            "  0.16614543+0.j,  0.17464343+0.j,  0.12091263+0.j])\n"
          ]
        }
      ],
      "source": [
        "from qiskit_nature.second_q.mappers import JordanWignerMapper\n",
        "mapper = JordanWignerMapper()\n",
        "qubit_op = mapper.map(fermionic_op)\n",
        "print( qubit_op )"
      ]
    },
    {
      "cell_type": "markdown",
      "id": "89e3260a",
      "metadata": {
        "id": "89e3260a"
      },
      "source": [
        "## Segundo Paso: Generar el ansatz\n",
        "\n",
        "Nos referimos por ansatz a un circuito cuántico paramétrico que determina los estados cuánticos $|\\psi({\\theta})\\rangle = U({\\theta})|0\\rangle$ considerados en la minimización de la energía. Los estados ansatz están caracterizados por secuencias de capas de compuertas paramétricas de un qubit como por ejemplo $Rx(\\theta_1)R_y(\\theta_2)$, las cuales se repiten un cierto número de veces, y entre cada repetición se encuentra una compuerta que entrelaza los qubits.\n",
        "\n",
        "![Ansatz](https://raw.githubusercontent.com/MIROptics/ECC2025/refs/heads/master/talleres/05_Estimacion_minimimos_de_energia_VQE/img/Ansatz.png)\n",
        "\n",
        "Para crear este circuito paramétrico (hardware eficiente [[2]](#Tilly2022)), debemos utilizar la función ParameterVector() de qiskit. Esta, crea un conjunto de variables simbólicas que son utilizadas como argumento en las puertas del ansatz.\n",
        "\n",
        "**Instrucción**: Escribir una función que genere el ansatz requerido, para un número de qubits y de capas indicadas (Para el ejemplo se utiliza 4 y 2 respectivamente).\n",
        "\n"
      ]
    },
    {
      "cell_type": "code",
      "execution_count": 14,
      "id": "81817c28-cb15-4646-980a-627ebb96eb6e",
      "metadata": {
        "id": "81817c28-cb15-4646-980a-627ebb96eb6e"
      },
      "outputs": [],
      "source": [
        "# Importar librerías necesarias\n",
        "from qiskit import QuantumCircuit\n",
        "from qiskit.circuit import ParameterVector\n",
        "\n",
        "def Hardware_Efficient_Ansatz(nqubits,reps):\n",
        "\n",
        "  theta   = ParameterVector( '$\\\\theta$', 2*nqubits*(reps+1) )\n",
        "  ansatz = QuantumCircuit(nqubits)\n",
        "\n",
        "  ## completar ##\n",
        "  for j in range(nqubits):\n",
        "  # Compuertas iniciales\n",
        "    ansatz.rx(theta[2*j], j)\n",
        "    ansatz.ry(theta[2*j +1], j)\n",
        "\n",
        "  # Layers\n",
        "  for r in range(reps):\n",
        "    for q in range(nqubits):\n",
        "\n",
        "      if q < nqubits-1 :\n",
        "        ansatz.cx(q, q+1)\n",
        "      ansatz.rx(theta[2*(r+1)*nqubits+2*q], q)\n",
        "      ansatz.ry(theta[2*(r+1)*nqubits+2*q+1], q)\n",
        "\n",
        "\n",
        "  return ansatz"
      ]
    },
    {
      "cell_type": "markdown",
      "id": "8ojhN-xVFSVb",
      "metadata": {
        "id": "8ojhN-xVFSVb"
      },
      "source": [
        "Luego, podemos generar el ansatz del ejemplo:"
      ]
    },
    {
      "cell_type": "code",
      "execution_count": 15,
      "id": "IRxL6iYrdiCl",
      "metadata": {
        "id": "IRxL6iYrdiCl",
        "outputId": "02c387c7-8c07-4a73-a69e-82f915377d5c",
        "colab": {
          "base_uri": "https://localhost:8080/",
          "height": 320
        }
      },
      "outputs": [
        {
          "output_type": "execute_result",
          "data": {
            "text/plain": [
              "<Figure size 1040x367.889 with 1 Axes>"
            ],
            "image/png": "[encoded data removed]"
          },
          "metadata": {},
          "execution_count": 15
        }
      ],
      "source": [
        "nqubits = fermionic_op.num_spin_orbitals\n",
        "reps    = 2\n",
        "ansatz = Hardware_Efficient_Ansatz(nqubits,reps)\n",
        "ansatz.draw('mpl')"
      ]
    },
    {
      "cell_type": "markdown",
      "id": "60c695c7-2941-4dfa-8a47-6762802f4b32",
      "metadata": {
        "id": "60c695c7-2941-4dfa-8a47-6762802f4b32"
      },
      "source": [
        "## Tercer Paso: Evaluar el valor de expectacion y minimizar la energía\n",
        "\n",
        "Para estimar valores esperados de circuitos cuánticos y observables, se utiliza la función Estimator() de la librería qiskit_aer.primitives. Luego, se puede minimizar la energía mediante cualquier optimizador clásico, por ejemplo la función SPSA() de la librería qiskit.algorithms.optimizers.\n",
        "\n",
        "**Instrucción**: Estudie la documentación de <a href=\"https://docs.quantum.ibm.com/api/qiskit/qiskit.primitives.Estimator#run\">qiskit.algorithms.optimizers</a> de Qiskit, para ejecutar el método .run() de la función Estimator(). Esto es, completar los tres inputs faltantes en  \n",
        "\n",
        "    estimator.run( , , , shots=100 )\n",
        "\n"
      ]
    },
    {
      "cell_type": "code",
      "execution_count": 17,
      "id": "90cf8f82-bab1-455d-a281-df9c2ba1a46d",
      "metadata": {
        "colab": {
          "base_uri": "https://localhost:8080/"
        },
        "id": "90cf8f82-bab1-455d-a281-df9c2ba1a46d",
        "outputId": "f1200f12-071f-4a89-af04-edff5304cc0a"
      },
      "outputs": [
        {
          "output_type": "stream",
          "name": "stdout",
          "text": [
            "[-0.00723725]\n"
          ]
        }
      ],
      "source": [
        "# Importar librerías necesarias\n",
        "import numpy as np\n",
        "from qiskit_aer.primitives import Estimator\n",
        "\n",
        "estimator = Estimator()\n",
        "theta = np.zeros(ansatz.num_parameters)\n",
        "\n",
        "#run(circuits, observables, parameter_values=None, **run_options)\n",
        "\n",
        "job = estimator.run(ansatz , qubit_op, theta, shots=100 )\n",
        "\n",
        "values = job.result().values\n",
        "print(values)"
      ]
    },
    {
      "cell_type": "markdown",
      "id": "g4G-tby_BE8F",
      "metadata": {
        "id": "g4G-tby_BE8F"
      },
      "source": [
        "**Intrucción**: Revise la documentación de <a href=\"https://docs.quantum.ibm.com/api/qiskit/0.40/qiskit.algorithms.optimizers.Optimizer\">Optimizer</a> de Qiskit, para realizar la minimización de la función objetivo. Esto es, completar los inputs de\n",
        "    optimizer.minimize( , )"
      ]
    },
    {
      "cell_type": "code",
      "execution_count": 18,
      "id": "YjD2_AnHdo5c",
      "metadata": {
        "id": "YjD2_AnHdo5c",
        "outputId": "bc83181f-832e-4ad2-a2e9-7d7ad8e45e87",
        "colab": {
          "base_uri": "https://localhost:8080/"
        }
      },
      "outputs": [
        {
          "output_type": "stream",
          "name": "stdout",
          "text": [
            "{   'fun': array([-1.80767105]),\n",
            "    'jac': None,\n",
            "    'nfev': 600,\n",
            "    'nit': 200,\n",
            "    'njev': None,\n",
            "    'x': array([-0.72184002,  1.38321135, -0.15602764,  2.03442341,  3.08202071,\n",
            "       -1.24576818,  0.00444217,  1.55236455,  1.17642407,  2.04153902,\n",
            "        1.0846982 ,  0.93616942,  1.21979793,  0.49188574, -0.70810386,\n",
            "        0.04077305, -0.31699439,  0.43701606, -0.29524993, -0.59689715,\n",
            "        0.61663879,  0.96158152, -1.0935349 , -1.67892942])}\n"
          ]
        }
      ],
      "source": [
        "from qiskit_algorithms.optimizers import SPSA\n",
        "\n",
        "data_per_iter = []\n",
        "callback      = lambda evals_num, params, fun_value, stepsize, step_accepted : data_per_iter.append( fun_value )\n",
        "\n",
        "maxiter   = 200\n",
        "optimizer = SPSA( maxiter=maxiter, callback=callback )\n",
        "\n",
        "obj_func = lambda theta : estimator.run( ansatz,\n",
        "                                        qubit_op,\n",
        "                                        theta,\n",
        "                                        shots=100 ).result().values\n",
        "\n",
        "initial_params = np.random.randn(ansatz.num_parameters)\n",
        "\n",
        "results = optimizer.minimize( obj_func, initial_params )\n",
        "print(results)"
      ]
    },
    {
      "cell_type": "markdown",
      "id": "Ga7Wln6NCfFH",
      "metadata": {
        "id": "Ga7Wln6NCfFH"
      },
      "source": [
        "**Observación**: Observe el output de optimizer.minimize( , ) y vea como obtener el valor mínimo y los parámetros que determinan el estado de mínima energía. Además, note que en la variable *data_per_iter* se guardó los valores de la minimización en cada iteración."
      ]
    },
    {
      "cell_type": "code",
      "execution_count": 19,
      "id": "IafTebkcdAW2",
      "metadata": {
        "id": "IafTebkcdAW2",
        "outputId": "cb112b0b-a397-403b-d756-0839842180e1",
        "colab": {
          "base_uri": "https://localhost:8080/"
        }
      },
      "outputs": [
        {
          "output_type": "execute_result",
          "data": {
            "text/plain": [
              "[array([-0.79779692]),\n",
              " array([-0.93472618]),\n",
              " array([-0.98184092]),\n",
              " array([-0.87332525]),\n",
              " array([-0.95315629]),\n",
              " array([-1.00540869]),\n",
              " array([-1.0224224]),\n",
              " array([-1.12223616]),\n",
              " array([-1.26898499]),\n",
              " array([-1.19234101]),\n",
              " array([-1.24784722]),\n",
              " array([-1.2206066]),\n",
              " array([-1.30409649]),\n",
              " array([-1.25123788]),\n",
              " array([-1.39195954]),\n",
              " array([-1.29605057]),\n",
              " array([-1.39230854]),\n",
              " array([-1.41949814]),\n",
              " array([-1.53405568]),\n",
              " array([-1.45884068]),\n",
              " array([-1.44333225]),\n",
              " array([-1.3499006]),\n",
              " array([-1.49719102]),\n",
              " array([-1.50532141]),\n",
              " array([-1.53167371]),\n",
              " array([-1.45531547]),\n",
              " array([-1.49549235]),\n",
              " array([-1.4694971]),\n",
              " array([-1.58880615]),\n",
              " array([-1.54931762]),\n",
              " array([-1.48504084]),\n",
              " array([-1.51847021]),\n",
              " array([-1.43813735]),\n",
              " array([-1.45785391]),\n",
              " array([-1.62086145]),\n",
              " array([-1.64134163]),\n",
              " array([-1.60985617]),\n",
              " array([-1.54628064]),\n",
              " array([-1.57930729]),\n",
              " array([-1.56064943]),\n",
              " array([-1.56282233]),\n",
              " array([-1.62111582]),\n",
              " array([-1.61321897]),\n",
              " array([-1.60294024]),\n",
              " array([-1.60141726]),\n",
              " array([-1.64387833]),\n",
              " array([-1.64868158]),\n",
              " array([-1.60611677]),\n",
              " array([-1.62157035]),\n",
              " array([-1.6262496]),\n",
              " array([-1.64258388]),\n",
              " array([-1.57096325]),\n",
              " array([-1.69342164]),\n",
              " array([-1.65189106]),\n",
              " array([-1.61658589]),\n",
              " array([-1.63074619]),\n",
              " array([-1.6317679]),\n",
              " array([-1.66136281]),\n",
              " array([-1.61913009]),\n",
              " array([-1.7003217]),\n",
              " array([-1.69402207]),\n",
              " array([-1.66866889]),\n",
              " array([-1.69322899]),\n",
              " array([-1.68413421]),\n",
              " array([-1.68425273]),\n",
              " array([-1.72695016]),\n",
              " array([-1.67692992]),\n",
              " array([-1.607751]),\n",
              " array([-1.66614415]),\n",
              " array([-1.73462686]),\n",
              " array([-1.69595244]),\n",
              " array([-1.67431793]),\n",
              " array([-1.56111439]),\n",
              " array([-1.70196251]),\n",
              " array([-1.70930489]),\n",
              " array([-1.68675235]),\n",
              " array([-1.69822919]),\n",
              " array([-1.70408164]),\n",
              " array([-1.67295289]),\n",
              " array([-1.6459853]),\n",
              " array([-1.68332393]),\n",
              " array([-1.66781118]),\n",
              " array([-1.695175]),\n",
              " array([-1.72828558]),\n",
              " array([-1.71865101]),\n",
              " array([-1.73755452]),\n",
              " array([-1.69918774]),\n",
              " array([-1.71264563]),\n",
              " array([-1.72797139]),\n",
              " array([-1.7223553]),\n",
              " array([-1.69136227]),\n",
              " array([-1.73916699]),\n",
              " array([-1.73976791]),\n",
              " array([-1.72976877]),\n",
              " array([-1.75084616]),\n",
              " array([-1.69859758]),\n",
              " array([-1.73172154]),\n",
              " array([-1.75266448]),\n",
              " array([-1.75355642]),\n",
              " array([-1.77217116]),\n",
              " array([-1.73383107]),\n",
              " array([-1.69305922]),\n",
              " array([-1.77879283]),\n",
              " array([-1.75842206]),\n",
              " array([-1.74458241]),\n",
              " array([-1.73280242]),\n",
              " array([-1.71257393]),\n",
              " array([-1.75520878]),\n",
              " array([-1.79515752]),\n",
              " array([-1.71898222]),\n",
              " array([-1.76978684]),\n",
              " array([-1.75075063]),\n",
              " array([-1.81652563]),\n",
              " array([-1.72790577]),\n",
              " array([-1.70621348]),\n",
              " array([-1.77500267]),\n",
              " array([-1.74392214]),\n",
              " array([-1.77953896]),\n",
              " array([-1.76149521]),\n",
              " array([-1.76799954]),\n",
              " array([-1.79819439]),\n",
              " array([-1.76406398]),\n",
              " array([-1.78441986]),\n",
              " array([-1.79617972]),\n",
              " array([-1.78429235]),\n",
              " array([-1.77158599]),\n",
              " array([-1.80628321]),\n",
              " array([-1.80134899]),\n",
              " array([-1.77568495]),\n",
              " array([-1.76700774]),\n",
              " array([-1.79418774]),\n",
              " array([-1.79784303]),\n",
              " array([-1.78687861]),\n",
              " array([-1.80151839]),\n",
              " array([-1.78463227]),\n",
              " array([-1.75501742]),\n",
              " array([-1.79665987]),\n",
              " array([-1.78629363]),\n",
              " array([-1.7961273]),\n",
              " array([-1.78805053]),\n",
              " array([-1.81128408]),\n",
              " array([-1.75839919]),\n",
              " array([-1.76315932]),\n",
              " array([-1.72832999]),\n",
              " array([-1.77586421]),\n",
              " array([-1.79830852]),\n",
              " array([-1.79049724]),\n",
              " array([-1.81985305]),\n",
              " array([-1.83428443]),\n",
              " array([-1.81492101]),\n",
              " array([-1.8215321]),\n",
              " array([-1.80393488]),\n",
              " array([-1.79553217]),\n",
              " array([-1.80887963]),\n",
              " array([-1.79395861]),\n",
              " array([-1.79312212]),\n",
              " array([-1.79853735]),\n",
              " array([-1.80048531]),\n",
              " array([-1.82118847]),\n",
              " array([-1.80650929]),\n",
              " array([-1.83647209]),\n",
              " array([-1.81199591]),\n",
              " array([-1.79097757]),\n",
              " array([-1.82120118]),\n",
              " array([-1.79027201]),\n",
              " array([-1.83779177]),\n",
              " array([-1.82238434]),\n",
              " array([-1.80573489]),\n",
              " array([-1.80928839]),\n",
              " array([-1.81767164]),\n",
              " array([-1.8070483]),\n",
              " array([-1.83604132]),\n",
              " array([-1.81635197]),\n",
              " array([-1.8226561]),\n",
              " array([-1.76887154]),\n",
              " array([-1.81991172]),\n",
              " array([-1.79035574]),\n",
              " array([-1.825303]),\n",
              " array([-1.81381148]),\n",
              " array([-1.80583023]),\n",
              " array([-1.82161924]),\n",
              " array([-1.79415253]),\n",
              " array([-1.80422609]),\n",
              " array([-1.81990546]),\n",
              " array([-1.80834062]),\n",
              " array([-1.75682222]),\n",
              " array([-1.81356357]),\n",
              " array([-1.82191672]),\n",
              " array([-1.79985702]),\n",
              " array([-1.84872852]),\n",
              " array([-1.81337445]),\n",
              " array([-1.80717515]),\n",
              " array([-1.82783429]),\n",
              " array([-1.78530439]),\n",
              " array([-1.82161924]),\n",
              " array([-1.79594093]),\n",
              " array([-1.814382]),\n",
              " array([-1.83711594]),\n",
              " array([-1.83054826]),\n",
              " array([-1.78607575])]"
            ]
          },
          "metadata": {},
          "execution_count": 19
        }
      ],
      "source": [
        "data_per_iter"
      ]
    },
    {
      "cell_type": "markdown",
      "id": "c93c7e12-f464-4ebb-91a3-6ec28dcaff0c",
      "metadata": {
        "id": "c93c7e12-f464-4ebb-91a3-6ec28dcaff0c"
      },
      "source": [
        "## Analisis de resultados\n",
        "\n",
        "Para determinar la performance (convergencia y velocidad de convergencia) del optimizador en la minimización de la energía, se necesita un valor mínimo de referencia. Para este ejemplo pedagógico, podemos hacer \"trampa\" y calcular dicho mínimo clásicamente al diagonalizar el Hamiltoniano $\\hat{H}$.\n"
      ]
    },
    {
      "cell_type": "code",
      "execution_count": 20,
      "id": "2f5d0dfd-7a6e-4e48-9039-e20b82761ec4",
      "metadata": {
        "colab": {
          "base_uri": "https://localhost:8080/"
        },
        "id": "2f5d0dfd-7a6e-4e48-9039-e20b82761ec4",
        "outputId": "e38a5897-4e89-46cd-e3ee-1f0711011053"
      },
      "outputs": [
        {
          "output_type": "stream",
          "name": "stdout",
          "text": [
            "[-1.85727503]\n"
          ]
        }
      ],
      "source": [
        "from qiskit_algorithms.eigensolvers import NumPyEigensolver\n",
        "\n",
        "classical_solver  = NumPyEigensolver()\n",
        "results_classical = classical_solver.compute_eigenvalues( qubit_op )\n",
        "min_of_energy     = results_classical.eigenvalues\n",
        "print(min_of_energy)"
      ]
    },
    {
      "cell_type": "markdown",
      "id": "TsU1yTycDYnW",
      "metadata": {
        "id": "TsU1yTycDYnW"
      },
      "source": [
        "Luego podemos graficar los valores obtenidos mediante la minimización."
      ]
    },
    {
      "cell_type": "code",
      "execution_count": 21,
      "id": "71P7ipSvd6Tc",
      "metadata": {
        "id": "71P7ipSvd6Tc",
        "outputId": "b1f38b94-89bc-4391-a4fa-de7c40cc6c40",
        "colab": {
          "base_uri": "https://localhost:8080/",
          "height": 467
        }
      },
      "outputs": [
        {
          "output_type": "execute_result",
          "data": {
            "text/plain": [
              "Text(0, 0.5, 'Energía')"
            ]
          },
          "metadata": {},
          "execution_count": 21
        },
        {
          "output_type": "display_data",
          "data": {
            "text/plain": [
              "<Figure size 640x480 with 1 Axes>"
            ],
            "image/png": "[encoded data removed]"
          },
          "metadata": {}
        }
      ],
      "source": [
        "import matplotlib.pyplot as plt\n",
        "\n",
        "plt.plot( data_per_iter )\n",
        "plt.plot( [maxiter], [results.fun], 'o' )\n",
        "plt.hlines( min_of_energy, 0, maxiter, color='tab:red' )\n",
        "plt.xlabel('Número de iteraciones')\n",
        "plt.ylabel('Energía')"
      ]
    },
    {
      "cell_type": "markdown",
      "id": "e6e38d4c-97c8-4c72-adea-d2185f3f3ceb",
      "metadata": {
        "id": "e6e38d4c-97c8-4c72-adea-d2185f3f3ceb"
      },
      "source": [
        "## Implementación de VQE\n",
        "\n",
        "Para realizar una implementación de VQE solo resta juntar los tres pasos anteriores.\n",
        "\n",
        "**Instruccion**: Escribir una función que entregue una estimación del mínimo de la energía y los parámetros $\\theta$ que determinan el estado que la minimiza. Para ello debe entregarse al programa el número de layers que considera el ansatz y el número de iteraciones del optimizador clásico (SPSA en este caso)."
      ]
    },
    {
      "cell_type": "code",
      "execution_count": 23,
      "id": "e5abb4a5-0289-48a2-b073-a73a441fa539",
      "metadata": {
        "id": "e5abb4a5-0289-48a2-b073-a73a441fa539"
      },
      "outputs": [],
      "source": [
        "## Importamos todas las librerias\n",
        "#pip install git+https://github.com/LucianoPereiraValenzuela/ECC_2025_testing.git\n",
        "\n",
        "import numpy as np\n",
        "import matplotlib.pyplot as plt\n",
        "from qiskit import QuantumCircuit\n",
        "from qiskit.circuit import ParameterVector\n",
        "from qiskit_aer.primitives import Estimator\n",
        "from qiskit_algorithms.optimizers import SPSA\n",
        "from qiskit_algorithms.optimizers import QNSPSA\n",
        "from qiskit.primitives import Sampler\n",
        "\n",
        "def VQE(qubit_op, reps, maxiter):\n",
        "\n",
        "    nqubits = np.log(qubit_op.dim[1])\n",
        "    # Definir el Ansatz\n",
        "    ansatz = Hardware_Efficient_Ansatz(nqubits,reps)\n",
        "\n",
        "    # realizar la optimización\n",
        "\n",
        "    estimador = Estimator()\n",
        "    data_per_iter = []\n",
        "    callback      = lambda evals_num, params, fun_value, stepsize, step_accepted : data_per_iter.append( fun_value )\n",
        "\n",
        "    optimizer = SPSA( maxiter=maxiter, callback=callback )\n",
        "\n",
        "    obj_func = lambda theta : estimator.run( ansatz,\n",
        "                                            qubit_op,\n",
        "                                            theta,\n",
        "                                            shots=100 ).result().values\n",
        "\n",
        "    initial_params = np.random.randn(ansatz.num_parameters)\n",
        "\n",
        "    results = optimizer.minimize( obj_func, initial_params )\n",
        "\n",
        "    return results.fun, results.x, data_per_iter\n"
      ]
    },
    {
      "cell_type": "markdown",
      "id": "YOyQWX6XKPhI",
      "metadata": {
        "id": "YOyQWX6XKPhI"
      },
      "source": [
        "**Instrucción:** Cargue el Hamiltoniano generado previamente y llame a la función VQE. Finalmente, realice un gráfico que muestre la estimación de la energía mínima entregada por VQE en cada iteración."
      ]
    },
    {
      "cell_type": "code",
      "execution_count": null,
      "id": "bwnm42yWeBbq",
      "metadata": {
        "id": "bwnm42yWeBbq"
      },
      "outputs": [],
      "source": [
        "# Cargar librerias en caso de no haberlo hecho antes\n",
        "from qiskit_nature.second_q.operators.fermionic_op import FermionicOp\n",
        "import json\n",
        "from qiskit_nature.second_q.mappers import JordanWignerMapper\n",
        "from qiskit_algorithms.eigensolvers import NumPyEigensolver\n",
        "\n",
        "## Paso 1: Definir Hamiltoniano\n",
        "# Cragar Hamiltoneano\n",
        "\n",
        "infile = open(fermionic_op1.json)\n",
        "fermionic_op =\n",
        "\n",
        "# Mapear Hamiltoniano\n",
        "\n",
        "qubit_op =\n",
        "\n",
        "\n",
        "## Implementacion (LLamar a función VQE)\n",
        "reps =\n",
        "maxiter =\n",
        "\n",
        "estimated_energy, estimated_theta, data_per_iter =\n",
        "\n",
        "##  Analisis de resultados\n",
        "\n",
        "# Obtener valor de referencia (Esto no se puede hacer siempre. Aqui se puede por que es un ejemplo simple)\n",
        "\n",
        "min_of_energy =\n",
        "\n",
        "# Plotear resultados"
      ]
    },
    {
      "cell_type": "markdown",
      "id": "3f667305-3016-40d7-9b68-f04b177e7513",
      "metadata": {
        "id": "3f667305-3016-40d7-9b68-f04b177e7513"
      },
      "source": [
        "## Tarea 1:\n",
        "\n",
        "Comparar el funcionamiento de la función VQE al considerar distintos números de layers."
      ]
    },
    {
      "cell_type": "code",
      "execution_count": null,
      "id": "328aea22-b6fb-4b4b-81e5-37cbe202f998",
      "metadata": {
        "colab": {
          "base_uri": "https://localhost:8080/",
          "height": 868
        },
        "id": "328aea22-b6fb-4b4b-81e5-37cbe202f998",
        "outputId": "ddb787e6-454f-4b87-8c57-3381ecb64844"
      },
      "outputs": [
        {
          "name": "stderr",
          "output_type": "stream",
          "text": [
            "<ipython-input-15-9e4633ef746e>:7: DeprecationWarning: Estimator has been deprecated as of Aer 0.15, please use EstimatorV2 instead.\n",
            "  estimated_energy, estimated_theta, data_per_iter = VQE(qubit_op, capas[k], maxiter)\n",
            "<ipython-input-15-9e4633ef746e>:7: DeprecationWarning: Option approximation=False is deprecated as of qiskit-aer 0.13. It will be removed no earlier than 3 months after the release date. Instead, use BackendEstimator from qiskit.primitives.\n",
            "  estimated_energy, estimated_theta, data_per_iter = VQE(qubit_op, capas[k], maxiter)\n",
            "<ipython-input-11-44cc85b3f467>:27: DeprecationWarning: The class ``qiskit.primitives.sampler.Sampler`` is deprecated as of qiskit 1.2. It will be removed no earlier than 3 months after the release date. All implementations of the `BaseSamplerV1` interface have been deprecated in favor of their V2 counterparts. The V2 alternative for the `Sampler` class is `StatevectorSampler`.\n",
            "  fidelity = QNSPSA.get_fidelity(ansatz, sampler = Sampler())\n",
            "<ipython-input-15-9e4633ef746e>:7: DeprecationWarning: Estimator has been deprecated as of Aer 0.15, please use EstimatorV2 instead.\n",
            "  estimated_energy, estimated_theta, data_per_iter = VQE(qubit_op, capas[k], maxiter)\n",
            "<ipython-input-15-9e4633ef746e>:7: DeprecationWarning: Option approximation=False is deprecated as of qiskit-aer 0.13. It will be removed no earlier than 3 months after the release date. Instead, use BackendEstimator from qiskit.primitives.\n",
            "  estimated_energy, estimated_theta, data_per_iter = VQE(qubit_op, capas[k], maxiter)\n",
            "<ipython-input-11-44cc85b3f467>:27: DeprecationWarning: The class ``qiskit.primitives.sampler.Sampler`` is deprecated as of qiskit 1.2. It will be removed no earlier than 3 months after the release date. All implementations of the `BaseSamplerV1` interface have been deprecated in favor of their V2 counterparts. The V2 alternative for the `Sampler` class is `StatevectorSampler`.\n",
            "  fidelity = QNSPSA.get_fidelity(ansatz, sampler = Sampler())\n",
            "<ipython-input-15-9e4633ef746e>:7: DeprecationWarning: Estimator has been deprecated as of Aer 0.15, please use EstimatorV2 instead.\n",
            "  estimated_energy, estimated_theta, data_per_iter = VQE(qubit_op, capas[k], maxiter)\n",
            "<ipython-input-15-9e4633ef746e>:7: DeprecationWarning: Option approximation=False is deprecated as of qiskit-aer 0.13. It will be removed no earlier than 3 months after the release date. Instead, use BackendEstimator from qiskit.primitives.\n",
            "  estimated_energy, estimated_theta, data_per_iter = VQE(qubit_op, capas[k], maxiter)\n",
            "<ipython-input-11-44cc85b3f467>:27: DeprecationWarning: The class ``qiskit.primitives.sampler.Sampler`` is deprecated as of qiskit 1.2. It will be removed no earlier than 3 months after the release date. All implementations of the `BaseSamplerV1` interface have been deprecated in favor of their V2 counterparts. The V2 alternative for the `Sampler` class is `StatevectorSampler`.\n",
            "  fidelity = QNSPSA.get_fidelity(ansatz, sampler = Sampler())\n",
            "/usr/local/lib/python3.10/dist-packages/matplotlib/cbook.py:1699: ComplexWarning: Casting complex values to real discards the imaginary part\n",
            "  return math.isfinite(val)\n",
            "/usr/local/lib/python3.10/dist-packages/numpy/ma/core.py:3387: ComplexWarning: Casting complex values to real discards the imaginary part\n",
            "  _data[indx] = dval\n"
          ]
        },
        {
          "data": {
            "text/plain": [
              "<matplotlib.legend.Legend at 0x78effcb40430>"
            ]
          },
          "execution_count": 15,
          "metadata": {},
          "output_type": "execute_result"
        },
        {
          "data": {
            "image/png": "[encoded data removed]",
            "text/plain": [
              "<Figure size 640x480 with 1 Axes>"
            ]
          },
          "metadata": {},
          "output_type": "display_data"
        }
      ],
      "source": [
        "results_per_rep = []\n",
        "capas = []\n",
        "maxiter =\n",
        "\n",
        "for k in range(len(capas)):\n",
        "    estimated_energy, estimated_theta, data_per_iter = VQE(qubit_op, capas[k], maxiter)\n",
        "    plt.plot( data_per_iter, label='reps={}'.format(k) )\n",
        "\n",
        "plt.hlines( min_of_energy, 0, maxiter, color='tab:red' )\n",
        "plt.xlabel('Número de iteraciones')\n",
        "plt.ylabel('Energía')\n",
        "plt.legend()"
      ]
    },
    {
      "cell_type": "markdown",
      "id": "1be83f1a-075b-4597-9f4e-e13d9c4b858b",
      "metadata": {
        "id": "1be83f1a-075b-4597-9f4e-e13d9c4b858b"
      },
      "source": [
        "## Tarea 2:\n",
        "\n",
        "Cambiar el optimizador clásico utilizado en la función VQE (SPSA). Para ello revise la documentación de Qiskit respecto a <a href=\"https://docs.quantum.ibm.com/api/qiskit/qiskit.algorithms.optimizers\">optimizadores</a>. Por ejemplo, para utilizar el optimizador QN-SPSA se debe cargar las funciones\n",
        "\n",
        "    from qiskit.algorithms.optimizers import QNSPSA\n",
        "    from qiskit.primitives import Sampler\n",
        "\n",
        " y remplazar el optimizador utilizado, mediante el siguiente segmento de código:\n",
        "      \n",
        "    fidelity = QNSPSA.get_fidelity( ansatz, Sampler() )\n",
        "    optimizer = QNSPSA( fidelity=fidelity, maxiter=maxiter, callback=callback )\n",
        "\n",
        "Observacion: Para este ejemplo, el optimizador QN-SPSA funciona peor que SPSA, requiriendo cerca de 1000 iteraciones para converger.   "
      ]
    },
    {
      "cell_type": "markdown",
      "id": "147d8a56-2a72-46de-b05a-ba4c74eac3da",
      "metadata": {
        "id": "147d8a56-2a72-46de-b05a-ba4c74eac3da"
      },
      "source": [
        "## Tarea 3:\n",
        "\n",
        "Ejecutar la implementación de VQE para simular la partícula de LiH. Para ello, utilice el operador fermiónico guardado en la variable <a href=\"https://drive.google.com/file/d/1yaw3kj-e4Du4cZh2b3DNRsQhyjnZ2WF2/view?usp=drive_link\">fermionic_op2.json</a>. Además, determine el número de layers adecuado a considerar en el ansatz y el optimizador más favorable para alcanzar una buena estimación del mínimo de la energía.\n"
      ]
    },
    {
      "cell_type": "markdown",
      "id": "a23f68c4-937b-4471-b755-028550ef2c8a",
      "metadata": {
        "id": "a23f68c4-937b-4471-b755-028550ef2c8a"
      },
      "source": [
        "## Referencias\n",
        "\n",
        "<a id='Peruzzo2016'>[1]</a> Peruzzo, A., McClean, J., Shadbolt, P. et al. A variational eigenvalue solver on a photonic quantum processor. *Nat Commun 5*, 4213 (2014). https://doi.org/10.1038/ncomms5213\n",
        "\n",
        "<a id='Tilly2022'>[2]</a> Jules Tilly, Hongxiang Chen, Shuxiang Cao, Dario Picozzi, Kanav Setia, Ying Li, Edward Grant, Leonard Wossnig, Ivan Rungger, George H. Booth, Jonathan Tennyson,\n",
        "The Variational Quantum Eigensolver: A review of methods and best practices,\n",
        "*Physics Reports*,\n",
        "Volume 986,\n",
        "2022,\n",
        "Pages 1-128,\n",
        "ISSN 0370-1573,\n",
        "https://doi.org/10.1016/j.physrep.2022.08.003.\n",
        "\n",
        "<a id='JW1928'>[3]</a> Jordan, P., Wigner, E. Über das Paulische Äquivalenzverbot. Z. *Physik* 47, 631–651 (1928). https://doi.org/10.1007/BF01331938"
      ]
    },
    {
      "cell_type": "markdown",
      "id": "47be0f61-831d-49d8-84dc-779a874a9f03",
      "metadata": {
        "id": "47be0f61-831d-49d8-84dc-779a874a9f03"
      },
      "source": [
        "## Contactos:\n",
        "\n",
        "Mario Muñoz <br>\n",
        "Doctor en Ciencias Aplicadas Mención en Ingeniería Matemática, Universidad de Concepción <br>\n",
        "Postdoc, Fundación Getulio Vargas, Rio de Janeiro, Brazil <br>\n",
        "munozmunozmarioalejandro@gmail.com\n",
        "\n",
        "Luciano Pereira <br>\n",
        "Doctor en Ciencias Física, IFF-CSIC, Spain <br>\n",
        "luciano.pereira.valenzuela@gmail.com"
      ]
    },
    {
      "cell_type": "code",
      "execution_count": null,
      "id": "qMa1lRuPm_N6",
      "metadata": {
        "id": "qMa1lRuPm_N6"
      },
      "outputs": [],
      "source": []
    }
  ],
  "metadata": {
    "colab": {
      "provenance": []
    },
    "kernelspec": {
      "display_name": "Python 3 (ipykernel)",
      "language": "python",
      "name": "python3"
    },
    "language_info": {
      "codemirror_mode": {
        "name": "ipython",
        "version": 3
      },
      "file_extension": ".py",
      "mimetype": "text/x-python",
      "name": "python",
      "nbconvert_exporter": "python",
      "pygments_lexer": "ipython3",
      "version": "3.10.8"
    }
  },
  "nbformat": 4,
  "nbformat_minor": 5
}