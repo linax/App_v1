{
  "cells": [
    {
      "cell_type": "markdown",
      "source": [
        "# Rompiendo RSA con algoritmo de Shor"
      ],
      "metadata": {
        "id": "1sq-Lxcz_ioT"
      },
      "id": "1sq-Lxcz_ioT"
    },
    {
      "cell_type": "code",
      "execution_count": null,
      "id": "edc8ac27",
      "metadata": {
        "id": "edc8ac27"
      },
      "outputs": [],
      "source": [
        "pip install git+https://github.com/MIROptics/ECC2025.git"
      ]
    },
    {
      "cell_type": "code",
      "execution_count": null,
      "id": "a7536dd0-5e40-4bc3-b975-3b1deb1ace95",
      "metadata": {
        "id": "a7536dd0-5e40-4bc3-b975-3b1deb1ace95"
      },
      "outputs": [],
      "source": [
        "import numpy as np\n",
        "import matplotlib.pyplot as plt"
      ]
    },
    {
      "cell_type": "markdown",
      "id": "77ba60fa-b7a7-4ade-8443-5d5079054d67",
      "metadata": {
        "id": "77ba60fa-b7a7-4ade-8443-5d5079054d67"
      },
      "source": [
        "### Complejidad Computacional\n",
        "\n",
        "La complejidad computacional se refiere a la cantidad de recursos necesarios para resolver un problema computacional, ya sea en tiempo (por la cantidad de operaciones matematicas que hay que realizar) o espacio (memoria), dependiendo del tamaño de la entrada del problema.\n",
        "\n",
        "Cuando decimos que un algoritmo es \"exponencialmente lento\" o que \"corre en tiempo polinomial\", estamos describiendo su complejidad en términos de la relación entre el tamaño de la entrada y el tiempo que necesita para resolver el problema:\n",
        "\n",
        "* Algoritmo de tiempo exponencial: El tiempo de ejecución de estos algoritmos aumenta exponencialmente con el tamaño de la entrada. Por ejemplo, con un tiempo de ejecución de $O(2^n)$, donde $n$ es el tamaño de la entrada, incluso un pequeño aumento en $n$ puede llevar a un aumento significativo en el tiempo necesario para completar el algoritmo. Son prácticos solo para problemas de tamaño pequeño.\n",
        "\n",
        "* Algoritmo de tiempo polinomial: Estos algoritmos son más eficientes, con un tiempo de ejecución que aumenta como una potencia del tamaño $n$ de la entrada.\n",
        "\n",
        "\n",
        "**Consideremos el siguiente ejemplo:**\n",
        "\n",
        "Para una entrada de $n=100$, un par algoritmos con un tiempo de ejecución polinomial, como $O(n^2)$ o $O(n^3)$, podrían ser completados teniendo que realizar alrededor de $10.000$ o $1.000.000$ operaciones, respectivamente, mientras que un algoritmo de tiempo exponencial, como $O(2^n)$, resulta intratable al requerir realizar el orden de $1.000.000.000.000.000.000.000.000.000.000$ operaciones.\n",
        "\n",
        "A continuación vemos un gráfico de como crece la complejidad en función del tamaño del dato de entrada para $4$ casos distintos: (i) complejidad lineal, (ii) logarítmica, (iii) polinomial y (iv) exponencial."
      ]
    },
    {
      "cell_type": "code",
      "execution_count": null,
      "id": "89629cbd-416d-4e0c-afed-3af31fb417b1",
      "metadata": {
        "id": "89629cbd-416d-4e0c-afed-3af31fb417b1",
        "scrolled": true
      },
      "outputs": [],
      "source": [
        "n = np.arange(1, 9)\n",
        "plt.plot(n, n, label = \"lineal, $n$\")\n",
        "plt.plot(n, np.log2(n), label = \"logaritmica, $\\log_{2}(n)$\")\n",
        "plt.plot(n, n**2, label = \"polinomial, $n^2$\")\n",
        "plt.plot(n, 2**n, label = \"exponencial, $2^n$\")\n",
        "\n",
        "plt.xlabel(\"n\")\n",
        "plt.ylabel(\"Complejidad\")\n",
        "plt.legend(loc='best')"
      ]
    },
    {
      "cell_type": "markdown",
      "id": "c9df2836-133d-4f51-912f-7ad79be2a768",
      "metadata": {
        "id": "c9df2836-133d-4f51-912f-7ad79be2a768"
      },
      "source": [
        "### Factorización\n",
        "\n",
        "Recordando de la clase de la mañana, para poder factorizar un número $N$ en dos factores $p$ y $q$ ($N=pq$) primos (o coprimos) necesitamos implementar las siguientes rutinas:\n",
        "\n",
        "- Operación módulo entre dos números\n",
        "- Máximo comun divisor\n",
        "- Encontrar el periódo de la exponenciación modular\n",
        "\n",
        "La operación módulo y encontrar el máximo común divisor se pueden hacer eficientemente en un computador clásico, por lo que **la dificultad computacional radica en encontrar el periódo $r$ de la función**\n",
        "\n",
        "$$f(x) = a^{x}\\mod N$$\n",
        "\n",
        "O lo que es equivalente, encontrar el $r$ tal que se cumpla\n",
        "\n",
        "$$(a^{r}-1)\\mod N\\equiv 0\\mod N .$$"
      ]
    },
    {
      "cell_type": "markdown",
      "id": "2df5db4c-6bc2-4389-825e-d4685bbe75b0",
      "metadata": {
        "id": "2df5db4c-6bc2-4389-825e-d4685bbe75b0"
      },
      "source": [
        "### Operación módulo\n",
        "\n",
        "La operación módulo se calcula como el resto de la division entre dos números. Puede ser implementada como"
      ]
    },
    {
      "cell_type": "code",
      "execution_count": null,
      "id": "8499a93c-ef6b-4445-8e0a-6d7965ee57b4",
      "metadata": {
        "id": "8499a93c-ef6b-4445-8e0a-6d7965ee57b4"
      },
      "outputs": [],
      "source": [
        "def mi_modulo(a, b):\n",
        "    division = a / b\n",
        "    parte_decimal = division - int(division)\n",
        "    resto = parte_decimal * b\n",
        "\n",
        "    return int(resto)\n",
        "\n",
        "# Ejemplo\n",
        "mi_modulo(48, 32)"
      ]
    },
    {
      "cell_type": "markdown",
      "id": "d3e465f5-3510-4609-b95a-f005cf1e6027",
      "metadata": {
        "id": "d3e465f5-3510-4609-b95a-f005cf1e6027"
      },
      "source": [
        "aunque es importante notar que esta operación se encuentra muy eficientemente implementada en la mayor parte de los lenguajes de programación, y tiene complejidad $O(1)$ (constante; su dificultad no crece con el tamaño de los números involucrados).\n",
        "\n",
        "En muchos lenguajes de programación, incluído python, se denota $\\mathrm{modulo}(a, b)$ como `a % b`."
      ]
    },
    {
      "cell_type": "code",
      "execution_count": null,
      "id": "315ed20a-32c6-40be-beae-42dbb56ef22d",
      "metadata": {
        "id": "315ed20a-32c6-40be-beae-42dbb56ef22d"
      },
      "outputs": [],
      "source": [
        "48 % 32 # Operación módulo"
      ]
    },
    {
      "cell_type": "markdown",
      "id": "0c646696-4da7-4b28-95cc-c1e86a033eea",
      "metadata": {
        "id": "0c646696-4da7-4b28-95cc-c1e86a033eea"
      },
      "source": [
        "### Maximo comun divisor\n",
        "\n",
        "Usamos el metodo de Euclides para encontrar el máximo común divisor (mcd) entre dos números. Este algoritmo tiene complejidad $O(\\log(\\min(a, b)))$"
      ]
    },
    {
      "cell_type": "code",
      "execution_count": null,
      "id": "6a7ed4c4-fbe7-4a60-8324-456814330736",
      "metadata": {
        "id": "6a7ed4c4-fbe7-4a60-8324-456814330736"
      },
      "outputs": [],
      "source": [
        "def mcd(a, b):\n",
        "    while b:\n",
        "        a, b = b, a%b\n",
        "    return a"
      ]
    },
    {
      "cell_type": "code",
      "execution_count": null,
      "id": "e937b0f0-b2e7-4285-a83c-7af0b6f633e4",
      "metadata": {
        "id": "e937b0f0-b2e7-4285-a83c-7af0b6f633e4"
      },
      "outputs": [],
      "source": [
        "mcd(48, 18)"
      ]
    },
    {
      "cell_type": "markdown",
      "id": "cb8e0262-b9d3-478f-ab35-0e027d75503a",
      "metadata": {
        "id": "cb8e0262-b9d3-478f-ab35-0e027d75503a"
      },
      "source": [
        "### Encontrando el periodo (forma clásica)\n",
        "\n",
        "Para números pequeños podemos encontrar el periódo por inspección visual"
      ]
    },
    {
      "cell_type": "code",
      "execution_count": null,
      "id": "b3cf4d9e-118d-488a-b211-1a95c63f3a38",
      "metadata": {
        "id": "b3cf4d9e-118d-488a-b211-1a95c63f3a38"
      },
      "outputs": [],
      "source": [
        "a = 8     # Aleatorio, 1 < a < N-2\n",
        "N = 15    # Numero a factorizar\n",
        "\n",
        "# Función periódica\n",
        "f = lambda x: (a**x) % N\n",
        "\n",
        "# Graficamos f(x)\n",
        "x = np.arange(N)\n",
        "plt.plot(x, f(x))\n",
        "plt.xticks(x);"
      ]
    },
    {
      "cell_type": "markdown",
      "id": "20485921-386f-4562-818e-f7f29b9f5966",
      "metadata": {
        "id": "20485921-386f-4562-818e-f7f29b9f5966"
      },
      "source": [
        "El problema es que para números grandes, encontrar el periódo de la función modular es un problema computacional que crece con la entrada superpolinomialmente (requiere mucho más tiempo que un problema polinomial) en el mejor de los casos o exponencialmente en el peor de los casos."
      ]
    },
    {
      "cell_type": "markdown",
      "id": "8d395c96-042b-40c7-8c82-d4a1cc66359e",
      "metadata": {
        "id": "8d395c96-042b-40c7-8c82-d4a1cc66359e"
      },
      "source": [
        "Recordemos que si el periodo es $r$. significa que\n",
        "$$ a^{r}\\mod N \\equiv 1 \\mod N$$\n",
        "o, equivalentemente,\n",
        "\\begin{array}{rl}\n",
        "&(a^{r}-1)\\mod N\\equiv 0\\mod N \\\\\n",
        "\\\\\n",
        "\\Longleftrightarrow &(a^\\frac{r}{2} + 1)(a^\\frac{r}{2} - 1)= kN, \\quad k\\in\\mathbb{N}.\n",
        "\\end{array}\n",
        "de modo que si definimos\n",
        "\\begin{align}\n",
        "p &:= a^\\frac{r}{2} + 1 = p_1 p_2 ... p_M\\\\\n",
        "q &:= a^\\frac{r}{2} - 1 = q_1 q_2 ... q_L\\\\\n",
        "\\end{align}\n",
        "se puede agrupar\n",
        "$$ pq = p_1 p_2 ... p_M q_1 q_2 ... q_L = kN$$\n",
        "y podemos ver que\n",
        "\\begin{align}\n",
        "N = \\mathrm{mcd}(p, N)\\text{ }\\mathrm{mcd}(q, N)\n",
        "\\end{align}\n",
        "de forma que teniendo el periodo $r$ podemos computar los factores de $N$ de esta manera."
      ]
    },
    {
      "cell_type": "markdown",
      "source": [
        "**Ejercicio 1**: Volviendo al caso de los números $a=8$ y $N=15$, encuentra los factores de $N$."
      ],
      "metadata": {
        "id": "DaCEG6HOM17t"
      },
      "id": "DaCEG6HOM17t"
    },
    {
      "cell_type": "code",
      "execution_count": null,
      "id": "108e0042-90fe-4152-823c-1b1158fa42c0",
      "metadata": {
        "id": "108e0042-90fe-4152-823c-1b1158fa42c0"
      },
      "outputs": [],
      "source": []
    },
    {
      "cell_type": "markdown",
      "id": "265cc209-ecb5-4483-a4a6-0e952580c89c",
      "metadata": {
        "id": "265cc209-ecb5-4483-a4a6-0e952580c89c"
      },
      "source": [
        "Ahora, como mencionamos antes, para números más grandes necesitamos tener una función para poder encontrar el periodo de la exponenciación modular $$f(x) = a^{x}\\mod N$$\n",
        "\n",
        "Una de las formas posibles de encontrar el periodo de manera clásica es a \"fuerza bruta\"."
      ]
    },
    {
      "cell_type": "markdown",
      "source": [
        "**Ejercicio 2**: Escriba una función \"find_period\" que dado un número $N$ y un número $a$, encuentre y entregue $r$ tal que $a^{r}\\equiv 1\\mod N$."
      ],
      "metadata": {
        "id": "022lhWDBPpJM"
      },
      "id": "022lhWDBPpJM"
    },
    {
      "cell_type": "code",
      "execution_count": null,
      "id": "d0db4d35-4804-4942-b52f-82a8dab8d6af",
      "metadata": {
        "id": "d0db4d35-4804-4942-b52f-82a8dab8d6af"
      },
      "outputs": [],
      "source": [
        "\n",
        "def find_period(N, a):\n",
        "\n",
        "\n",
        "find_period(N, a)"
      ]
    },
    {
      "cell_type": "markdown",
      "source": [
        "Evidentemente esta no es la forma más optima de calcular el periodo de manera clásica. Como ya sabemos, por el teorema de Euler, sabemos que $a^{\\varphi(N)}\\equiv 1\\mod N$, aunque esto no nos dice  que $\\varphi(N)$ es el periodo, nos asegura que el periodo divide a $\\varphi(N)$, por lo que muchos de los métodos más optimos para encontrar el periodo se basan en calcular $\\varphi(N)$."
      ],
      "metadata": {
        "id": "qnPSB1M7QAqb"
      },
      "id": "qnPSB1M7QAqb"
    },
    {
      "cell_type": "markdown",
      "id": "04ec9a80-8814-497b-8f5f-090e96f69e27",
      "metadata": {
        "id": "04ec9a80-8814-497b-8f5f-090e96f69e27"
      },
      "source": [
        "Con todo lo anterior, podemos implementar un algoritmo de Shor \"clásico\".\n",
        "\n",
        "**Ejercicio 3**: Escriba una función que permita implementar un algoritmo de Shor \"clásico\". que dados $N$ y $a$, devuelva los factores."
      ]
    },
    {
      "cell_type": "code",
      "execution_count": null,
      "id": "7ccc889a-15a0-40b5-88e7-053fb50cf4c5",
      "metadata": {
        "id": "7ccc889a-15a0-40b5-88e7-053fb50cf4c5"
      },
      "outputs": [],
      "source": [
        "def _shor_clasico(N, a):\n",
        "\n",
        "\n",
        "    return factores"
      ]
    },
    {
      "cell_type": "code",
      "execution_count": null,
      "id": "1dcd616c-a9d4-45aa-beed-b541c6ae9bea",
      "metadata": {
        "id": "1dcd616c-a9d4-45aa-beed-b541c6ae9bea"
      },
      "outputs": [],
      "source": [
        "_shor_clasico(N, a)"
      ]
    },
    {
      "cell_type": "markdown",
      "source": [
        "Pero recordemos que el algoritmo de Shor nos pedía que el $\\mathrm{MCD}(a,N)=1$, por lo que debemos considerar los casos en los que sea mayor que $1$:"
      ],
      "metadata": {
        "id": "rd8dJTXWR_0i"
      },
      "id": "rd8dJTXWR_0i"
    },
    {
      "cell_type": "code",
      "execution_count": null,
      "id": "234b57f8-a7a5-40a2-96b0-6d8f6b3655fa",
      "metadata": {
        "id": "234b57f8-a7a5-40a2-96b0-6d8f6b3655fa"
      },
      "outputs": [],
      "source": [
        "# Una implementación mas completa, que se encarga de verificar los casos especiales\n",
        "def shor_clasico(N):\n",
        "    # Elegimos a al azar\n",
        "    a = np.random.randint(2, N-1)\n",
        "\n",
        "    # Si el MCD es 1, entonces podemos usar a para buscar el periodo de f(x)\n",
        "    f1 = mcd(a, N)\n",
        "\n",
        "    # Si el MCD es mayor que 1, entonces ya encontramos un factor\n",
        "    if f1 > 1:\n",
        "        return [f1, N//f1]\n",
        "\n",
        "    # Usamos la implementación para N y a dados\n",
        "    return _shor_clasico(N, a)"
      ]
    },
    {
      "cell_type": "code",
      "execution_count": null,
      "id": "eccc64a6-d0fe-48d8-ab70-93097dcd0219",
      "metadata": {
        "id": "eccc64a6-d0fe-48d8-ab70-93097dcd0219"
      },
      "outputs": [],
      "source": [
        "factores = shor_clasico(427335)\n",
        "factores"
      ]
    },
    {
      "cell_type": "code",
      "execution_count": null,
      "id": "9ec8f122-27e9-40b5-9fa4-1fd5d189b3d6",
      "metadata": {
        "id": "9ec8f122-27e9-40b5-9fa4-1fd5d189b3d6"
      },
      "outputs": [],
      "source": [
        "np.prod(factores)"
      ]
    },
    {
      "cell_type": "markdown",
      "id": "7b1404e5-c0c5-44dc-b17b-d8a9f42dc0b3",
      "metadata": {
        "id": "7b1404e5-c0c5-44dc-b17b-d8a9f42dc0b3"
      },
      "source": [
        "Sin embargo, la busqueda del periodo de $f(x)$ es exponencialmente costosa, volviéndola una tarea imposible para numeros grandes. Por este motivo, recurriremos a la Computación Cuántica, que nos ofrece un algoritmo mucho mas eficiente para resolver la busqueda del periodo: el algoritmo de **Quantum Phase Estimation (QPE)**."
      ]
    },
    {
      "cell_type": "markdown",
      "id": "e6c70963-a1f5-4506-88b4-248fe0f7d697",
      "metadata": {
        "id": "e6c70963-a1f5-4506-88b4-248fe0f7d697"
      },
      "source": [
        "Una parte importante del algoritmo de QPE es la transformada cuántica de Fourier, por lo que comenzaremos haciendo una introducción a esta.\n",
        "\n",
        "### Transformada Cuántica de Fourier (QFT)\n",
        "\n",
        "La transformada de Fourier es una transformación matemática que, al ser aplicada sobre una función, la descompone en funciones periódicas, indicandonos las frecuencias que construyen a esta función. En el mundo moderno, es una herramiénta matemática crucial para todo lo que involucre análisis de señales, desde el procesamiento y manejo de audio, como la música, hasta prácticamente todas las áreas de la ingeniería.\n",
        "\n",
        "La transformada de Fourier se implementa clásicamente mediante la transformada de Fourier discreta (DFT), teniendo una complejidad $O(m\\mathrm{log}(m))$, donde $m$ es el tamaño de la señal de entrada, mediante el algoritmo clásico más rápido, que es la Fast Fourier Transform (FFT).\n",
        "\n",
        "Así como podemos realizar la FFT para encontrar la transformada de Fourier de una función codificada en un sistema clásico, también podemos tener la función codificada en un sistema cuántico con $n$ qubits, y encontrar su transformada de Fourier utilizando la Transformada Cuántica de Fourier (QFT), que en su mejor implementación requiere $O(n\\mathrm{log}(n))$ compuertas: [Hales and Halgreen, (2000)](https://doi.org/10.1109/SFCS.2000.892139).\n",
        "\n",
        "Debemos recordar que se requieren $m=2^n$ bits clásicos para emular $n$ qubits, de modo que para emular la QFT, la FFT tendría una complejidad de $O(n2^n)$, dejando en claro que la QFT resulta exponencialmente mas eficiente que la mejor transformada de Fourier clásica.\n",
        "\n",
        "### Estimación Cuántica de Fase (QPE)\n",
        "\n",
        "La Estimación Cuántica de Fase es un algoritmo de gran relevancia en la computación cuántica, siendo un ingrediente fundamental en aplicaciones como el algoritmo de Shor.\n",
        "\n",
        "La QPE resuelve el **problema de estimación de fase**: Si $|\\psi\\rangle$ es un autovector de un operador unitario $U$, entonces necesariamente $U|\\psi\\rangle = e^{2\\pi i\\theta}|\\psi\\rangle$. El problema de estimación de fase consiste en estimar el valor de la fase, $\\theta$, dentro del rango $[0, 1[$.\n",
        "\n",
        "Para resolver este problema, la QPE hace uso del operador unitario $U$ y la QFT para encontrar $\\theta$, lo que nos resulta de utilidad puesto que si codificamos nuestra función de exponenciacion modular, $f(x)$, como el operador $U$, entonces la QPE nos permite encontrar eficientemente el periodo de $f(x)$."
      ]
    },
    {
      "cell_type": "markdown",
      "id": "8956924f-e95c-4ace-bfda-e19a35e5adab",
      "metadata": {
        "execution": {
          "iopub.execute_input": "2023-11-21T12:09:33.930605Z",
          "iopub.status.busy": "2023-11-21T12:09:33.928613Z",
          "iopub.status.idle": "2023-11-21T12:09:33.940846Z",
          "shell.execute_reply": "2023-11-21T12:09:33.938153Z",
          "shell.execute_reply.started": "2023-11-21T12:09:33.930605Z"
        },
        "id": "8956924f-e95c-4ace-bfda-e19a35e5adab"
      },
      "source": [
        "### Implementación de la QPE a través de una simulación"
      ]
    },
    {
      "cell_type": "code",
      "execution_count": null,
      "id": "fc04d4d5-6635-4d8a-a69e-45ff08f3ddd0",
      "metadata": {
        "id": "fc04d4d5-6635-4d8a-a69e-45ff08f3ddd0"
      },
      "outputs": [],
      "source": [
        "from qiskit import QuantumCircuit, transpile\n",
        "from qiskit_aer import Aer\n",
        "from qiskit.circuit.library import QFT\n",
        "from qiskit.visualization import plot_histogram"
      ]
    },
    {
      "cell_type": "markdown",
      "id": "56e51d86-6a0d-4a6f-8e4a-67b6ab047bd5",
      "metadata": {
        "id": "56e51d86-6a0d-4a6f-8e4a-67b6ab047bd5"
      },
      "source": [
        "Definimos la exponenciación modular y la compuerta $a \\ \\mathrm{mod} \\ N$ controlada"
      ]
    },
    {
      "cell_type": "code",
      "execution_count": null,
      "id": "3c25cde0-5b07-4468-afb2-61f218e66099",
      "metadata": {
        "id": "3c25cde0-5b07-4468-afb2-61f218e66099"
      },
      "outputs": [],
      "source": [
        "def modular_exponentiation(qc, Nq, a, N):\n",
        "    for x in range(Nq):\n",
        "        qc.append(controlled_amod(a, 2**x, N),\n",
        "                  [x] + list(range(Nq, 2*Nq)))\n",
        "\n",
        "# Esta implemetacion es especifica para N=15.\n",
        "# Puede ser generalizada pero escapa al alcance del taller\n",
        "def controlled_amod(a, x, N=15):\n",
        "    if a not in [2,7,8,11,13]:\n",
        "        raise ValueError(\"'a' must be 2,7,8,11,13\")\n",
        "    U = QuantumCircuit(4)\n",
        "    for _ in range(x):\n",
        "        if a in [2,13]:\n",
        "            U.swap(0,1)\n",
        "            U.swap(1,2)\n",
        "            U.swap(2,3)\n",
        "        if a in [7,8]:\n",
        "            U.swap(2,3)\n",
        "            U.swap(1,2)\n",
        "            U.swap(0,1)\n",
        "        if a == 11:\n",
        "            U.swap(1,3)\n",
        "            U.swap(0,2)\n",
        "        if a in [7,11,13]:\n",
        "            for q in range(4):\n",
        "                U.x(q)\n",
        "    U = U.to_gate()\n",
        "    U.name = f\"{a}^{x} mod {N}\"\n",
        "    c_U = U.control()\n",
        "    return c_U"
      ]
    },
    {
      "cell_type": "markdown",
      "source": [
        "**Ejercicio 4**: Definir el número de qubits necesarios, los registros clásicos y el circuito cuántico"
      ],
      "metadata": {
        "id": "90DpNi-zWm-7"
      },
      "id": "90DpNi-zWm-7"
    },
    {
      "cell_type": "code",
      "execution_count": null,
      "id": "7be88d6e-8d45-44ed-b170-827b3d1051d9",
      "metadata": {
        "id": "7be88d6e-8d45-44ed-b170-827b3d1051d9"
      },
      "outputs": [],
      "source": [
        "def _shor_circuit(N, a):\n",
        "    # Numero de qubits para codificar N\n",
        "    Nq =\n",
        "\n",
        "    # Define un circuito cuantico\n",
        "    qc =\n",
        "\n",
        "\n",
        "    # Incorpora las compuertas de exponenciacion modular\n",
        "    modular_exponentiation(qc, Nq, a, 15)\n",
        "\n",
        "    # Transformada Cuántica de Fourier Inversa\n",
        "    iQFT = QFT(Nq, do_swaps=True).inverse()\n",
        "    qc.append(iQFT, range(Nq))\n",
        "    # Medimos los resultados\n",
        "    qc.measure(range(Nq), range(Nq))\n",
        "\n",
        "\n",
        "    return qc"
      ]
    },
    {
      "cell_type": "markdown",
      "source": [
        "Vemos como se ve el circuito con $N=15$ y $a=7$:"
      ],
      "metadata": {
        "id": "FjcYs6tJTzIE"
      },
      "id": "FjcYs6tJTzIE"
    },
    {
      "cell_type": "code",
      "execution_count": null,
      "id": "31d756f8-98a2-47c5-b84e-d098c6146433",
      "metadata": {
        "colab": {
          "base_uri": "https://localhost:8080/",
          "height": 642
        },
        "id": "31d756f8-98a2-47c5-b84e-d098c6146433",
        "outputId": "f774e703-6631-4a4a-dc96-ad1f54e5dbed"
      },
      "outputs": [
        {
          "output_type": "execute_result",
          "data": {
            "text/plain": [
              "<Figure size 1625.27x785.944 with 1 Axes>"
            ],
            "image/png": "[encoded data removed]"
          },
          "metadata": {},
          "execution_count": 49
        }
      ],
      "source": [
        "N = 15\n",
        "a = 7\n",
        "_shor_circuit(N, a).draw('mpl')"
      ]
    },
    {
      "cell_type": "markdown",
      "source": [
        "**Ejercicio 5**: Llamar al simulador, crear el resultado de experimento y plotear el histograma."
      ],
      "metadata": {
        "id": "8qvnMMUjVvtM"
      },
      "id": "8qvnMMUjVvtM"
    },
    {
      "cell_type": "code",
      "execution_count": null,
      "id": "U2g3RT8Om0Hw",
      "metadata": {
        "id": "U2g3RT8Om0Hw"
      },
      "outputs": [],
      "source": [
        "\n"
      ]
    },
    {
      "cell_type": "markdown",
      "id": "cca85456-4397-40b7-be90-ca90f613f9fc",
      "metadata": {
        "id": "cca85456-4397-40b7-be90-ca90f613f9fc"
      },
      "source": [
        "Graficamos el histograma de las cuentas de cada resultado"
      ]
    },
    {
      "cell_type": "code",
      "execution_count": null,
      "id": "03d8fdc0-c1b9-458e-a82a-525e65db297b",
      "metadata": {
        "id": "03d8fdc0-c1b9-458e-a82a-525e65db297b"
      },
      "outputs": [],
      "source": []
    },
    {
      "cell_type": "markdown",
      "source": [
        "Convertimos las etiquetas de los estados que obtuvimos, de binario a decimal:"
      ],
      "metadata": {
        "id": "Qbz7rYSzVneo"
      },
      "id": "Qbz7rYSzVneo"
    },
    {
      "cell_type": "code",
      "execution_count": null,
      "id": "12c8ca2a-1ec0-466d-b90b-3c20ed66ae46",
      "metadata": {
        "id": "12c8ca2a-1ec0-466d-b90b-3c20ed66ae46"
      },
      "outputs": [],
      "source": [
        "results_dec = np.sort([int(binstate, 2) for binstate in counts.keys()])\n",
        "results_dec"
      ]
    },
    {
      "cell_type": "code",
      "execution_count": null,
      "id": "7d333a36-c9f9-499c-a3ca-691a636d7b68",
      "metadata": {
        "id": "7d333a36-c9f9-499c-a3ca-691a636d7b68"
      },
      "outputs": [],
      "source": [
        "from fractions import Fraction\n",
        "\n",
        "def _shor(N, a, shots=1):\n",
        "    # Definimos y corremos el circuito cuántico\n",
        "    qc = _shor_circuit(N, a)\n",
        "    simulator = Aer.get_backend('aer_simulator')\n",
        "    transpiled_circuit = transpile(qc, simulator)\n",
        "\n",
        "    result = simulator.run(transpiled_circuit, shots=shots).result()\n",
        "    counts = result.get_counts()\n",
        "\n",
        "    # Obtenemos los nombres en decimal de los estados obtenidos\n",
        "    results_dec = np.sort([int(binstate, 2) for binstate in counts.keys()])\n",
        "\n",
        "    # Numero total de estados\n",
        "    total_num_states = 2**int(np.ceil(np.log2(N)))\n",
        "    # Fases normalizadas, j/r\n",
        "    phases = [res/total_num_states for res in results_dec if res != 0]\n",
        "\n",
        "    # Usamos fracciones continuadas para obtener el denominador de j/r\n",
        "    r_array = [Fraction(phase).limit_denominator(N).denominator\n",
        "               for phase in phases ]\n",
        "\n",
        "    # Para cada r, encontramos los factores\n",
        "    factors = []\n",
        "    for r in r_array:\n",
        "        # Si r es impar, saltamos la iteracion\n",
        "        if  r != int(r/2)*2:\n",
        "            continue\n",
        "        # Si r es par, calculamos los factores\n",
        "        x = a ** (r//2)\n",
        "        factors.append([mcd(x-1, N), mcd(x+1, N)])\n",
        "\n",
        "    return factors\n"
      ]
    },
    {
      "cell_type": "code",
      "execution_count": null,
      "id": "fc1e90f7-f002-4058-abb0-81cc70f6e192",
      "metadata": {
        "id": "fc1e90f7-f002-4058-abb0-81cc70f6e192"
      },
      "outputs": [],
      "source": [
        "# Simulamos el algoritmo de Shor cuántico\n",
        "_shor(N, a, shots=1)"
      ]
    },
    {
      "cell_type": "markdown",
      "source": [
        "En caso de que j y r tengan factores en común, podemos tener que correr el circuito de nuevo. Por eso, podemos correr con varios shots, y vemos que encontramos 3 soluciones, de las cuales 2 son correctas."
      ],
      "metadata": {
        "id": "A-7hVndzWK5B"
      },
      "id": "A-7hVndzWK5B"
    },
    {
      "cell_type": "code",
      "execution_count": null,
      "id": "f6a39a96-54f2-4154-af41-ce438b234068",
      "metadata": {
        "id": "f6a39a96-54f2-4154-af41-ce438b234068"
      },
      "outputs": [],
      "source": [
        "_shor(N, a, shots=100)"
      ]
    },
    {
      "cell_type": "markdown",
      "id": "9aafbb8d-44cc-4faa-8f0c-0f02e62cf039",
      "metadata": {
        "id": "9aafbb8d-44cc-4faa-8f0c-0f02e62cf039"
      },
      "source": [
        "Hemos factorizado 15 como 3 $\\times$ 5"
      ]
    },
    {
      "cell_type": "markdown",
      "id": "aa2cd75b",
      "metadata": {
        "id": "aa2cd75b"
      },
      "source": [
        "### Implementación para N genérico\n",
        "\n",
        "Dada la complejidad de la exponenciación modular, el codigo arriba se ha dejado para un valor fijo de $N = 15$. Por completitud, dejamos a su disposición un archivo llamado `taller_2_shor_generico.py` del cual pueden importar el circuito de Shor para factorizar números distintos de $N$."
      ]
    },
    {
      "cell_type": "code",
      "execution_count": null,
      "id": "ecda4696",
      "metadata": {
        "id": "ecda4696"
      },
      "outputs": [],
      "source": [
        "from taller_2_shor_generico import shor_circuit\n",
        "\n",
        "qc = shor_circuit(N=15, a=7)\n",
        "qc.draw()"
      ]
    },
    {
      "cell_type": "code",
      "execution_count": null,
      "id": "e59ab03c",
      "metadata": {
        "id": "e59ab03c"
      },
      "outputs": [],
      "source": [
        "def find_period_generico(N: int, a: int) -> int:\n",
        "    qc = shor_circuit(N, a)\n",
        "    simulator = Aer.get_backend('aer_simulator')\n",
        "    circuit = transpile(qc, simulator)\n",
        "    result = simulator.run(circuit, shots=1).result()\n",
        "    counts = result.get_counts()\n",
        "\n",
        "    # Obtenemos los nombres en decimal de los estados obtenidos\n",
        "    results_dec = np.sort([int(binstate, 2) for binstate in counts.keys()])\n",
        "\n",
        "    # Numero total de estados\n",
        "    total_num_states = 2 ** N.bit_length()\n",
        "\n",
        "    # Fases normalizadas, j/r\n",
        "    phase = results_dec[0]/total_num_states\n",
        "\n",
        "    # Usamos fracciones continuadas para obtener el denominador de j/r\n",
        "    r = Fraction(phase).limit_denominator(N).denominator\n",
        "\n",
        "    return r"
      ]
    },
    {
      "cell_type": "code",
      "execution_count": null,
      "id": "a60871de",
      "metadata": {
        "id": "a60871de"
      },
      "outputs": [],
      "source": [
        "import random\n",
        "import math\n",
        "\n",
        "def shor_generico(N: int) -> list[int]:\n",
        "    a = random.randint(2, N-2)\n",
        "\n",
        "    # Ensure a and N are coprimes\n",
        "    f1 = math.gcd(a, N)\n",
        "    if f1 > 1:\n",
        "        return [f1, N//f1]\n",
        "\n",
        "    # Here is where the magic happens!\n",
        "    r = find_period_generico(N, a)\n",
        "\n",
        "    if r%2 == 1: # r is odd\n",
        "        return shor_generico(N)\n",
        "    else:        # r is even\n",
        "        x = pow(a, r//2, N)\n",
        "\n",
        "        if x == N-1:\n",
        "            return shor_generico(N)\n",
        "\n",
        "        p = math.gcd(x - 1, N)\n",
        "        q = math.gcd(x + 1, N)\n",
        "\n",
        "        # At least one is a nontrivial factor\n",
        "        if p == 1:\n",
        "            p = N // q\n",
        "        if q == 1:\n",
        "            q = N // p\n",
        "\n",
        "        return [p, q]"
      ]
    },
    {
      "cell_type": "code",
      "execution_count": null,
      "id": "d95728b3",
      "metadata": {
        "id": "d95728b3"
      },
      "outputs": [],
      "source": [
        "# Primes until 20:\n",
        "# 2, 3, 5, 7, 11, 13, 17, 19\n",
        "\n",
        "N = 11 * 5\n",
        "\n",
        "shor_generico(N)"
      ]
    },
    {
      "cell_type": "markdown",
      "id": "477cf3b8",
      "metadata": {
        "id": "477cf3b8"
      },
      "source": [
        "## Contactos:\n",
        "\n",
        "Daniel Concha <br>\n",
        "Estudiante Doctorado en ciencias físicas <br>\n",
        "Universidad de Concepción <br>\n",
        "dconcham@udec.cl\n",
        "\n",
        "Jorge Gidi <br>\n",
        "Estudiante doctorado en ciencias físicas <br>\n",
        "Universidad de Concepción <br>\n",
        "jorgegidi@udec.cl\n",
        "\n",
        "María Barría <br>\n",
        "Estudiante doctorado en ciencias físicas <br>\n",
        "Universidad de Concepción <br>\n",
        "marbarria@udec.cl"
      ]
    }
  ],
  "metadata": {
    "colab": {
      "provenance": []
    },
    "kernelspec": {
      "display_name": "ecc2025",
      "language": "python",
      "name": "python3"
    },
    "language_info": {
      "codemirror_mode": {
        "name": "ipython",
        "version": 3
      },
      "file_extension": ".py",
      "mimetype": "text/x-python",
      "name": "python",
      "nbconvert_exporter": "python",
      "pygments_lexer": "ipython3",
      "version": "3.13.1"
    }
  },
  "nbformat": 4,
  "nbformat_minor": 5
}