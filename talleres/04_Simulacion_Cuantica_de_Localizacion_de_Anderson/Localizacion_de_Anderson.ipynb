{
  "cells": [
    {
      "cell_type": "code",
      "execution_count": 1,
      "metadata": {
        "collapsed": true,
        "id": "gu5LWp4gjx9y",
        "outputId": "57b7d166-2eaa-4916-b26e-3cba938c11d9",
        "colab": {
          "base_uri": "https://localhost:8080/"
        }
      },
      "outputs": [
        {
          "output_type": "stream",
          "name": "stdout",
          "text": [
            "Collecting git+https://github.com/MIROptics/ECC2025.git\n",
            "  Cloning https://github.com/MIROptics/ECC2025.git to /tmp/pip-req-build-mfebqrm6\n",
            "  Running command git clone --filter=blob:none --quiet https://github.com/MIROptics/ECC2025.git /tmp/pip-req-build-mfebqrm6\n",
            "  Resolved https://github.com/MIROptics/ECC2025.git to commit e44b6a0a0a88c82b64d62e155cd70a5295c5b59b\n",
            "  Preparing metadata (setup.py) ... \u001b[?25l\u001b[?25hdone\n",
            "Requirement already satisfied: numpy in /usr/local/lib/python3.10/dist-packages (from ECC2025==0.1.2) (1.26.4)\n",
            "Requirement already satisfied: scipy in /usr/local/lib/python3.10/dist-packages (from ECC2025==0.1.2) (1.13.1)\n",
            "Collecting qiskit (from ECC2025==0.1.2)\n",
            "  Downloading qiskit-1.3.1-cp39-abi3-manylinux_2_17_x86_64.manylinux2014_x86_64.whl.metadata (12 kB)\n",
            "Collecting qiskit_ibm_runtime (from ECC2025==0.1.2)\n",
            "  Downloading qiskit_ibm_runtime-0.34.0-py3-none-any.whl.metadata (3.0 kB)\n",
            "Collecting qiskit_aer (from ECC2025==0.1.2)\n",
            "  Downloading qiskit_aer-0.15.1-cp310-cp310-manylinux_2_17_x86_64.manylinux2014_x86_64.whl.metadata (8.0 kB)\n",
            "Collecting pylatexenc (from ECC2025==0.1.2)\n",
            "  Downloading pylatexenc-2.10.tar.gz (162 kB)\n",
            "\u001b[2K     \u001b[90m━━━━━━━━━━━━━━━━━━━━━━━━━━━━━━━━━━━━━━━━\u001b[0m \u001b[32m162.6/162.6 kB\u001b[0m \u001b[31m7.5 MB/s\u001b[0m eta \u001b[36m0:00:00\u001b[0m\n",
            "\u001b[?25h  Preparing metadata (setup.py) ... \u001b[?25l\u001b[?25hdone\n",
            "Requirement already satisfied: matplotlib in /usr/local/lib/python3.10/dist-packages (from ECC2025==0.1.2) (3.10.0)\n",
            "Requirement already satisfied: scikit-learn in /usr/local/lib/python3.10/dist-packages (from ECC2025==0.1.2) (1.6.0)\n",
            "Requirement already satisfied: pandas in /usr/local/lib/python3.10/dist-packages (from ECC2025==0.1.2) (2.2.2)\n",
            "Collecting qiskit_algorithms (from ECC2025==0.1.2)\n",
            "  Downloading qiskit_algorithms-0.3.1-py3-none-any.whl.metadata (4.2 kB)\n",
            "Requirement already satisfied: seaborn in /usr/local/lib/python3.10/dist-packages (from ECC2025==0.1.2) (0.13.2)\n",
            "Requirement already satisfied: tensorflow in /usr/local/lib/python3.10/dist-packages (from ECC2025==0.1.2) (2.17.1)\n",
            "Requirement already satisfied: keras in /usr/local/lib/python3.10/dist-packages (from ECC2025==0.1.2) (3.5.0)\n",
            "Collecting pyscf (from ECC2025==0.1.2)\n",
            "  Downloading pyscf-2.7.0-py3-none-manylinux_2_17_x86_64.manylinux2014_x86_64.whl.metadata (6.2 kB)\n",
            "Collecting qiskit_nature (from ECC2025==0.1.2)\n",
            "  Downloading qiskit_nature-0.7.2-py3-none-any.whl.metadata (8.0 kB)\n",
            "Requirement already satisfied: absl-py in /usr/local/lib/python3.10/dist-packages (from keras->ECC2025==0.1.2) (1.4.0)\n",
            "Requirement already satisfied: rich in /usr/local/lib/python3.10/dist-packages (from keras->ECC2025==0.1.2) (13.9.4)\n",
            "Requirement already satisfied: namex in /usr/local/lib/python3.10/dist-packages (from keras->ECC2025==0.1.2) (0.0.8)\n",
            "Requirement already satisfied: h5py in /usr/local/lib/python3.10/dist-packages (from keras->ECC2025==0.1.2) (3.12.1)\n",
            "Requirement already satisfied: optree in /usr/local/lib/python3.10/dist-packages (from keras->ECC2025==0.1.2) (0.13.1)\n",
            "Requirement already satisfied: ml-dtypes in /usr/local/lib/python3.10/dist-packages (from keras->ECC2025==0.1.2) (0.4.1)\n",
            "Requirement already satisfied: packaging in /usr/local/lib/python3.10/dist-packages (from keras->ECC2025==0.1.2) (24.2)\n",
            "Requirement already satisfied: contourpy>=1.0.1 in /usr/local/lib/python3.10/dist-packages (from matplotlib->ECC2025==0.1.2) (1.3.1)\n",
            "Requirement already satisfied: cycler>=0.10 in /usr/local/lib/python3.10/dist-packages (from matplotlib->ECC2025==0.1.2) (0.12.1)\n",
            "Requirement already satisfied: fonttools>=4.22.0 in /usr/local/lib/python3.10/dist-packages (from matplotlib->ECC2025==0.1.2) (4.55.3)\n",
            "Requirement already satisfied: kiwisolver>=1.3.1 in /usr/local/lib/python3.10/dist-packages (from matplotlib->ECC2025==0.1.2) (1.4.8)\n",
            "Requirement already satisfied: pillow>=8 in /usr/local/lib/python3.10/dist-packages (from matplotlib->ECC2025==0.1.2) (11.1.0)\n",
            "Requirement already satisfied: pyparsing>=2.3.1 in /usr/local/lib/python3.10/dist-packages (from matplotlib->ECC2025==0.1.2) (3.2.1)\n",
            "Requirement already satisfied: python-dateutil>=2.7 in /usr/local/lib/python3.10/dist-packages (from matplotlib->ECC2025==0.1.2) (2.8.2)\n",
            "Requirement already satisfied: pytz>=2020.1 in /usr/local/lib/python3.10/dist-packages (from pandas->ECC2025==0.1.2) (2024.2)\n",
            "Requirement already satisfied: tzdata>=2022.7 in /usr/local/lib/python3.10/dist-packages (from pandas->ECC2025==0.1.2) (2024.2)\n",
            "Requirement already satisfied: setuptools in /usr/local/lib/python3.10/dist-packages (from pyscf->ECC2025==0.1.2) (75.1.0)\n",
            "Collecting rustworkx>=0.15.0 (from qiskit->ECC2025==0.1.2)\n",
            "  Downloading rustworkx-0.15.1-cp38-abi3-manylinux_2_17_x86_64.manylinux2014_x86_64.whl.metadata (9.9 kB)\n",
            "Requirement already satisfied: sympy>=1.3 in /usr/local/lib/python3.10/dist-packages (from qiskit->ECC2025==0.1.2) (1.13.1)\n",
            "Collecting dill>=0.3 (from qiskit->ECC2025==0.1.2)\n",
            "  Downloading dill-0.3.9-py3-none-any.whl.metadata (10 kB)\n",
            "Collecting stevedore>=3.0.0 (from qiskit->ECC2025==0.1.2)\n",
            "  Downloading stevedore-5.4.0-py3-none-any.whl.metadata (2.3 kB)\n",
            "Requirement already satisfied: typing-extensions in /usr/local/lib/python3.10/dist-packages (from qiskit->ECC2025==0.1.2) (4.12.2)\n",
            "Collecting symengine<0.14,>=0.11 (from qiskit->ECC2025==0.1.2)\n",
            "  Downloading symengine-0.13.0-cp310-cp310-manylinux_2_17_x86_64.manylinux2014_x86_64.whl.metadata (1.2 kB)\n",
            "Requirement already satisfied: psutil>=5 in /usr/local/lib/python3.10/dist-packages (from qiskit_aer->ECC2025==0.1.2) (5.9.5)\n",
            "Requirement already satisfied: requests>=2.19 in /usr/local/lib/python3.10/dist-packages (from qiskit_ibm_runtime->ECC2025==0.1.2) (2.32.3)\n",
            "Collecting requests-ntlm>=1.1.0 (from qiskit_ibm_runtime->ECC2025==0.1.2)\n",
            "  Downloading requests_ntlm-1.3.0-py3-none-any.whl.metadata (2.4 kB)\n",
            "Requirement already satisfied: urllib3>=1.21.1 in /usr/local/lib/python3.10/dist-packages (from qiskit_ibm_runtime->ECC2025==0.1.2) (2.3.0)\n",
            "Requirement already satisfied: websocket-client>=1.5.1 in /usr/local/lib/python3.10/dist-packages (from qiskit_ibm_runtime->ECC2025==0.1.2) (1.8.0)\n",
            "Collecting ibm-platform-services>=0.22.6 (from qiskit_ibm_runtime->ECC2025==0.1.2)\n",
            "  Downloading ibm_platform_services-0.59.0-py3-none-any.whl.metadata (9.0 kB)\n",
            "Collecting pydantic<2.10,>=2.5.0 (from qiskit_ibm_runtime->ECC2025==0.1.2)\n",
            "  Downloading pydantic-2.9.2-py3-none-any.whl.metadata (149 kB)\n",
            "\u001b[2K     \u001b[90m━━━━━━━━━━━━━━━━━━━━━━━━━━━━━━━━━━━━━━━━\u001b[0m \u001b[32m149.4/149.4 kB\u001b[0m \u001b[31m10.8 MB/s\u001b[0m eta \u001b[36m0:00:00\u001b[0m\n",
            "\u001b[?25hRequirement already satisfied: joblib>=1.2.0 in /usr/local/lib/python3.10/dist-packages (from scikit-learn->ECC2025==0.1.2) (1.4.2)\n",
            "Requirement already satisfied: threadpoolctl>=3.1.0 in /usr/local/lib/python3.10/dist-packages (from scikit-learn->ECC2025==0.1.2) (3.5.0)\n",
            "Requirement already satisfied: astunparse>=1.6.0 in /usr/local/lib/python3.10/dist-packages (from tensorflow->ECC2025==0.1.2) (1.6.3)\n",
            "Requirement already satisfied: flatbuffers>=24.3.25 in /usr/local/lib/python3.10/dist-packages (from tensorflow->ECC2025==0.1.2) (24.12.23)\n",
            "Requirement already satisfied: gast!=0.5.0,!=0.5.1,!=0.5.2,>=0.2.1 in /usr/local/lib/python3.10/dist-packages (from tensorflow->ECC2025==0.1.2) (0.6.0)\n",
            "Requirement already satisfied: google-pasta>=0.1.1 in /usr/local/lib/python3.10/dist-packages (from tensorflow->ECC2025==0.1.2) (0.2.0)\n",
            "Requirement already satisfied: libclang>=13.0.0 in /usr/local/lib/python3.10/dist-packages (from tensorflow->ECC2025==0.1.2) (18.1.1)\n",
            "Requirement already satisfied: opt-einsum>=2.3.2 in /usr/local/lib/python3.10/dist-packages (from tensorflow->ECC2025==0.1.2) (3.4.0)\n",
            "Requirement already satisfied: protobuf!=4.21.0,!=4.21.1,!=4.21.2,!=4.21.3,!=4.21.4,!=4.21.5,<5.0.0dev,>=3.20.3 in /usr/local/lib/python3.10/dist-packages (from tensorflow->ECC2025==0.1.2) (4.25.5)\n",
            "Requirement already satisfied: six>=1.12.0 in /usr/local/lib/python3.10/dist-packages (from tensorflow->ECC2025==0.1.2) (1.17.0)\n",
            "Requirement already satisfied: termcolor>=1.1.0 in /usr/local/lib/python3.10/dist-packages (from tensorflow->ECC2025==0.1.2) (2.5.0)\n",
            "Requirement already satisfied: wrapt>=1.11.0 in /usr/local/lib/python3.10/dist-packages (from tensorflow->ECC2025==0.1.2) (1.17.0)\n",
            "Requirement already satisfied: grpcio<2.0,>=1.24.3 in /usr/local/lib/python3.10/dist-packages (from tensorflow->ECC2025==0.1.2) (1.69.0)\n",
            "Requirement already satisfied: tensorboard<2.18,>=2.17 in /usr/local/lib/python3.10/dist-packages (from tensorflow->ECC2025==0.1.2) (2.17.1)\n",
            "Requirement already satisfied: tensorflow-io-gcs-filesystem>=0.23.1 in /usr/local/lib/python3.10/dist-packages (from tensorflow->ECC2025==0.1.2) (0.37.1)\n",
            "Requirement already satisfied: wheel<1.0,>=0.23.0 in /usr/local/lib/python3.10/dist-packages (from astunparse>=1.6.0->tensorflow->ECC2025==0.1.2) (0.45.1)\n",
            "Collecting ibm-cloud-sdk-core<4.0.0,>=3.22.0 (from ibm-platform-services>=0.22.6->qiskit_ibm_runtime->ECC2025==0.1.2)\n",
            "  Downloading ibm_cloud_sdk_core-3.22.0-py3-none-any.whl.metadata (8.6 kB)\n",
            "Requirement already satisfied: annotated-types>=0.6.0 in /usr/local/lib/python3.10/dist-packages (from pydantic<2.10,>=2.5.0->qiskit_ibm_runtime->ECC2025==0.1.2) (0.7.0)\n",
            "Collecting pydantic-core==2.23.4 (from pydantic<2.10,>=2.5.0->qiskit_ibm_runtime->ECC2025==0.1.2)\n",
            "  Downloading pydantic_core-2.23.4-cp310-cp310-manylinux_2_17_x86_64.manylinux2014_x86_64.whl.metadata (6.6 kB)\n",
            "Requirement already satisfied: charset-normalizer<4,>=2 in /usr/local/lib/python3.10/dist-packages (from requests>=2.19->qiskit_ibm_runtime->ECC2025==0.1.2) (3.4.1)\n",
            "Requirement already satisfied: idna<4,>=2.5 in /usr/local/lib/python3.10/dist-packages (from requests>=2.19->qiskit_ibm_runtime->ECC2025==0.1.2) (3.10)\n",
            "Requirement already satisfied: certifi>=2017.4.17 in /usr/local/lib/python3.10/dist-packages (from requests>=2.19->qiskit_ibm_runtime->ECC2025==0.1.2) (2024.12.14)\n",
            "Requirement already satisfied: cryptography>=1.3 in /usr/local/lib/python3.10/dist-packages (from requests-ntlm>=1.1.0->qiskit_ibm_runtime->ECC2025==0.1.2) (43.0.3)\n",
            "Collecting pyspnego>=0.4.0 (from requests-ntlm>=1.1.0->qiskit_ibm_runtime->ECC2025==0.1.2)\n",
            "  Downloading pyspnego-0.11.2-py3-none-any.whl.metadata (5.4 kB)\n",
            "Collecting pbr>=2.0.0 (from stevedore>=3.0.0->qiskit->ECC2025==0.1.2)\n",
            "  Downloading pbr-6.1.0-py2.py3-none-any.whl.metadata (3.4 kB)\n",
            "Requirement already satisfied: mpmath<1.4,>=1.1.0 in /usr/local/lib/python3.10/dist-packages (from sympy>=1.3->qiskit->ECC2025==0.1.2) (1.3.0)\n",
            "Requirement already satisfied: markdown>=2.6.8 in /usr/local/lib/python3.10/dist-packages (from tensorboard<2.18,>=2.17->tensorflow->ECC2025==0.1.2) (3.7)\n",
            "Requirement already satisfied: tensorboard-data-server<0.8.0,>=0.7.0 in /usr/local/lib/python3.10/dist-packages (from tensorboard<2.18,>=2.17->tensorflow->ECC2025==0.1.2) (0.7.2)\n",
            "Requirement already satisfied: werkzeug>=1.0.1 in /usr/local/lib/python3.10/dist-packages (from tensorboard<2.18,>=2.17->tensorflow->ECC2025==0.1.2) (3.1.3)\n",
            "Requirement already satisfied: markdown-it-py>=2.2.0 in /usr/local/lib/python3.10/dist-packages (from rich->keras->ECC2025==0.1.2) (3.0.0)\n",
            "Requirement already satisfied: pygments<3.0.0,>=2.13.0 in /usr/local/lib/python3.10/dist-packages (from rich->keras->ECC2025==0.1.2) (2.18.0)\n",
            "Requirement already satisfied: cffi>=1.12 in /usr/local/lib/python3.10/dist-packages (from cryptography>=1.3->requests-ntlm>=1.1.0->qiskit_ibm_runtime->ECC2025==0.1.2) (1.17.1)\n",
            "Requirement already satisfied: PyJWT<3.0.0,>=2.8.0 in /usr/local/lib/python3.10/dist-packages (from ibm-cloud-sdk-core<4.0.0,>=3.22.0->ibm-platform-services>=0.22.6->qiskit_ibm_runtime->ECC2025==0.1.2) (2.10.1)\n",
            "Requirement already satisfied: mdurl~=0.1 in /usr/local/lib/python3.10/dist-packages (from markdown-it-py>=2.2.0->rich->keras->ECC2025==0.1.2) (0.1.2)\n",
            "Requirement already satisfied: MarkupSafe>=2.1.1 in /usr/local/lib/python3.10/dist-packages (from werkzeug>=1.0.1->tensorboard<2.18,>=2.17->tensorflow->ECC2025==0.1.2) (3.0.2)\n",
            "Requirement already satisfied: pycparser in /usr/local/lib/python3.10/dist-packages (from cffi>=1.12->cryptography>=1.3->requests-ntlm>=1.1.0->qiskit_ibm_runtime->ECC2025==0.1.2) (2.22)\n",
            "Downloading pyscf-2.7.0-py3-none-manylinux_2_17_x86_64.manylinux2014_x86_64.whl (48.7 MB)\n",
            "\u001b[2K   \u001b[90m━━━━━━━━━━━━━━━━━━━━━━━━━━━━━━━━━━━━━━━━\u001b[0m \u001b[32m48.7/48.7 MB\u001b[0m \u001b[31m22.4 MB/s\u001b[0m eta \u001b[36m0:00:00\u001b[0m\n",
            "\u001b[?25hDownloading qiskit-1.3.1-cp39-abi3-manylinux_2_17_x86_64.manylinux2014_x86_64.whl (6.7 MB)\n",
            "\u001b[2K   \u001b[90m━━━━━━━━━━━━━━━━━━━━━━━━━━━━━━━━━━━━━━━━\u001b[0m \u001b[32m6.7/6.7 MB\u001b[0m \u001b[31m122.6 MB/s\u001b[0m eta \u001b[36m0:00:00\u001b[0m\n",
            "\u001b[?25hDownloading qiskit_aer-0.15.1-cp310-cp310-manylinux_2_17_x86_64.manylinux2014_x86_64.whl (12.3 MB)\n",
            "\u001b[2K   \u001b[90m━━━━━━━━━━━━━━━━━━━━━━━━━━━━━━━━━━━━━━━━\u001b[0m \u001b[32m12.3/12.3 MB\u001b[0m \u001b[31m105.1 MB/s\u001b[0m eta \u001b[36m0:00:00\u001b[0m\n",
            "\u001b[?25hDownloading qiskit_algorithms-0.3.1-py3-none-any.whl (310 kB)\n",
            "\u001b[2K   \u001b[90m━━━━━━━━━━━━━━━━━━━━━━━━━━━━━━━━━━━━━━━━\u001b[0m \u001b[32m310.5/310.5 kB\u001b[0m \u001b[31m26.9 MB/s\u001b[0m eta \u001b[36m0:00:00\u001b[0m\n",
            "\u001b[?25hDownloading qiskit_ibm_runtime-0.34.0-py3-none-any.whl (3.0 MB)\n",
            "\u001b[2K   \u001b[90m━━━━━━━━━━━━━━━━━━━━━━━━━━━━━━━━━━━━━━━━\u001b[0m \u001b[32m3.0/3.0 MB\u001b[0m \u001b[31m100.1 MB/s\u001b[0m eta \u001b[36m0:00:00\u001b[0m\n",
            "\u001b[?25hDownloading qiskit_nature-0.7.2-py3-none-any.whl (2.2 MB)\n",
            "\u001b[2K   \u001b[90m━━━━━━━━━━━━━━━━━━━━━━━━━━━━━━━━━━━━━━━━\u001b[0m \u001b[32m2.2/2.2 MB\u001b[0m \u001b[31m91.0 MB/s\u001b[0m eta \u001b[36m0:00:00\u001b[0m\n",
            "\u001b[?25hDownloading dill-0.3.9-py3-none-any.whl (119 kB)\n",
            "\u001b[2K   \u001b[90m━━━━━━━━━━━━━━━━━━━━━━━━━━━━━━━━━━━━━━━━\u001b[0m \u001b[32m119.4/119.4 kB\u001b[0m \u001b[31m11.0 MB/s\u001b[0m eta \u001b[36m0:00:00\u001b[0m\n",
            "\u001b[?25hDownloading ibm_platform_services-0.59.0-py3-none-any.whl (340 kB)\n",
            "\u001b[2K   \u001b[90m━━━━━━━━━━━━━━━━━━━━━━━━━━━━━━━━━━━━━━━━\u001b[0m \u001b[32m340.8/340.8 kB\u001b[0m \u001b[31m28.5 MB/s\u001b[0m eta \u001b[36m0:00:00\u001b[0m\n",
            "\u001b[?25hDownloading pydantic-2.9.2-py3-none-any.whl (434 kB)\n",
            "\u001b[2K   \u001b[90m━━━━━━━━━━━━━━━━━━━━━━━━━━━━━━━━━━━━━━━━\u001b[0m \u001b[32m434.9/434.9 kB\u001b[0m \u001b[31m38.3 MB/s\u001b[0m eta \u001b[36m0:00:00\u001b[0m\n",
            "\u001b[?25hDownloading pydantic_core-2.23.4-cp310-cp310-manylinux_2_17_x86_64.manylinux2014_x86_64.whl (2.1 MB)\n",
            "\u001b[2K   \u001b[90m━━━━━━━━━━━━━━━━━━━━━━━━━━━━━━━━━━━━━━━━\u001b[0m \u001b[32m2.1/2.1 MB\u001b[0m \u001b[31m90.4 MB/s\u001b[0m eta \u001b[36m0:00:00\u001b[0m\n",
            "\u001b[?25hDownloading requests_ntlm-1.3.0-py3-none-any.whl (6.6 kB)\n",
            "Downloading rustworkx-0.15.1-cp38-abi3-manylinux_2_17_x86_64.manylinux2014_x86_64.whl (2.0 MB)\n",
            "\u001b[2K   \u001b[90m━━━━━━━━━━━━━━━━━━━━━━━━━━━━━━━━━━━━━━━━\u001b[0m \u001b[32m2.0/2.0 MB\u001b[0m \u001b[31m86.7 MB/s\u001b[0m eta \u001b[36m0:00:00\u001b[0m\n",
            "\u001b[?25hDownloading stevedore-5.4.0-py3-none-any.whl (49 kB)\n",
            "\u001b[2K   \u001b[90m━━━━━━━━━━━━━━━━━━━━━━━━━━━━━━━━━━━━━━━━\u001b[0m \u001b[32m49.5/49.5 kB\u001b[0m \u001b[31m5.7 MB/s\u001b[0m eta \u001b[36m0:00:00\u001b[0m\n",
            "\u001b[?25hDownloading symengine-0.13.0-cp310-cp310-manylinux_2_17_x86_64.manylinux2014_x86_64.whl (49.7 MB)\n",
            "\u001b[2K   \u001b[90m━━━━━━━━━━━━━━━━━━━━━━━━━━━━━━━━━━━━━━━━\u001b[0m \u001b[32m49.7/49.7 MB\u001b[0m \u001b[31m11.0 MB/s\u001b[0m eta \u001b[36m0:00:00\u001b[0m\n",
            "\u001b[?25hDownloading ibm_cloud_sdk_core-3.22.0-py3-none-any.whl (69 kB)\n",
            "\u001b[2K   \u001b[90m━━━━━━━━━━━━━━━━━━━━━━━━━━━━━━━━━━━━━━━━\u001b[0m \u001b[32m69.4/69.4 kB\u001b[0m \u001b[31m6.3 MB/s\u001b[0m eta \u001b[36m0:00:00\u001b[0m\n",
            "\u001b[?25hDownloading pbr-6.1.0-py2.py3-none-any.whl (108 kB)\n",
            "\u001b[2K   \u001b[90m━━━━━━━━━━━━━━━━━━━━━━━━━━━━━━━━━━━━━━━━\u001b[0m \u001b[32m108.5/108.5 kB\u001b[0m \u001b[31m10.4 MB/s\u001b[0m eta \u001b[36m0:00:00\u001b[0m\n",
            "\u001b[?25hDownloading pyspnego-0.11.2-py3-none-any.whl (130 kB)\n",
            "\u001b[2K   \u001b[90m━━━━━━━━━━━━━━━━━━━━━━━━━━━━━━━━━━━━━━━━\u001b[0m \u001b[32m130.5/130.5 kB\u001b[0m \u001b[31m14.5 MB/s\u001b[0m eta \u001b[36m0:00:00\u001b[0m\n",
            "\u001b[?25hBuilding wheels for collected packages: ECC2025, pylatexenc\n",
            "  Building wheel for ECC2025 (setup.py) ... \u001b[?25l\u001b[?25hdone\n",
            "  Created wheel for ECC2025: filename=ECC2025-0.1.2-py3-none-any.whl size=6094 sha256=8d083534688c324ab0c6c35059862204a139b8b0a37000431d2e5a0d6b9d7f0e\n",
            "  Stored in directory: /tmp/pip-ephem-wheel-cache-fxtatz8p/wheels/1c/8c/8d/d9fedbb1e70ca3e2547c1a8306696c99a9ce5f3f03641515ee\n",
            "  Building wheel for pylatexenc (setup.py) ... \u001b[?25l\u001b[?25hdone\n",
            "  Created wheel for pylatexenc: filename=pylatexenc-2.10-py3-none-any.whl size=136816 sha256=3314454691e23456ebe7c72aeffd784849d3494fb2bad3b9e043e078b6abc587\n",
            "  Stored in directory: /root/.cache/pip/wheels/d3/31/8b/e09b0386afd80cfc556c00408c9aeea5c35c4d484a9c762fd5\n",
            "Successfully built ECC2025 pylatexenc\n",
            "Installing collected packages: pylatexenc, symengine, rustworkx, pydantic-core, pbr, dill, stevedore, pyscf, pydantic, ibm-cloud-sdk-core, qiskit, pyspnego, ibm-platform-services, requests-ntlm, qiskit_algorithms, qiskit_aer, qiskit_nature, qiskit_ibm_runtime, ECC2025\n",
            "  Attempting uninstall: pydantic-core\n",
            "    Found existing installation: pydantic_core 2.27.2\n",
            "    Uninstalling pydantic_core-2.27.2:\n",
            "      Successfully uninstalled pydantic_core-2.27.2\n",
            "  Attempting uninstall: pydantic\n",
            "    Found existing installation: pydantic 2.10.4\n",
            "    Uninstalling pydantic-2.10.4:\n",
            "      Successfully uninstalled pydantic-2.10.4\n",
            "Successfully installed ECC2025-0.1.2 dill-0.3.9 ibm-cloud-sdk-core-3.22.0 ibm-platform-services-0.59.0 pbr-6.1.0 pydantic-2.9.2 pydantic-core-2.23.4 pylatexenc-2.10 pyscf-2.7.0 pyspnego-0.11.2 qiskit-1.3.1 qiskit_aer-0.15.1 qiskit_algorithms-0.3.1 qiskit_ibm_runtime-0.34.0 qiskit_nature-0.7.2 requests-ntlm-1.3.0 rustworkx-0.15.1 stevedore-5.4.0 symengine-0.13.0\n"
          ]
        }
      ],
      "source": [
        "pip install git+https://github.com/MIROptics/ECC2025.git"
      ]
    },
    {
      "cell_type": "code",
      "execution_count": 2,
      "metadata": {
        "id": "LLwdjhxMzV_F"
      },
      "outputs": [],
      "source": [
        "import numpy as np\n",
        "import matplotlib.pyplot as plt\n",
        "from qiskit.quantum_info import SparsePauliOp, Statevector, \\\n",
        "                                Operator, process_fidelity\n",
        "from qiskit.circuit import Parameter\n",
        "from qiskit import QuantumCircuit, QuantumRegister, ClassicalRegister\n",
        "from scipy.linalg import expm"
      ]
    },
    {
      "cell_type": "markdown",
      "metadata": {
        "id": "meHICGYJzV_H"
      },
      "source": [
        "# Simulación cuántica\n",
        "\n",
        "La simulación de sistemas físicos es una tarea computacional importante con muchas aplicaciones. El núcleo de la simulación de sistemás físicos es resolver las ecuaciones diferenciales que capturan las leyes que gobiernan la dinámica del sistema. En el caso de los sistemas cuánticos, estos son gobernados por la ecuación de Schrödinger\n",
        "\n",
        "$$ i\\frac{d}{dt}|\\psi\\rangle = H |\\psi\\rangle, $$\n",
        "\n",
        "donde $H$ es el Hamiltoniano del sistema. Resolver esta ecuación con medios clásicos es posible. Sin embargo, esto es generalmente ineficiente porque la dimensión del espacio de estados crece exponencial con el número de qubits, es decir, tenemos una cantidad exponencial de ecuaciones diferenciales por resolver.\n",
        "\n",
        "Los computadores cuánticos, los cuales naturalmente evolucionan de acuerdo a la ecuación de Schrödinger, prometen simular eficientemente sistemas cuánticos intratables clásicamente. El propio Richard Feymann, premio nobel en física, proyectaba esta aplicación:\n",
        "\n",
        "\"Nature isn't classical, dammit, and if you want to make a simulation of nature, you'd better make it quantum mechanical, and by golly it's a wonderful problem, because it doesn't look so easy.\"\n",
        "\n",
        "En este taller veremos como simular la conductividad de electrones en un material sólido a través del modelo \"tight-binding\" tanto clásicamente como cuánticamente. Particularmente, el algoritmo de simulación cuántica que utilizaremos será la fórmula de Trotter."
      ]
    },
    {
      "cell_type": "markdown",
      "metadata": {
        "id": "-J9cp1bOzV_J"
      },
      "source": [
        "## Modelo \"tight-binding\"\n",
        "\n",
        "El modelo tight-binding describre el transporte de electrones a través de un material sólido. En este cada átomo es tratado como un qubit, mientras que los electrones ocupan estos qubits y pueden saltar entre ellos. Por ejemplo, consideremos 7 átomos con 1 electrón de conducción, el estado\n",
        "\n",
        "$$ |1\\rangle_6|0\\rangle_5|0\\rangle_4|0\\rangle_3|0\\rangle_2|0\\rangle_1|0\\rangle_0,$$\n",
        "\n",
        "representa un electrón en el átomo 7. El Hamiltoniano que describe este modelo es,\n",
        "\n",
        "$$ H = \\sum_{j} \\epsilon_j Z_j + J \\sum_{j}( X_jX_{j+1} + Y_jY_{j+1} ).$$\n",
        "\n",
        "El primer término describe la energía de cada átomo, mientras que el segundo describe la interacción entre átomos vecinos y el salto de los electrones.\n",
        "\n",
        "<img src=\"https://raw.githubusercontent.com/MIROptics/ECC2025/refs/heads/master/talleres/04_Simulacion_Cuantica_de_Localizacion_de_Anderson/img/ecc24_trotter_1.jpg\"\n",
        "     align=\"left\"\n",
        "     width=\"500\"/>"
      ]
    },
    {
      "cell_type": "markdown",
      "metadata": {
        "id": "wd9yiug0zV_J"
      },
      "source": [
        "### Simulación clásica\n",
        "\n",
        "La solución de la ecuación de Schrödinger cuando el Hamiltoniano es independiente del tiempo es dada por\n",
        "\n",
        "$$ | \\psi(t)\\rangle = U(t)| \\psi(0)\\rangle, $$\n",
        "\n",
        "donde\n",
        "\n",
        "$$U(t)=e^{-iHt},$$\n",
        "\n",
        "es el operador de evolución. [Notemos que esta exponencial actúa sobre el espectro de $H$ y no sobre cada uno de los elementos de $H$](https://en.wikipedia.org/wiki/Matrix_exponential). La simulación clásica del modelo tight binding consiste en calcular numéricamente el operador de evolución $U(t)$. Por simplicidad supondremos que $\\epsilon_j=0$ para todo átomo y $J = 1$.\n",
        "\n",
        "$$ H = \\sum_{j}( X_jX_{j+1} + Y_jY_{j+1} ).$$"
      ]
    },
    {
      "cell_type": "code",
      "execution_count": 3,
      "metadata": {
        "id": "KNR2RITzzV_K"
      },
      "outputs": [],
      "source": [
        "# Primero definimos los operadores de Pauli\n",
        "I = SparsePauliOp.from_list([('I', 1)])\n",
        "X = SparsePauliOp.from_list([('X', 1)])\n",
        "Y = SparsePauliOp.from_list([('Y', 1)])\n",
        "Z = SparsePauliOp.from_list([('Z', 1)])"
      ]
    },
    {
      "cell_type": "code",
      "execution_count": 4,
      "metadata": {
        "id": "OtVrGFq0zV_L"
      },
      "outputs": [],
      "source": [
        "# Definimos el número de qubits\n",
        "num_qubits = 7"
      ]
    },
    {
      "cell_type": "code",
      "execution_count": 5,
      "metadata": {
        "collapsed": true,
        "id": "7ciOIV-XzV_M"
      },
      "outputs": [],
      "source": [
        "# Construimos el Hamiltoniano\n",
        "def H_tb():\n",
        "    op_list = []\n",
        "    for k in range(num_qubits-1):\n",
        "        XX      = num_qubits * ['I']\n",
        "        XX[k]   = 'X'\n",
        "        XX[k+1] = 'X'\n",
        "        XX      = \"\".join(XX)\n",
        "\n",
        "        YY      = num_qubits * ['I']\n",
        "        YY[k]   = 'Y'\n",
        "        YY[k+1] = 'Y'\n",
        "        YY      = \"\".join(YY)\n",
        "\n",
        "        op_list.append((XX,1))\n",
        "        op_list.append((YY,1))\n",
        "    H = SparsePauliOp.from_list(op_list)\n",
        "    return H"
      ]
    },
    {
      "cell_type": "code",
      "execution_count": 6,
      "metadata": {
        "id": "2Az0xwNlzV_M",
        "outputId": "de5a654e-6095-4ced-db7f-bf5f1ec06925",
        "colab": {
          "base_uri": "https://localhost:8080/"
        }
      },
      "outputs": [
        {
          "output_type": "execute_result",
          "data": {
            "text/plain": [
              "SparsePauliOp(['XXIIIII', 'YYIIIII', 'IXXIIII', 'IYYIIII', 'IIXXIII', 'IIYYIII', 'IIIXXII', 'IIIYYII', 'IIIIXXI', 'IIIIYYI', 'IIIIIXX', 'IIIIIYY'],\n",
              "              coeffs=[1.+0.j, 1.+0.j, 1.+0.j, 1.+0.j, 1.+0.j, 1.+0.j, 1.+0.j, 1.+0.j, 1.+0.j,\n",
              " 1.+0.j, 1.+0.j, 1.+0.j])"
            ]
          },
          "metadata": {},
          "execution_count": 6
        }
      ],
      "source": [
        "# Imprimamos el Hamiltoniano\n",
        "H_tb()"
      ]
    },
    {
      "cell_type": "code",
      "execution_count": 7,
      "metadata": {
        "id": "hbMi378bzV_N"
      },
      "outputs": [],
      "source": [
        "# Operador de evolución\n",
        "def U_tb(t):\n",
        "    H = H_tb().to_matrix()\n",
        "    return expm(-1j*H*t)"
      ]
    },
    {
      "cell_type": "code",
      "execution_count": 8,
      "metadata": {
        "id": "b2yI3-xJzV_P",
        "outputId": "508122f0-13b5-4f36-a9cc-fb294f036ea2",
        "colab": {
          "base_uri": "https://localhost:8080/"
        }
      },
      "outputs": [
        {
          "output_type": "execute_result",
          "data": {
            "text/plain": [
              "array([[1.+0.j, 0.+0.j, 0.+0.j, ..., 0.+0.j, 0.+0.j, 0.+0.j],\n",
              "       [0.+0.j, 1.+0.j, 0.+0.j, ..., 0.+0.j, 0.+0.j, 0.+0.j],\n",
              "       [0.+0.j, 0.+0.j, 1.+0.j, ..., 0.+0.j, 0.+0.j, 0.+0.j],\n",
              "       ...,\n",
              "       [0.+0.j, 0.+0.j, 0.+0.j, ..., 1.+0.j, 0.+0.j, 0.+0.j],\n",
              "       [0.+0.j, 0.+0.j, 0.+0.j, ..., 0.+0.j, 1.+0.j, 0.+0.j],\n",
              "       [0.+0.j, 0.+0.j, 0.+0.j, ..., 0.+0.j, 0.+0.j, 1.+0.j]])"
            ]
          },
          "metadata": {},
          "execution_count": 8
        }
      ],
      "source": [
        "# Imprimamos el operador de evolución\n",
        "U_tb(0)"
      ]
    },
    {
      "cell_type": "markdown",
      "metadata": {
        "id": "l8MpL6p5zV_P"
      },
      "source": [
        "Consideremos como estado inicial un electrón en el primer átomo de la izquierda, es decir\n",
        "\n",
        "$$|\\psi(0)\\rangle = |1\\rangle|0\\rangle|0\\rangle|0\\rangle|0\\rangle|0\\rangle|0\\rangle. $$"
      ]
    },
    {
      "cell_type": "code",
      "execution_count": 11,
      "metadata": {
        "id": "nAQiSU73zV_Q",
        "outputId": "e751c0d8-72d8-4066-d584-865ea3e92011",
        "colab": {
          "base_uri": "https://localhost:8080/"
        }
      },
      "outputs": [
        {
          "output_type": "stream",
          "name": "stdout",
          "text": [
            "ket1^ket0^ket0^ket0^ket0^ket0^ket0\n",
            "Statevector([0.+0.j, 0.+0.j, 0.+0.j, 0.+0.j, 0.+0.j, 0.+0.j, 0.+0.j,\n",
            "             0.+0.j, 0.+0.j, 0.+0.j, 0.+0.j, 0.+0.j, 0.+0.j, 0.+0.j,\n",
            "             0.+0.j, 0.+0.j, 0.+0.j, 0.+0.j, 0.+0.j, 0.+0.j, 0.+0.j,\n",
            "             0.+0.j, 0.+0.j, 0.+0.j, 0.+0.j, 0.+0.j, 0.+0.j, 0.+0.j,\n",
            "             0.+0.j, 0.+0.j, 0.+0.j, 0.+0.j, 0.+0.j, 0.+0.j, 0.+0.j,\n",
            "             0.+0.j, 0.+0.j, 0.+0.j, 0.+0.j, 0.+0.j, 0.+0.j, 0.+0.j,\n",
            "             0.+0.j, 0.+0.j, 0.+0.j, 0.+0.j, 0.+0.j, 0.+0.j, 0.+0.j,\n",
            "             0.+0.j, 0.+0.j, 0.+0.j, 0.+0.j, 0.+0.j, 0.+0.j, 0.+0.j,\n",
            "             0.+0.j, 0.+0.j, 0.+0.j, 0.+0.j, 0.+0.j, 0.+0.j, 0.+0.j,\n",
            "             0.+0.j, 1.+0.j, 0.+0.j, 0.+0.j, 0.+0.j, 0.+0.j, 0.+0.j,\n",
            "             0.+0.j, 0.+0.j, 0.+0.j, 0.+0.j, 0.+0.j, 0.+0.j, 0.+0.j,\n",
            "             0.+0.j, 0.+0.j, 0.+0.j, 0.+0.j, 0.+0.j, 0.+0.j, 0.+0.j,\n",
            "             0.+0.j, 0.+0.j, 0.+0.j, 0.+0.j, 0.+0.j, 0.+0.j, 0.+0.j,\n",
            "             0.+0.j, 0.+0.j, 0.+0.j, 0.+0.j, 0.+0.j, 0.+0.j, 0.+0.j,\n",
            "             0.+0.j, 0.+0.j, 0.+0.j, 0.+0.j, 0.+0.j, 0.+0.j, 0.+0.j,\n",
            "             0.+0.j, 0.+0.j, 0.+0.j, 0.+0.j, 0.+0.j, 0.+0.j, 0.+0.j,\n",
            "             0.+0.j, 0.+0.j, 0.+0.j, 0.+0.j, 0.+0.j, 0.+0.j, 0.+0.j,\n",
            "             0.+0.j, 0.+0.j, 0.+0.j, 0.+0.j, 0.+0.j, 0.+0.j, 0.+0.j,\n",
            "             0.+0.j, 0.+0.j],\n",
            "            dims=(2, 2, 2, 2, 2, 2, 2))\n"
          ]
        }
      ],
      "source": [
        "ket0 = Statevector([1,0])\n",
        "ket1 = Statevector([0,1])\n",
        "state_in = eval('ket1'+(num_qubits-1)*'^ket0')\n",
        "#print( 'ket1'+(num_qubits-1)*'^ket0' )\n",
        "state_in"
      ]
    },
    {
      "cell_type": "markdown",
      "metadata": {
        "id": "rGdoBR0wzV_Q"
      },
      "source": [
        "Ahora calculamos la evolución hasta $t=3$ y graficamos la probabilidad de que el electrón esté en cada átomo en función del tiempo."
      ]
    },
    {
      "cell_type": "code",
      "execution_count": 10,
      "metadata": {
        "id": "M_oECMdDzV_Q"
      },
      "outputs": [],
      "source": [
        "times = np.linspace(0, 3, 31)\n",
        "probs_out = np.array([ np.abs(U_tb(t) @ state_in.__array__())**2 for t in times ])"
      ]
    },
    {
      "cell_type": "code",
      "execution_count": 12,
      "metadata": {
        "id": "XYkFW_PTzV_R",
        "outputId": "18fddc4d-a8f9-4402-e8b4-08c54b6cc06c",
        "colab": {
          "base_uri": "https://localhost:8080/",
          "height": 488
        }
      },
      "outputs": [
        {
          "output_type": "execute_result",
          "data": {
            "text/plain": [
              "Text(0, 0.5, 'Tiempo')"
            ]
          },
          "metadata": {},
          "execution_count": 12
        },
        {
          "output_type": "display_data",
          "data": {
            "text/plain": [
              "<Figure size 300x500 with 2 Axes>"
            ],
            "image/png": "[encoded data removed]"
          },
          "metadata": {}
        }
      ],
      "source": [
        "plt.figure(figsize=(3,5), facecolor='white')\n",
        "plt.pcolormesh(np.linspace(0,num_qubits-1,num_qubits),\n",
        "               times,\n",
        "               probs_out[:, 2**np.arange(num_qubits)])\n",
        "\n",
        "plt.colorbar()\n",
        "plt.xlim(6.5, -0.5)\n",
        "plt.xlabel('Qubit')\n",
        "plt.ylabel('Tiempo')"
      ]
    },
    {
      "cell_type": "markdown",
      "metadata": {
        "id": "9cJufSyrzV_R"
      },
      "source": [
        "Vemos que el electrón parte en el átomo de la izquierda, y luego salta a los átomos vecinos hasta llegar al de la derecha. Posteriormente el electrón es reflejado y vuelve al átomo de la izquierda."
      ]
    },
    {
      "cell_type": "markdown",
      "metadata": {
        "id": "IMoh3aVjzV_R"
      },
      "source": [
        "### Simulación Cuántica\n",
        "\n",
        "Podemos simular la dinámica de un sistema cuántico en un computador cuántico mediante la fórmula de Trotter. Esta está dada por\n",
        "\n",
        "$$ e^{A+B} = \\lim_{m \\rightarrow \\infty} \\left( e^{A/m} e^{B/m}  \\right)^m, $$\n",
        "\n",
        "donde $A$ y $B$ son operadores. Podemos pensar que esta es la versión cuántica de la relación clásica $e^{a+b}=e^a e^b$, con $a,b\\in\\mathbb{C}$. Consideremos el Hamiltoniano  $H=\\sum_j H_j$ de $n$ qubits, con $H_j$ operadores que no involucran todos los qubits,\n",
        "\n",
        "$$ H_{j} = X_jX_{j+1} + Y_jY_{j+1},$$\n",
        "\n",
        "donde usaremos $J=1$. Además, su correspondiente operador de evolución es $U(t)= e^{ -it\\sum_j H_j }$. La fórmula de Trotter nos permite approximar esta evolución hasta orden $m$ por\n",
        "\n",
        "$$ U(t) \\approx \\left( \\prod_{j} e^{-itH_j/m}  \\right)^m .$$\n",
        "\n",
        "Para el caso del modelo tight binding, si redefinimos\n",
        "\n",
        "$$ H_{2j} = X_jX_{j+1}, \\qquad H_{2j+1} = Y_jY_{j+1}, $$\n",
        "\n",
        "entonces el operador de evolución puede ser aproximado mediante\n",
        "\n",
        "\\begin{align*}\n",
        "U(t) &\\approx \\left(  e^{-itH_0/m}e^{-itH_{1}/m}\\cdots e^{-itH_{2(n-2)}/m}e^{-itH_{2(n-2)+1}/m} \\right)^m\\\\\n",
        "&= \\left(  e^{-itX_0X_{1}/m}e^{-itY_0Y_{1}/m}\\cdots e^{-itX_{n-2}X_{n-1}/m}e^{-itY_{n-2}Y_{n-1}/m} \\right)^m.\n",
        "\\end{align*}\n",
        "\n",
        "Así, necesitamos construir circuitos que implementen las puertas\n",
        "\n",
        "$$ XX_j(t) = e^{ -itX_jX_{j+1} }, \\qquad YY_j(t) = e^{ -itY_jY_{j+1} }. $$\n",
        "\n",
        "Estas puertas pueden ser aplicadas utilizando la compuerta ZZ y transformaciones de esta.\n",
        "\n"
      ]
    },
    {
      "cell_type": "code",
      "execution_count": 13,
      "metadata": {
        "id": "WGCmJ41HzV_R"
      },
      "outputs": [],
      "source": [
        "# Definimos el parámetro t\n",
        "t = Parameter('t')"
      ]
    },
    {
      "cell_type": "markdown",
      "metadata": {
        "id": "Xe-OHhibzV_R"
      },
      "source": [
        "Puerta ZZ:"
      ]
    },
    {
      "cell_type": "markdown",
      "metadata": {
        "id": "xpBBZvoKzV_R"
      },
      "source": [
        "![gate_ZZ](https://raw.githubusercontent.com/MIROptics/ECC2025/refs/heads/master/talleres/04_Simulacion_Cuantica_de_Localizacion_de_Anderson/img/gate_ZZ.png)"
      ]
    },
    {
      "cell_type": "markdown",
      "metadata": {
        "id": "OFvlI0eH2LYc"
      },
      "source": [
        "[Compuerta RZ](https://docs.quantum.ibm.com/api/qiskit/qiskit.circuit.library.RZGate)"
      ]
    },
    {
      "cell_type": "code",
      "execution_count": 14,
      "metadata": {
        "id": "a84K0vwCzV_R",
        "outputId": "64e3bcaf-9609-434e-d199-f11c908ba762",
        "colab": {
          "base_uri": "https://localhost:8080/",
          "height": 191
        }
      },
      "outputs": [
        {
          "output_type": "execute_result",
          "data": {
            "text/plain": [
              "<Figure size 388.934x200.667 with 1 Axes>"
            ],
            "image/png": "[encoded data removed]"
          },
          "metadata": {},
          "execution_count": 14
        }
      ],
      "source": [
        "# Construimos el circuito ZZ(t)\n",
        "ZZ_qr = QuantumRegister(2)\n",
        "ZZ_qc = QuantumCircuit(ZZ_qr, name='ZZ')\n",
        "\n",
        "### EDITAR BAJO ESTA LINEA (agregar compuertas)\n",
        "\n",
        "ZZ_qc.cx(0,1)\n",
        "ZZ_qc.rz(2*t,1)\n",
        "ZZ_qc.cx(0,1)\n",
        "\n",
        "### NO EDITAR BAJO ESTA LINEA\n",
        "\n",
        "# Convertimos nuestro circuito en una puerta\n",
        "ZZ = ZZ_qc.to_instruction()\n",
        "\n",
        "ZZ_qc.draw('mpl')"
      ]
    },
    {
      "cell_type": "markdown",
      "metadata": {
        "id": "EAdkLGFMzV_S"
      },
      "source": [
        "Puerta XX:"
      ]
    },
    {
      "cell_type": "markdown",
      "metadata": {
        "id": "20tUL57VzV_S"
      },
      "source": [
        "![gate_XX](https://raw.githubusercontent.com/MIROptics/ECC2025/refs/heads/master/talleres/04_Simulacion_Cuantica_de_Localizacion_de_Anderson/img/gate_XX.png)"
      ]
    },
    {
      "cell_type": "code",
      "execution_count": 15,
      "metadata": {
        "id": "PiKMbrYHzV_S",
        "outputId": "e1a37cf9-6c1b-48e5-ec8f-e5ee7b257655",
        "colab": {
          "base_uri": "https://localhost:8080/",
          "height": 191
        }
      },
      "outputs": [
        {
          "output_type": "execute_result",
          "data": {
            "text/plain": [
              "<Figure size 389.136x200.667 with 1 Axes>"
            ],
            "image/png": "[encoded data removed]"
          },
          "metadata": {},
          "execution_count": 15
        }
      ],
      "source": [
        "# Construimos la puerta XX(t) a partir de ZZ(t)\n",
        "XX_qr = QuantumRegister(2)\n",
        "XX_qc = QuantumCircuit(XX_qr, name='XX')\n",
        "\n",
        "### EDITAR BAJO ESTA LINEA (agregar compuerta)\n",
        "XX_qc.h(0)\n",
        "XX_qc.h(1)\n",
        "XX_qc.append(ZZ, [0,1])\n",
        "XX_qc.h(0)\n",
        "XX_qc.h(1)\n",
        "\n",
        "\n",
        "### NO EDITAR BAJO ESTA LINEA\n",
        "\n",
        "# Convertimos nuestro circuito en una puerta\n",
        "XX = XX_qc.to_instruction()\n",
        "\n",
        "XX_qc.draw('mpl')"
      ]
    },
    {
      "cell_type": "markdown",
      "metadata": {
        "id": "I__dB2xFzV_T"
      },
      "source": [
        "PUERTA YY:"
      ]
    },
    {
      "cell_type": "markdown",
      "metadata": {
        "id": "yILdBVuDzV_T"
      },
      "source": [
        "![gate_YY](https://raw.githubusercontent.com/MIROptics/ECC2025/refs/heads/master/talleres/04_Simulacion_Cuantica_de_Localizacion_de_Anderson/img/gate_YY.png)"
      ]
    },
    {
      "cell_type": "markdown",
      "metadata": {
        "id": "xP1UScfxzV_T"
      },
      "source": [
        "HINT: Puertas .s() y .sgd()"
      ]
    },
    {
      "cell_type": "code",
      "execution_count": 16,
      "metadata": {
        "id": "NUdCgiKBzV_T",
        "outputId": "dc52609f-6725-425f-b6f3-c0b801363b57",
        "colab": {
          "base_uri": "https://localhost:8080/",
          "height": 191
        }
      },
      "outputs": [
        {
          "output_type": "execute_result",
          "data": {
            "text/plain": [
              "<Figure size 556.56x200.667 with 1 Axes>"
            ],
            "image/png": "[encoded data removed]"
          },
          "metadata": {},
          "execution_count": 16
        }
      ],
      "source": [
        "# Construimos la puerta YY(t) a partir de ZZ(t)\n",
        "YY_qr = QuantumRegister(2)\n",
        "YY_qc = QuantumCircuit(YY_qr, name='YY')\n",
        "\n",
        "### EDITAR BAJO ESTA LINEA (agregar compuertas)\n",
        "\n",
        "YY_qc.sdg([0,1])\n",
        "YY_qc.h([0,1])\n",
        "\n",
        "\n",
        "YY_qc.append(ZZ, [0,1])\n",
        "YY_qc.h([0,1])\n",
        "\n",
        "YY_qc.s(0)\n",
        "YY_qc.s(1)\n",
        "\n",
        "\n",
        "### NO EDITAR BAJO ESTA LINEA\n",
        "\n",
        "# Convertir el circuito cuantico en una puerta\n",
        "YY = YY_qc.to_instruction()\n",
        "\n",
        "YY_qc.draw('mpl')"
      ]
    },
    {
      "cell_type": "markdown",
      "metadata": {
        "id": "D2G_wqnmzV_U"
      },
      "source": [
        "Ahora construimos el paso de Trotter\n",
        "\n",
        "$$ U_{step}(t) = e^{-itX_0X_{1}/m}e^{-itY_0Y_{1}/m}\\cdots e^{-itX_{n-2}X_{n-1}/m}e^{-itY_{n-2}Y_{n-1}/m} $$"
      ]
    },
    {
      "cell_type": "code",
      "execution_count": 19,
      "metadata": {
        "id": "cjAacMYpzV_U",
        "outputId": "14f631c6-8822-472c-99b9-c373cad5f240",
        "colab": {
          "base_uri": "https://localhost:8080/",
          "height": 513
        }
      },
      "outputs": [
        {
          "output_type": "execute_result",
          "data": {
            "text/plain": [
              "<Figure size 1123.61x618.722 with 1 Axes>"
            ],
            "image/png": "[encoded data removed]"
          },
          "metadata": {},
          "execution_count": 19
        }
      ],
      "source": [
        "Trot_tb_qr = QuantumRegister(num_qubits, 'q')\n",
        "Trot_tb_qc = QuantumCircuit(Trot_tb_qr, name='Trot')\n",
        "\n",
        "for j in range(num_qubits-1):\n",
        "\n",
        "### EDITAR BAJO ESTA LINEA\n",
        "  Trot_tb_qc.append(XX, [j,j+1])\n",
        "  Trot_tb_qc.append(YY, [j,j+1])\n",
        "\n",
        "### NO EDITAR BAJO ESTA LINEA\n",
        "\n",
        "Trot_tb_gate = Trot_tb_qc.to_instruction()\n",
        "#Trot_tb_qc.decompose().draw('mpl')\n",
        "Trot_tb_qc.draw('mpl')"
      ]
    },
    {
      "cell_type": "markdown",
      "metadata": {
        "id": "aPlmUYorzV_U"
      },
      "source": [
        "Construimos la approximación de Trotter,\n",
        "$$ U(t)\\approx \\left[ U_{step}(t) \\right]^m $$"
      ]
    },
    {
      "cell_type": "code",
      "execution_count": 22,
      "metadata": {
        "id": "nCAoXCzMzV_U"
      },
      "outputs": [],
      "source": [
        "def U_trotterize(delta_t, trotter_steps):\n",
        "    qr = QuantumRegister(num_qubits)\n",
        "    qc = QuantumCircuit(qr)\n",
        "\n",
        "    ### EDITAR BAJO ESTA LINEA (Crear el circuito trotterizado con varios pasos de trotter)\n",
        "\n",
        "    for s in range(trotter_steps):\n",
        "      qc.append(Trot_tb_gate, range(num_qubits))\n",
        "\n",
        "    ### NO EDITAR BAJO ESTA LINEA\n",
        "\n",
        "    qc = qc.assign_parameters({t: delta_t})\n",
        "    return qc"
      ]
    },
    {
      "cell_type": "code",
      "execution_count": 23,
      "metadata": {
        "id": "quJA3IUCzV_U",
        "outputId": "c0fa8c97-bad2-4a27-cfcb-c56e3bcca257",
        "colab": {
          "base_uri": "https://localhost:8080/",
          "height": 479
        }
      },
      "outputs": [
        {
          "output_type": "execute_result",
          "data": {
            "text/plain": [
              "<Figure size 1810.93x618.722 with 1 Axes>"
            ],
            "image/png": "[encoded data removed]"
          },
          "metadata": {},
          "execution_count": 23
        }
      ],
      "source": [
        "qc = U_trotterize(0.1, 3)\n",
        "qc.decompose(reps=1).draw('mpl')"
      ]
    },
    {
      "cell_type": "markdown",
      "metadata": {
        "id": "k6C00MQbzV_V"
      },
      "source": [
        "Simulamos la dinámica hasta $t=3$."
      ]
    },
    {
      "cell_type": "code",
      "execution_count": null,
      "metadata": {
        "id": "JQ5yZ-SPzV_V"
      },
      "outputs": [],
      "source": [
        "delta_t = 0.15                   # NO EDITAR dt = t/m\n",
        "time_steps = np.arange(1, 21, 1) # NO EDITAR\n",
        "circuits = []\n",
        "\n",
        "for n_steps in time_steps:\n",
        "    qr = QuantumRegister(num_qubits)\n",
        "    cr = ClassicalRegister(num_qubits)\n",
        "    qc = QuantumCircuit(qr, cr)\n",
        "\n",
        "    ### EDITAR BAJO ESTA LINEA (iniciar electron, agregar circuito trotter, medir)\n",
        "\n",
        "\n",
        "\n",
        "    ### NO EDITAR BAJO ESTA LINEA\n",
        "\n",
        "    circuits.append(qc)\n",
        "\n",
        "qc.draw('mpl')"
      ]
    },
    {
      "cell_type": "code",
      "execution_count": null,
      "metadata": {
        "id": "o22Csb1SzV_V"
      },
      "outputs": [],
      "source": [
        "from qiskit.primitives import Sampler\n",
        "# Usar qiskit primitives statevector simulator\n",
        "\n",
        "sampler = Sampler()\n",
        "probability_density = []\n",
        "\n",
        "for circ in circuits:\n",
        "\n",
        "    job = sampler.run(circ)\n",
        "\n",
        "    # Colectar los resultados del trabajo (job.)\n",
        "    result = job.result()\n",
        "    probs = result.quasi_dists[0]\n",
        "    # print(probs)\n",
        "    probability_density.append([probs.get(2**key,0) for key in range(num_qubits)])\n",
        "\n",
        "\n",
        "probability_density = np.array(probability_density)"
      ]
    },
    {
      "cell_type": "markdown",
      "metadata": {
        "id": "Chn1-UEBzV_V"
      },
      "source": [
        "Graficamos las probabilidades de que el electrón este en cada átomo."
      ]
    },
    {
      "cell_type": "code",
      "execution_count": null,
      "metadata": {
        "id": "y3crWFObzV_V"
      },
      "outputs": [],
      "source": [
        "plt.figure(figsize=(3,5), facecolor='white')\n",
        "plt.pcolormesh(np.linspace(0,num_qubits-1,num_qubits),\n",
        "                time_steps*delta_t,\n",
        "                probability_density[:,::-1])\n",
        "plt.colorbar()\n",
        "plt.xlim(6.5, -0.5)\n",
        "plt.xlabel('Qubit')\n",
        "plt.ylabel('Tiempo')"
      ]
    },
    {
      "cell_type": "markdown",
      "metadata": {
        "id": "iiuxvriGzV_W"
      },
      "source": [
        "Vemos que una dinámica similar al caso clásico, es decir, un transporte del electrón de izquierda a derecha, y después de derecha a izquierda. Sin embargo, como la fórmula de Trotter sólo nos permite aproximar el operador de evolución, la simulación cuántica es levemente distinta a la clásica. ¿De cuánto es este error? Depende del número de pasos de Trotter, lo cual se puede ver en el siguiente gráfico."
      ]
    },
    {
      "cell_type": "code",
      "execution_count": null,
      "metadata": {
        "id": "Qbe2Q22CzV_W"
      },
      "outputs": [],
      "source": [
        "t_target = 0.5\n",
        "U_target = Operator(U_tb(t_target))\n",
        "steps    = np.array([1,10,100])  ## NO EDITAR ESTA LINEA\n",
        "\n",
        "fidelities = []\n",
        "for n in steps:\n",
        "    U_trotter = Operator(U_trotterize(t_target/n, trotter_steps=n))\n",
        "    fidelity  = process_fidelity(U_trotter, target=U_target)\n",
        "    fidelities.append(fidelity)\n",
        "\n",
        "plt.figure(facecolor='white')\n",
        "plt.loglog(steps, 1-np.array(fidelities))\n",
        "plt.ylabel('Trotter error')\n",
        "plt.xlabel('Trotter steps')\n",
        "plt.show()"
      ]
    },
    {
      "cell_type": "markdown",
      "metadata": {
        "id": "hFKaeu7AzV_X"
      },
      "source": [
        "## Localización de Anderson\n",
        "Ahora simularemos cuánticamente el modelo tight binding en un contexto más interesante. La propagación de un electrón en una red cristalina se ve afectado por la introducción de desorden en las energías de cada átomo $\\epsilon_j$, lo que lleva a un fenómeno conocido como localización de Anderson. La inhomogeneidad de la red cristalina causa dispersión y produce una interferencia cuántica que tiende a inhibir la propagación de la partícula, localizándola en una región pequeña de la red.\n",
        "\n",
        "$$ H = \\sum_{j} \\epsilon_j Z_j + X_jX_{j+1} + Y_jY_{j+1}.$$"
      ]
    },
    {
      "cell_type": "markdown",
      "metadata": {
        "id": "GX4yEj44zV_X"
      },
      "source": [
        "<img src=\"https://raw.githubusercontent.com/MIROptics/ECC2025/refs/heads/master/talleres/04_Simulacion_Cuantica_de_Localizacion_de_Anderson/img/ecc24_trotter_2.jpg\"\n",
        "     align=\"left\"\n",
        "     width=\"500\" />"
      ]
    },
    {
      "cell_type": "markdown",
      "metadata": {
        "id": "jw72HGqgzV_X"
      },
      "source": [
        "Phillip Anderson propuso por primera vez en 1958 que la dispersión debida al desorden puede detener completamente el transporte. Antes del descubrimiento de Anderson, los científicos modelaban el desorden cristalino como perturbaciones que dispersaban a los electrones de manera aleatoria, tratando a los electrones como partículas puntuales. Esta lógica, llevó a la descripción del transporte en estos sistemas como un movimiento browniano, en el que subyace la ley de Ohm. Sin embargo, Anderson revisitó el efecto del desorden en la evolución del estado de un electrón, a su vez en un cristal periódico. Anderson analizó el problema en el régimen cuántico, así tomando en cuenta la naturaleza ondulatoria del electrón, y encontró que el movimiento difusivo clásico del electrón se pierde ya que la distribución de probabilidad del electrón se localiza exponencialmente. Por lo tanto, cuando un electrón está inicialmente ubicado en un átomo, su estado no podrá expandirse con el tiempo para cubrir todo el cristal, sino que más bien permanecerá localizado alrededor de su posición inicial. Así, el material dejará de conducir cargas eléctricas y se comportará como un aislante. Este fenómeno de localización es una consecuencia directa de los diferentes caminos de interferencia que surgen de las múltiples dispersiones del electrón con los defectos de la red cristalina."
      ]
    },
    {
      "cell_type": "markdown",
      "metadata": {
        "id": "KCGu6JC-zV_X"
      },
      "source": [
        "Podemos inducir localización de Anderson en este sistema cambiando $\\epsilon_j$ al crear un cuasicristal de Aubry-Andre, que modela la transición metal-aislante. Tenemos que\n",
        "\n",
        "$$ \\epsilon_j=W \\cos(2\\pi\\beta j) ,$$\n",
        "\n",
        "donde $W$ es el tamaño del desorden y $\\beta$ determina la periodicidad del desorden en el cristal."
      ]
    },
    {
      "cell_type": "code",
      "execution_count": null,
      "metadata": {
        "id": "RM-3k3dNzV_X"
      },
      "outputs": [],
      "source": [
        "beta = (np.sqrt(5)-1)/2                                # NO EDITAR\n",
        "AA_patern = np.cos(2*np.pi*beta*np.arange(num_qubits)) # NO EDITAR\n",
        "\n",
        "plt.plot(np.linspace(-0.5,6.5,101),\n",
        "          np.cos(2*np.pi*beta*np.linspace(-0.5,6.5,101)), '--')\n",
        "plt.plot(np.arange(num_qubits), AA_patern, 'o', label=r'$\\epsilon_i$')\n",
        "plt.xlabel('Posición')\n",
        "plt.ylabel('Energía')\n",
        "plt.legend()\n",
        "plt.title('Potential de Aubry-Andre')\n",
        "plt.show()"
      ]
    },
    {
      "cell_type": "markdown",
      "metadata": {
        "id": "LieASh8uzV_Y"
      },
      "source": [
        "Ahora nuestro paso de Trotter incluirá los términos $\\{\\epsilon_j Z_j \\}$, los cuales supusimos nulos en la primera parte del taller, es decir\n",
        "\n",
        "$$ U_{step}(t) = \\left( e^{-itX_0X_{1}/m}e^{-itY_0Y_{1}/m}\\cdots e^{-itX_{n-2}X_{n-1}/m}e^{-itY_{n-2}Y_{n-1}/m} \\right) \\left(e^{-it\\epsilon_0Z_0/m}\\cdots e^{-it\\epsilon_{n-1}Z_{n-1}/m}\\right). $$\n"
      ]
    },
    {
      "cell_type": "code",
      "execution_count": null,
      "metadata": {
        "id": "mtVmmbtdzV_Y"
      },
      "outputs": [],
      "source": [
        "Trot_qr_disorder = QuantumRegister(num_qubits, 'q')\n",
        "Trot_qc_disorder = QuantumCircuit(Trot_qr_disorder, name='Trot disorder')\n",
        "\n",
        "Trot_qc_disorder.append(Trot_tb_gate, range(num_qubits))\n",
        "deltas = [Parameter('delta_{:d}'.format(idx)) for idx in range(num_qubits)]\n",
        "\n",
        "### EDITAR BAJO ESTA LINEA (agregar desorden en cada qubit)\n",
        "### Hint: .rz()\n",
        "\n",
        "\n",
        "\n",
        "### NO EDITAR BAJO ESTA LINEA\n",
        "\n",
        "# Convertir el circuito en una puerta\n",
        "Trot_disorder_gate = Trot_qc_disorder.to_instruction()\n",
        "\n",
        "Trot_qc_disorder.draw('mpl')"
      ]
    },
    {
      "cell_type": "markdown",
      "metadata": {
        "id": "QGGRiovUzV_Z"
      },
      "source": [
        "Simulamos nuevamente la dinámica hasta $t=3$."
      ]
    },
    {
      "cell_type": "code",
      "execution_count": null,
      "metadata": {
        "id": "kKM-r7l5zV_Z"
      },
      "outputs": [],
      "source": [
        "delta_t = 0.15\n",
        "time_steps = np.arange(1, 20, 1)\n",
        "W = 2                     # NO EDITAR\n",
        "disorders = W * AA_patern # NO EDITAR\n",
        "disorder_circuits = []\n",
        "\n",
        "for n_steps in time_steps:\n",
        "\n",
        "    qr = QuantumRegister(num_qubits)\n",
        "    cr = ClassicalRegister(num_qubits)\n",
        "    qc = QuantumCircuit(qr, cr)\n",
        "\n",
        "    qc.x(0)\n",
        "\n",
        "    for _ in range(n_steps):\n",
        "        qc.append(Trot_disorder_gate, range(num_qubits))\n",
        "\n",
        "    qc = qc.assign_parameters({t: delta_t})\n",
        "    qc = qc.assign_parameters({deltas[idx]: disorders[idx] for idx in range(num_qubits)})\n",
        "\n",
        "    qc.measure(qr, cr)\n",
        "    disorder_circuits.append(qc)"
      ]
    },
    {
      "cell_type": "markdown",
      "metadata": {
        "id": "32PyhX0bzV_Z"
      },
      "source": [
        "Graficamos la probabilidad de que el electrón esté en cada átomo."
      ]
    },
    {
      "cell_type": "code",
      "execution_count": null,
      "metadata": {
        "id": "0UigUUudzV_Z"
      },
      "outputs": [],
      "source": [
        "probability_density_localization = []\n",
        "for circ in disorder_circuits:\n",
        "    job2 = sampler.run(circ)\n",
        "    probs = job2.result().quasi_dists[0]\n",
        "    probability_density_localization.append([probs.get(2**key,0)\n",
        "                                              for key in range(num_qubits)])\n",
        "\n",
        "probability_density_localization = np.array(probability_density_localization)"
      ]
    },
    {
      "cell_type": "code",
      "execution_count": null,
      "metadata": {
        "id": "1ycRzCyozV_a"
      },
      "outputs": [],
      "source": [
        "plt.figure(figsize=(3,5), facecolor='white')\n",
        "plt.pcolormesh(np.linspace(0, num_qubits-1, num_qubits),\n",
        "               time_steps*delta_t,\n",
        "               probability_density_localization[:,::-1])\n",
        "plt.colorbar()\n",
        "plt.xlim(6.5, -0.5)\n",
        "plt.xlabel('Qubit')\n",
        "plt.ylabel('Tiempo')"
      ]
    },
    {
      "cell_type": "markdown",
      "metadata": {
        "id": "IhADK9-ozV_a"
      },
      "source": [
        "Vemos que la probabilidad de que el electrón esté en el primer átomo de la izquierda es cercana a 1, mientras que la probabilidad de que esté en los otros átomos es cercana a 0, es decir, el electrón está localizado en el primer átomo!"
      ]
    },
    {
      "cell_type": "markdown",
      "metadata": {
        "id": "4P1s5G3hzV_a"
      },
      "source": [
        "Este taller fue construido por Luciano Pereira y Mauricio Casanova, inspirado en el [IBM quantum Challenge 2022 spring](https://github.com/qiskit-community/ibm-quantum-spring-challenge-2022)."
      ]
    }
  ],
  "metadata": {
    "colab": {
      "provenance": []
    },
    "kernelspec": {
      "display_name": "qiskit",
      "language": "python",
      "name": "python3"
    },
    "language_info": {
      "codemirror_mode": {
        "name": "ipython",
        "version": 3
      },
      "file_extension": ".py",
      "mimetype": "text/x-python",
      "name": "python",
      "nbconvert_exporter": "python",
      "pygments_lexer": "ipython3",
      "version": "3.10.6"
    }
  },
  "nbformat": 4,
  "nbformat_minor": 0
}